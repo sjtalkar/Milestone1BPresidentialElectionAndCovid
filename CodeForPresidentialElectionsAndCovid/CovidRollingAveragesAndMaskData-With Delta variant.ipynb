{
 "cells": [
  {
   "cell_type": "markdown",
   "id": "a3ed4240",
   "metadata": {},
   "source": [
    "# Covid data\n",
    "\n",
    "[ADD INTRO HERE]\n",
    "\n",
    "<b>Section 1a: County level COVID case and election data preparation</b><br>\n",
    "<b>Section 1b: County level COVID case and election chart preparation</b><br>\n",
    "<b>Section 1c: County level main code for COVID cases and elections</b><br>\n",
    "<b>Section 1d: Comments on county level COVID cases and elections</b><br>\n",
    "<b>Section 2a: County level COVID deaths and elections chart preparation</b><br>\n",
    "<b>Section 2b: County level main code for COVID deaths and elections</b><br>\n",
    "<b>Section 3a: State level vaccination and election data/chart preparation</b><br>\n",
    "<b>Section 3b: State level main code for vaccinations and elections</b><br>\n",
    "<b>Section 4: Notes</b><br>\n",
    "<b>Section 5: Sources</b><br>\n"
   ]
  },
  {
   "cell_type": "code",
   "execution_count": 1,
   "id": "8373c34e",
   "metadata": {},
   "outputs": [],
   "source": [
    "from ETL.EtlCovid import *\n",
    "from ETL.EtlElection import *\n",
    "from ETL.EtlVaccine import *\n",
    "from Visualization.VizBase import *\n",
    "from Visualization.VizCovid import *\n",
    "from Visualization.VizVaccine import *\n",
    "from Visualization.VizMask import *"
   ]
  },
  {
   "cell_type": "markdown",
   "id": "87fc458f",
   "metadata": {},
   "source": [
    "## Section 1a: Our Motivation\n",
    "\n",
    "\n",
    "The Nigerian Igbo word “igwebuike”, which means “there is strength in community.” paraphrases the ideal response to the Covid pandemic. To build herd immunity and stop its spread, within and outside borders, a cohesive and co-operative front is called for. However, amidst this pandemic, there is a suggestion that the U.S. has never been as divided as in recent years.\n",
    "\n",
    "In a year of **presidential elections**, the leadership rhetoric and messaging regarding Covid response and behavior, as projected by the media, appears to starkly differ along political ideological lines, specifically, Democrat versus Republican. Usage of masks, openness to vaccination and a general appreciation of the severity of the pandemic, as portrayed to the public, arouses curiosity as to whether the response is truly divided along party lines.\n",
    " \n",
    "We will also explore if other factors, commonly associated with political affiliation, differentiate the response by communities towards US Centers for Disease Control guidelines. Amongst those, employment rates and the urban/rural demographic of the voting population, will be considered. \n",
    "\n",
    "**Questions to answer:**\n",
    "Is there a significant correlation between political affiliation and population response to the COVID pandemic, and the case and death rates?\n",
    "Additional analyses:\n",
    "Did this trend continue during the more recent rise of the Delta variant?\n",
    "Are there other factors that could have affected this correlation? Two prominent ones often mentioned with the political divide are unemployment and the urban/rural demographic.\n",
    "\n",
    "**New article sources**\n",
    "\n",
    "https://fortune.com/2020/11/06/trump-voters-covid-cases-red-counties-2020-election-results\n",
    "An Associated Press analysis reveals that in 376 counties with the highest number of new cases per capita, the overwhelming majority—93% of those counties—went for Trump, a rate above other less severely hit areas./\n",
    "\n",
    "Many Places Hard Hit By COVID-19 Leaned More Toward Trump In 2020 Than 2016\n",
    "Support for President Trump increased in 2020 in many of the U.S. counties that lost lives at the highest rate to COVID-19, according to an NPR analysis.\n",
    "\n",
    "Of the 100 counties with the highest COVID-19 death rates per capita, 68 had a higher proportion of votes cast for Trump this cycle than they did in 2016. This includes both Republican-leaning counties and counties that supported Joe Biden.\n",
    "https://www.npr.org/sections/health-shots/2020/11/06/930897912/many-places-hard-hit-by-covid-19-leaned-more-toward-trump-in-2020-than-2016\n"
   ]
  },
  {
   "cell_type": "markdown",
   "id": "5fc6ba32",
   "metadata": {},
   "source": [
    "## Section 1b: Visualizing Covid cases by party affiliation over the first year of the pandemic\n"
   ]
  },
  {
   "cell_type": "markdown",
   "id": "0e5f607a",
   "metadata": {},
   "source": [
    "\n",
    "The basis of this project began with the observations derived from the visualization below. The **task** is to determine if a there is significant difference in the rate of rise of covid cases between normalized (per 100K) populations that professes affiliation to one party or another (Republican, Democrat and Other). The **data** to be analyzed was the county level covid cases aggregated by segements derived by joining with Presidential election data from 2016 and 2020. We differentiate between populations that voted Repopublican Democrat or Other and also those that switched loyalties.\n",
    "\n",
    "From the visualization we observed that the rate of rise of the infection was markedly higher in the population that voted Republican (remained loyal in 2020 or switched from 2016).  \n",
    "\n",
    "**Effectiveness**:Cases are encoded using length, segemnts are encoded using color and further emphasized using stroke. Annotations are provided with a rolling tooltip as well as legend and a subtitle. \n",
    "\n",
    "\n"
   ]
  },
  {
   "cell_type": "code",
   "execution_count": 2,
   "id": "17e45e4b",
   "metadata": {},
   "outputs": [
    {
     "data": {
      "text/html": [
       "\n",
       "<div id=\"altair-viz-111067e126d74ad489f5411b2e670747\"></div>\n",
       "<script type=\"text/javascript\">\n",
       "  (function(spec, embedOpt){\n",
       "    let outputDiv = document.currentScript.previousElementSibling;\n",
       "    if (outputDiv.id !== \"altair-viz-111067e126d74ad489f5411b2e670747\") {\n",
       "      outputDiv = document.getElementById(\"altair-viz-111067e126d74ad489f5411b2e670747\");\n",
       "    }\n",
       "    const paths = {\n",
       "      \"vega\": \"https://cdn.jsdelivr.net/npm//vega@5?noext\",\n",
       "      \"vega-lib\": \"https://cdn.jsdelivr.net/npm//vega-lib?noext\",\n",
       "      \"vega-lite\": \"https://cdn.jsdelivr.net/npm//vega-lite@4.8.1?noext\",\n",
       "      \"vega-embed\": \"https://cdn.jsdelivr.net/npm//vega-embed@6?noext\",\n",
       "    };\n",
       "\n",
       "    function loadScript(lib) {\n",
       "      return new Promise(function(resolve, reject) {\n",
       "        var s = document.createElement('script');\n",
       "        s.src = paths[lib];\n",
       "        s.async = true;\n",
       "        s.onload = () => resolve(paths[lib]);\n",
       "        s.onerror = () => reject(`Error loading script: ${paths[lib]}`);\n",
       "        document.getElementsByTagName(\"head\")[0].appendChild(s);\n",
       "      });\n",
       "    }\n",
       "\n",
       "    function showError(err) {\n",
       "      outputDiv.innerHTML = `<div class=\"error\" style=\"color:red;\">${err}</div>`;\n",
       "      throw err;\n",
       "    }\n",
       "\n",
       "    function displayChart(vegaEmbed) {\n",
       "      vegaEmbed(outputDiv, spec, embedOpt)\n",
       "        .catch(err => showError(`Javascript Error: ${err.message}<br>This usually means there's a typo in your chart specification. See the javascript console for the full traceback.`));\n",
       "    }\n",
       "\n",
       "    if(typeof define === \"function\" && define.amd) {\n",
       "      requirejs.config({paths});\n",
       "      require([\"vega-embed\"], displayChart, err => showError(`Error loading script: ${err.message}`));\n",
       "    } else if (typeof vegaEmbed === \"function\") {\n",
       "      displayChart(vegaEmbed);\n",
       "    } else {\n",
       "      loadScript(\"vega\")\n",
       "        .then(() => loadScript(\"vega-lite\"))\n",
       "        .then(() => loadScript(\"vega-embed\"))\n",
       "        .catch(showError)\n",
       "        .then(() => displayChart(vegaEmbed));\n",
       "    }\n",
       "  })({\"config\": {\"view\": {\"continuousWidth\": 400, \"continuousHeight\": 300}}, \"hconcat\": [{\"layer\": [{\"data\": {\"url\": \"altair-data-a8321a483d118593cd5a98fb7d7c60c1.json\", \"format\": {\"type\": \"json\"}}, \"mark\": {\"type\": \"line\", \"strokeWidth\": 2}, \"encoding\": {\"color\": {\"condition\": {\"type\": \"nominal\", \"field\": \"changecolor\", \"legend\": null, \"scale\": null, \"selection\": \"Segment\"}, \"value\": \"lightgrey\"}, \"strokeDash\": {\"condition\": {\"value\": [3, 5], \"test\": \"((datum.segmentname === 'To Democrat') || (datum.segmentname === 'To Republican'))\"}, \"value\": [0]}, \"x\": {\"type\": \"temporal\", \"axis\": {\"labelAngle\": 0, \"title\": null}, \"field\": \"date\", \"scale\": {\"domain\": [\"2020-01-01\", \"2020-12-31\"]}, \"timeUnit\": \"yearmonthdate\"}, \"y\": {\"type\": \"quantitative\", \"axis\": {\"title\": \"Cases (rolling mean per 100K)\"}, \"field\": \"cases_avg_per_100k\"}}, \"height\": 400, \"selection\": {\"Segment\": {\"type\": \"multi\", \"fields\": [\"segmentname\", \"changecolor\"]}}, \"title\": {\"text\": [\"Year 2020 Timeseries of Confirmed Covid Cases Per 100K residents (7 day rolling average)\"], \"subtitle\": [\"Click on legend colors to select segment(s) with given political affiliation\", \"Shift + Click for multiple selections\"]}, \"width\": 600}, {\"data\": {\"url\": \"altair-data-a8321a483d118593cd5a98fb7d7c60c1.json\", \"format\": {\"type\": \"json\"}}, \"mark\": \"point\", \"encoding\": {\"opacity\": {\"value\": 0}, \"x\": {\"type\": \"temporal\", \"field\": \"date\"}}, \"selection\": {\"selector001\": {\"type\": \"single\", \"nearest\": true, \"on\": \"mouseover\", \"fields\": [\"date\"], \"empty\": \"none\"}}}, {\"data\": {\"url\": \"altair-data-a8321a483d118593cd5a98fb7d7c60c1.json\", \"format\": {\"type\": \"json\"}}, \"mark\": {\"type\": \"point\", \"dy\": -10, \"size\": 5}, \"encoding\": {\"opacity\": {\"condition\": {\"value\": 1, \"selection\": \"selector001\"}, \"value\": 0}, \"x\": {\"type\": \"temporal\", \"axis\": {\"labelAngle\": 0, \"title\": null}, \"field\": \"date\", \"scale\": {\"domain\": [\"2020-01-01\", \"2020-12-31\"]}, \"timeUnit\": \"yearmonthdate\"}, \"y\": {\"type\": \"quantitative\", \"axis\": {\"title\": \"Cases (rolling mean per 100K)\"}, \"field\": \"cases_avg_per_100k\"}}, \"height\": 400, \"title\": {\"text\": [\"Year 2020 Timeseries of Confirmed Covid Cases Per 100K residents (7 day rolling average)\"], \"subtitle\": [\"Click on legend colors to select segment(s) with given political affiliation\", \"Shift + Click for multiple selections\"]}, \"transform\": [{\"filter\": {\"selection\": \"Segment\"}}], \"width\": 600}, {\"data\": {\"url\": \"altair-data-a8321a483d118593cd5a98fb7d7c60c1.json\", \"format\": {\"type\": \"json\"}}, \"mark\": {\"type\": \"rule\", \"color\": \"darkgrey\", \"strokeDash\": [5, 4], \"strokeWidth\": 2}, \"encoding\": {\"x\": {\"type\": \"temporal\", \"field\": \"date\"}}, \"transform\": [{\"filter\": {\"selection\": \"selector001\"}}]}, {\"data\": {\"url\": \"altair-data-a8321a483d118593cd5a98fb7d7c60c1.json\", \"format\": {\"type\": \"json\"}}, \"mark\": {\"type\": \"text\", \"align\": \"left\", \"dx\": -60, \"dy\": -15, \"fontSize\": 15, \"lineBreak\": \"\\n\"}, \"encoding\": {\"text\": {\"condition\": {\"type\": \"quantitative\", \"field\": \"cases_avg_per_100k\", \"format\": \".2f\", \"selection\": \"selector001\"}, \"value\": \" \"}, \"x\": {\"type\": \"temporal\", \"axis\": {\"labelAngle\": 0, \"title\": null}, \"field\": \"date\", \"scale\": {\"domain\": [\"2020-01-01\", \"2020-12-31\"]}, \"timeUnit\": \"yearmonthdate\"}, \"y\": {\"type\": \"quantitative\", \"axis\": {\"title\": \"Cases (rolling mean per 100K)\"}, \"field\": \"cases_avg_per_100k\"}}, \"height\": 400, \"title\": {\"text\": [\"Year 2020 Timeseries of Confirmed Covid Cases Per 100K residents (7 day rolling average)\"], \"subtitle\": [\"Click on legend colors to select segment(s) with given political affiliation\", \"Shift + Click for multiple selections\"]}, \"transform\": [{\"filter\": {\"selection\": \"Segment\"}}], \"width\": 600}]}, {\"data\": {\"url\": \"altair-data-a8321a483d118593cd5a98fb7d7c60c1.json\", \"format\": {\"type\": \"json\"}}, \"mark\": \"rect\", \"encoding\": {\"color\": {\"condition\": {\"type\": \"nominal\", \"field\": \"changecolor\", \"legend\": null, \"scale\": null, \"selection\": \"Segment\"}, \"value\": \"lightgrey\"}, \"y\": {\"type\": \"nominal\", \"axis\": {\"orient\": \"right\", \"title\": \"Pick affiliation\", \"titleFontSize\": 15}, \"field\": \"segmentname\"}}, \"selection\": {\"Segment\": {\"type\": \"multi\", \"fields\": [\"segmentname\", \"changecolor\"]}}}], \"$schema\": \"https://vega.github.io/schema/vega-lite/v4.8.1.json\"}, {\"mode\": \"vega-lite\"});\n",
       "</script>"
      ],
      "text/plain": [
       "alt.HConcatChart(...)"
      ]
     },
     "execution_count": 2,
     "metadata": {},
     "output_type": "execute_result"
    }
   ],
   "source": [
    "# Get rolling average of cases by segment\n",
    "case_rolling_df = getRollingCaseAverageSegmentLevel()\n",
    "\n",
    "# Create the chart\n",
    "base, make_selector, highlight_segment, radio_select  = createCovidConfirmedTimeseriesChart(case_rolling_df)\n",
    "selectors, rules, points, tooltip_text  = createTooltip(base, radio_select, case_rolling_df)\n",
    "\n",
    "\n",
    "# Bring all the layers together with layering and concatenation\n",
    "( alt.layer(\n",
    "    highlight_segment, selectors, points,rules, tooltip_text ) | make_selector \n",
    ")\n",
    "\n"
   ]
  },
  {
   "cell_type": "markdown",
   "id": "3c791e12",
   "metadata": {},
   "source": [
    "## Section 1c: County level COVID deaths and strength of affiliation\n",
    "\n",
    "To further deepen our understanding, we decided to check if the strength of affiliation as determined by the percentile point change in votes received by party in 2020 over 2016, showed any correlation to the number of deaths in that county.\n",
    "In the chart below, we observe a trend in deaths rising amonfg the counties colored red (affiliation to Republican party).\n",
    "When viewing the counties by Stayed Democrat and Stayed Republican, the trend is furhte emphasized by most Democrat counties lying in the quadrat with low percentile point change ad ow deaths and more Republican counties showiing \n",
    "\n",
    "**Effectiveness:**\n",
    "Percent point change is encode by position along x axis\n",
    "Average deaths per 100k is encoded by length along y axis\n",
    "Annotation provided for the quarter containing higher percentile point change and higher deaths to isolate the trend.\n",
    "Tooltip of county provided.\n",
    "Interactivity provided so that user can select which segment they want to focus on. \n"
   ]
  },
  {
   "cell_type": "code",
   "execution_count": 3,
   "id": "efd18918",
   "metadata": {},
   "outputs": [
    {
     "data": {
      "text/html": [
       "\n",
       "<div id=\"altair-viz-622b48da09c2467e89eb19d887d294fc\"></div>\n",
       "<script type=\"text/javascript\">\n",
       "  (function(spec, embedOpt){\n",
       "    let outputDiv = document.currentScript.previousElementSibling;\n",
       "    if (outputDiv.id !== \"altair-viz-622b48da09c2467e89eb19d887d294fc\") {\n",
       "      outputDiv = document.getElementById(\"altair-viz-622b48da09c2467e89eb19d887d294fc\");\n",
       "    }\n",
       "    const paths = {\n",
       "      \"vega\": \"https://cdn.jsdelivr.net/npm//vega@5?noext\",\n",
       "      \"vega-lib\": \"https://cdn.jsdelivr.net/npm//vega-lib?noext\",\n",
       "      \"vega-lite\": \"https://cdn.jsdelivr.net/npm//vega-lite@4.8.1?noext\",\n",
       "      \"vega-embed\": \"https://cdn.jsdelivr.net/npm//vega-embed@6?noext\",\n",
       "    };\n",
       "\n",
       "    function loadScript(lib) {\n",
       "      return new Promise(function(resolve, reject) {\n",
       "        var s = document.createElement('script');\n",
       "        s.src = paths[lib];\n",
       "        s.async = true;\n",
       "        s.onload = () => resolve(paths[lib]);\n",
       "        s.onerror = () => reject(`Error loading script: ${paths[lib]}`);\n",
       "        document.getElementsByTagName(\"head\")[0].appendChild(s);\n",
       "      });\n",
       "    }\n",
       "\n",
       "    function showError(err) {\n",
       "      outputDiv.innerHTML = `<div class=\"error\" style=\"color:red;\">${err}</div>`;\n",
       "      throw err;\n",
       "    }\n",
       "\n",
       "    function displayChart(vegaEmbed) {\n",
       "      vegaEmbed(outputDiv, spec, embedOpt)\n",
       "        .catch(err => showError(`Javascript Error: ${err.message}<br>This usually means there's a typo in your chart specification. See the javascript console for the full traceback.`));\n",
       "    }\n",
       "\n",
       "    if(typeof define === \"function\" && define.amd) {\n",
       "      requirejs.config({paths});\n",
       "      require([\"vega-embed\"], displayChart, err => showError(`Error loading script: ${err.message}`));\n",
       "    } else if (typeof vegaEmbed === \"function\") {\n",
       "      displayChart(vegaEmbed);\n",
       "    } else {\n",
       "      loadScript(\"vega\")\n",
       "        .then(() => loadScript(\"vega-lite\"))\n",
       "        .then(() => loadScript(\"vega-embed\"))\n",
       "        .catch(showError)\n",
       "        .then(() => displayChart(vegaEmbed));\n",
       "    }\n",
       "  })({\"config\": {\"view\": {\"continuousWidth\": 400, \"continuousHeight\": 300}}, \"layer\": [{\"data\": {\"url\": \"altair-data-905af245d02f176f6f822f85af3e9b3f.json\", \"format\": {\"type\": \"json\"}}, \"mark\": \"circle\", \"encoding\": {\"color\": {\"condition\": {\"type\": \"nominal\", \"field\": \"changecolor\", \"legend\": null, \"scale\": null, \"selection\": \"Affiliation: \"}, \"value\": \"lightgray\"}, \"tooltip\": [{\"type\": \"nominal\", \"field\": \"CTYNAME\", \"title\": \"County Name:\"}, {\"type\": \"nominal\", \"field\": \"state\", \"title\": \"State Name:\"}, {\"type\": \"nominal\", \"field\": \"pct_increase\", \"format\": \".2f\", \"title\": \"Percent Point Increase:\"}], \"x\": {\"type\": \"quantitative\", \"field\": \"pct_increase\", \"title\": \"Percent point change\"}, \"y\": {\"type\": \"quantitative\", \"field\": \"deaths_avg_per_100k\", \"title\": \"Average deaths per 100K\"}}, \"height\": 300, \"selection\": {\"Affiliation: \": {\"type\": \"single\", \"fields\": [\"segmentname\"], \"bind\": {\"input\": \"select\", \"options\": [\"Stayed Republican\", \"Stayed Democrat\", \"To Republican\", \"To Democrat\"], \"name\": \"Affiliation: \"}}}, \"title\": \"Covid deaths in 2020 versus Percentage point difference in votes\", \"width\": 800}, {\"data\": {\"url\": \"altair-data-a2cf18193c19be88afd84610434ea0f7.json\", \"format\": {\"type\": \"json\"}}, \"mark\": {\"type\": \"rule\", \"strokeDash\": [2, 5]}, \"encoding\": {\"x\": {\"type\": \"quantitative\", \"field\": \"x\"}}}, {\"data\": {\"url\": \"altair-data-3a718a1620ad738eced1e873da577a32.json\", \"format\": {\"type\": \"json\"}}, \"mark\": {\"type\": \"rule\", \"strokeDash\": [2, 5]}, \"encoding\": {\"y\": {\"type\": \"quantitative\", \"field\": \"y\"}}}, {\"data\": {\"url\": \"altair-data-73f8f163fc935bec96bfa7473efbbe4e.json\", \"format\": {\"type\": \"json\"}}, \"mark\": {\"type\": \"text\", \"align\": \"left\", \"baseline\": \"middle\", \"dx\": 7, \"fontSize\": 10}, \"encoding\": {\"text\": {\"type\": \"nominal\", \"field\": \"note\"}, \"x\": {\"type\": \"quantitative\", \"field\": \"x\"}, \"y\": {\"type\": \"quantitative\", \"field\": \"y\"}}}], \"$schema\": \"https://vega.github.io/schema/vega-lite/v4.8.1.json\"}, {\"mode\": \"vega-lite\"});\n",
       "</script>"
      ],
      "text/plain": [
       "alt.LayerChart(...)"
      ]
     },
     "execution_count": 3,
     "metadata": {},
     "output_type": "execute_result"
    }
   ],
   "source": [
    "# Display the chart\n",
    "\n",
    "createPercentPointChangeAvgDeathsChart()"
   ]
  },
  {
   "cell_type": "markdown",
   "id": "4c64695c",
   "metadata": {},
   "source": [
    "<b>Covid vaccination data</b><br>\n",
    "   > Source : [COVID-19 Vaccinations in the United States](https://covid.cdc.gov/covid-data-tracker/#vaccinations)<br>\n",
    "     Looking into Covid vaccination percentages by party affiliation measure by 2020 Presidential elections<br>\n",
    "     Data as of : Data as of: June 26, 2021 <br>\n",
    "     Source:  [State level election results](https://dataverse.harvard.edu/file.xhtml?fileId=4299753&version=6.0)\n",
    "    "
   ]
  },
  {
   "cell_type": "markdown",
   "id": "c2ca3d54",
   "metadata": {},
   "source": [
    "## Section 3a: State level vaccination and election data/chart preparation\n",
    "\n",
    "createStateVaccinationChart()<br>\n",
    "createStateVaccinationData()<br>\n",
    "getStateLevelElectionData2020()"
   ]
  },
  {
   "cell_type": "markdown",
   "id": "2129b0ab",
   "metadata": {},
   "source": [
    "## Section 3b: State level main code for vaccinations and elections\n",
    "\n",
    "Creates a chart showing change in percentage of population vaccinated by state. Data is segmented by presidential election choice, implying state political affiliation. Bubble size is proportional to state population. (Questions: Add to legend?)"
   ]
  },
  {
   "cell_type": "code",
   "execution_count": 4,
   "id": "be9105d9",
   "metadata": {},
   "outputs": [],
   "source": [
    "# Create the chart\n",
    "#createStateVaccinationChart()"
   ]
  },
  {
   "cell_type": "markdown",
   "id": "42ea9fd7",
   "metadata": {},
   "source": [
    "## Section 4: Notes\n",
    "\n",
    "    Note about the data\n",
    "            The data in these files is a different version of the data in our main U.S. cases and deaths files.\n",
    "            Instead of cumulative totals, each file contains the daily number of new cases and deaths, the\n",
    "            seven-day rolling average and the seven-day rolling average per 100,000 residents.\n",
    "                      \n",
    "    Confirmed Cases\n",
    "            Confirmed cases are counts of individuals whose coronavirus infections were confirmed by a\n",
    "            laboratory test and reported by a federal, state, territorial or local government agency. Only\n",
    "            tests that detect viral RNA in a sample are considered confirmatory. These are often called\n",
    "            molecular or RT-PCR tests.\n",
    "              \n",
    "            Another dataset : https://dataverse.harvard.edu/file.xhtml?fileId=4593425&version=54.1\n",
    "              \n",
    "            Since the first reported coronavirus case in Washington State on Jan. 21, 2020, The Times has\n",
    "            tracked cases of coronavirus in real time as they were identified after testing. Because of the\n",
    "            widespread shortage of testing, however, the data is necessarily limited in the picture it presents\n",
    "            of the outbreak.\n",
    "              \n",
    "            This data is for cumulative cases\n",
    "            \n",
    "            # We can join the NYTime latest data with population data from census for 2020\n",
    "            df = pd.read_csv('https://raw.githubusercontent.com/nytimes/covid-19-data/master/us-counties.csv')\n",
    "            \n",
    "            \n",
    "  \n",
    "    "
   ]
  },
  {
   "cell_type": "markdown",
   "id": "9beaf9fe",
   "metadata": {},
   "source": [
    "## Section 5: Daily Vaccination Rate Interactive chart \n",
    "\n",
    "Interactive charts allow the user to weild the power to slice and dice and pause and view the data as per questions arising when viewing the visualizations.\n",
    "\n",
    ">Source: Data.CDC.gov [Covid-19 Vaccinaions in the United State Jurisdiction](https://data.cdc.gov/Vaccinations/COVID-19-Vaccinations-in-the-United-States-Jurisdi/unsk-b7fc)\n",
    "\n",
    "> **DISCLAIMER** : This chart design has been borrowed from NPR\n",
    ">[Click here](https://www.npr.org/2021/06/09/1004430257/theres-a-stark-red-blue-divide-when-it-comes-to-states-vaccination-rates) for the original.\n",
    "\n",
    "\n"
   ]
  },
  {
   "cell_type": "code",
   "execution_count": 5,
   "id": "f3124ecb",
   "metadata": {},
   "outputs": [
    {
     "data": {
      "text/html": [
       "\n",
       "<div id=\"altair-viz-9c4e968f1ba04b5d8ea7da494cce7236\"></div>\n",
       "<script type=\"text/javascript\">\n",
       "  (function(spec, embedOpt){\n",
       "    let outputDiv = document.currentScript.previousElementSibling;\n",
       "    if (outputDiv.id !== \"altair-viz-9c4e968f1ba04b5d8ea7da494cce7236\") {\n",
       "      outputDiv = document.getElementById(\"altair-viz-9c4e968f1ba04b5d8ea7da494cce7236\");\n",
       "    }\n",
       "    const paths = {\n",
       "      \"vega\": \"https://cdn.jsdelivr.net/npm//vega@5?noext\",\n",
       "      \"vega-lib\": \"https://cdn.jsdelivr.net/npm//vega-lib?noext\",\n",
       "      \"vega-lite\": \"https://cdn.jsdelivr.net/npm//vega-lite@4.8.1?noext\",\n",
       "      \"vega-embed\": \"https://cdn.jsdelivr.net/npm//vega-embed@6?noext\",\n",
       "    };\n",
       "\n",
       "    function loadScript(lib) {\n",
       "      return new Promise(function(resolve, reject) {\n",
       "        var s = document.createElement('script');\n",
       "        s.src = paths[lib];\n",
       "        s.async = true;\n",
       "        s.onload = () => resolve(paths[lib]);\n",
       "        s.onerror = () => reject(`Error loading script: ${paths[lib]}`);\n",
       "        document.getElementsByTagName(\"head\")[0].appendChild(s);\n",
       "      });\n",
       "    }\n",
       "\n",
       "    function showError(err) {\n",
       "      outputDiv.innerHTML = `<div class=\"error\" style=\"color:red;\">${err}</div>`;\n",
       "      throw err;\n",
       "    }\n",
       "\n",
       "    function displayChart(vegaEmbed) {\n",
       "      vegaEmbed(outputDiv, spec, embedOpt)\n",
       "        .catch(err => showError(`Javascript Error: ${err.message}<br>This usually means there's a typo in your chart specification. See the javascript console for the full traceback.`));\n",
       "    }\n",
       "\n",
       "    if(typeof define === \"function\" && define.amd) {\n",
       "      requirejs.config({paths});\n",
       "      require([\"vega-embed\"], displayChart, err => showError(`Error loading script: ${err.message}`));\n",
       "    } else if (typeof vegaEmbed === \"function\") {\n",
       "      displayChart(vegaEmbed);\n",
       "    } else {\n",
       "      loadScript(\"vega\")\n",
       "        .then(() => loadScript(\"vega-lite\"))\n",
       "        .then(() => loadScript(\"vega-embed\"))\n",
       "        .catch(showError)\n",
       "        .then(() => displayChart(vegaEmbed));\n",
       "    }\n",
       "  })({\"config\": {\"view\": {\"continuousWidth\": 400, \"continuousHeight\": 300}, \"axis\": {\"labelColor\": \"#a9a9a9\"}, \"title\": {\"fontSize\": 15}}, \"layer\": [{\"mark\": {\"type\": \"point\", \"filled\": true, \"opacity\": 1}, \"encoding\": {\"color\": {\"type\": \"nominal\", \"field\": \"party_simplified\", \"legend\": {\"title\": \"Presidential election choice:\"}, \"scale\": {\"domain\": [\"DEMOCRAT\", \"REPUBLICAN\"], \"range\": [\"#237ABD\", \"#CD2128\"]}}, \"size\": {\"type\": \"quantitative\", \"field\": \"Total population\", \"legend\": null, \"scale\": {\"range\": [150, 3000]}}, \"tooltip\": [{\"type\": \"nominal\", \"field\": \"state_po\", \"title\": \"State: \"}], \"x\": {\"type\": \"quantitative\", \"axis\": {\"format\": \"%\", \"orient\": \"top\", \"title\": null, \"values\": [0, 0.1, 0.2, 0.3, 0.4, 0.5, 0.6, 0.7, 0.8, 0.9, 1.0]}, \"field\": \"Percent with one dose\", \"scale\": {\"domain\": [0, 1.0]}}, \"y\": {\"type\": \"quantitative\", \"axis\": null, \"field\": \"y_center\"}}, \"height\": 400, \"selection\": {\"day_num\": {\"type\": \"single\", \"fields\": [\"day_num\"], \"bind\": {\"input\": \"range\", \"max\": 159, \"min\": 0, \"name\": \"Number of days since first vaccination: \", \"step\": 1}, \"init\": {\"day_num\": 159}}}, \"title\": [\"Percentage of state\\u2019s population age 18 and older that has received\", \"at least one dose of a COVID-19 vaccine as of June 26th, 2021\"], \"transform\": [{\"filter\": {\"selection\": \"day_num\"}}], \"width\": 700}, {\"mark\": {\"type\": \"text\", \"align\": \"left\", \"baseline\": \"middle\", \"color\": \"white\", \"dx\": -3, \"fontSize\": 8, \"fontWeight\": \"bold\"}, \"encoding\": {\"text\": {\"type\": \"nominal\", \"field\": \"state_po\"}, \"x\": {\"type\": \"quantitative\", \"field\": \"Percent with one dose\"}, \"y\": {\"type\": \"quantitative\", \"field\": \"y_center\"}}, \"transform\": [{\"filter\": {\"selection\": \"day_num\"}}]}, {\"data\": {\"url\": \"altair-data-719c5f9d68c80d850e629340929d35a6.json\", \"format\": {\"type\": \"json\"}}, \"mark\": {\"type\": \"rule\", \"strokeDash\": [10, 10]}, \"encoding\": {\"x\": {\"type\": \"quantitative\", \"field\": \"x\"}}}], \"data\": {\"url\": \"altair-data-60c7cf46a6a5e9fc3549d9b8d783ce00.json\", \"format\": {\"type\": \"json\"}}, \"$schema\": \"https://vega.github.io/schema/vega-lite/v4.8.1.json\"}, {\"mode\": \"vega-lite\"});\n",
       "</script>"
      ],
      "text/plain": [
       "alt.LayerChart(...)"
      ]
     },
     "execution_count": 5,
     "metadata": {},
     "output_type": "execute_result"
    }
   ],
   "source": [
    "final_chart = createDailyInteractiveVaccinationChart()\n",
    "final_chart"
   ]
  },
  {
   "cell_type": "markdown",
   "id": "c26fcf27",
   "metadata": {},
   "source": [
    "## Section 5  Mask data\n",
    "\n"
   ]
  },
  {
   "cell_type": "code",
   "execution_count": 6,
   "id": "9e8e953d",
   "metadata": {},
   "outputs": [],
   "source": [
    "#fig = createSankeyForAffilitionChange()\n",
    "#fig"
   ]
  },
  {
   "cell_type": "markdown",
   "id": "a1e890c9",
   "metadata": {},
   "source": [
    "# API Calls for vaccination data\n",
    "[Source: CDC ](https://www.cdc.gov/coronavirus/2019-ncov/vaccines/distributing/reporting-counties.html)\n",
    "\n",
    "The lowdown on API calls:\n",
    "To identify and limit rogue requests, most API data provisioning sites require that one acquire an API data token. After creating a Socrata account, I was able to apply for an API token for this application [here](https://data.cdc.gov/signed_out?return_to=%2Fprofile%2Fedit%2Fdeveloper_settings).\n",
    "\n",
    "For each dataset, the CDC website also provides a URL to which this API taken can be applied. The URL request can be request the reposnse in JSON, CSV and other formats. I chose the CSV format.  Other than the token you can concatenate parameters of your GET request to the URL string.\n",
    "FOr instance in our call below, the data was requested in batches of 500,000 rows (all columns - although these can be specifically requested). And so we limit the data tp 500,000 and update the offset by 500,000 with every call.\n",
    "\n",
    "One more note about the APIToken. Since this is a personal secret access key, the token was stored in a **pickle** file (string format serialized) and then retrieved from it for the concatenation. \n",
    "\n",
    "The **requests** module of Python is used to submit this token and parameter enhanced URL. Since we are only interested in reading the data, we issue a **GET** command. \n",
    "\n",
    "The response **text** is converted to csv using the StringIO to convert it to String and then using pandas read_csv call which saves the data along with the headers into a dataframe.\n",
    "\n",
    "The data for the vaciinations are updated on a daily basis by the CDC. Using the API enables us to update the visualization as and when the data gets updated. (We are storing it into a CSV file so that we do not send too many calls to the API endpoint as we develop).\n",
    "\n",
    "\n",
    "**DATA AT COUNTY LEVEL ISSUES**\n",
    "> Exceptions to County-Level Data\n",
    "California does not report the county of residence for persons receiving a vaccine when the resident’s county has a population of fewer than 20,000 people. (CDC)\n",
    "Hawaii does not provide CDC with county-of-residence information. (CDC)\n",
    "Texas provides data that are aggregated at the state level and cannot be stratified by county. (CDC)\n",
    "For several counties in Colorado the percent of population is marked as 0 - this appears to be a reporting and recording issue to me but I am not sure how a large number of counties in Colorado have no vaccination counts at all.(My observation)\n",
    "\n",
    "\n",
    "\n",
    "## The chart below aloows for comparison of two states  for trend of delta variant cases- one selected from the  vaccination graph above and one selected from the dropdown below. The average US trend is also plotted as a baseline.\n",
    "\n",
    "\n",
    "Create a time series chart from the time of vaccinations for US and all states"
   ]
  },
  {
   "cell_type": "code",
   "execution_count": null,
   "id": "c11fe4df",
   "metadata": {},
   "outputs": [],
   "source": []
  },
  {
   "cell_type": "code",
   "execution_count": 7,
   "id": "f8c30caf",
   "metadata": {},
   "outputs": [
    {
     "data": {
      "text/html": [
       "\n",
       "<div id=\"altair-viz-35a8d00583e24a959e229ddf646fdc81\"></div>\n",
       "<script type=\"text/javascript\">\n",
       "  (function(spec, embedOpt){\n",
       "    let outputDiv = document.currentScript.previousElementSibling;\n",
       "    if (outputDiv.id !== \"altair-viz-35a8d00583e24a959e229ddf646fdc81\") {\n",
       "      outputDiv = document.getElementById(\"altair-viz-35a8d00583e24a959e229ddf646fdc81\");\n",
       "    }\n",
       "    const paths = {\n",
       "      \"vega\": \"https://cdn.jsdelivr.net/npm//vega@5?noext\",\n",
       "      \"vega-lib\": \"https://cdn.jsdelivr.net/npm//vega-lib?noext\",\n",
       "      \"vega-lite\": \"https://cdn.jsdelivr.net/npm//vega-lite@4.8.1?noext\",\n",
       "      \"vega-embed\": \"https://cdn.jsdelivr.net/npm//vega-embed@6?noext\",\n",
       "    };\n",
       "\n",
       "    function loadScript(lib) {\n",
       "      return new Promise(function(resolve, reject) {\n",
       "        var s = document.createElement('script');\n",
       "        s.src = paths[lib];\n",
       "        s.async = true;\n",
       "        s.onload = () => resolve(paths[lib]);\n",
       "        s.onerror = () => reject(`Error loading script: ${paths[lib]}`);\n",
       "        document.getElementsByTagName(\"head\")[0].appendChild(s);\n",
       "      });\n",
       "    }\n",
       "\n",
       "    function showError(err) {\n",
       "      outputDiv.innerHTML = `<div class=\"error\" style=\"color:red;\">${err}</div>`;\n",
       "      throw err;\n",
       "    }\n",
       "\n",
       "    function displayChart(vegaEmbed) {\n",
       "      vegaEmbed(outputDiv, spec, embedOpt)\n",
       "        .catch(err => showError(`Javascript Error: ${err.message}<br>This usually means there's a typo in your chart specification. See the javascript console for the full traceback.`));\n",
       "    }\n",
       "\n",
       "    if(typeof define === \"function\" && define.amd) {\n",
       "      requirejs.config({paths});\n",
       "      require([\"vega-embed\"], displayChart, err => showError(`Error loading script: ${err.message}`));\n",
       "    } else if (typeof vegaEmbed === \"function\") {\n",
       "      displayChart(vegaEmbed);\n",
       "    } else {\n",
       "      loadScript(\"vega\")\n",
       "        .then(() => loadScript(\"vega-lite\"))\n",
       "        .then(() => loadScript(\"vega-embed\"))\n",
       "        .catch(showError)\n",
       "        .then(() => displayChart(vegaEmbed));\n",
       "    }\n",
       "  })({\"config\": {\"view\": {\"continuousWidth\": 400, \"continuousHeight\": 300}}, \"vconcat\": [{\"data\": {\"url\": \"https://cdn.jsdelivr.net/npm/vega-datasets@v1.29.0/data/us-10m.json\", \"format\": {\"feature\": \"states\", \"type\": \"topojson\"}}, \"mark\": \"geoshape\", \"encoding\": {\"color\": {\"type\": \"quantitative\", \"condition\": {\"value\": \"lightgray\", \"selection\": \"selector002\"}, \"field\": \"Percent with one dose\", \"scale\": {\"scheme\": \"yelloworangebrown\"}}, \"tooltip\": [{\"type\": \"nominal\", \"field\": \"STNAME\", \"title\": \"State name: \"}, {\"type\": \"quantitative\", \"field\": \"Percent with one dose\", \"title\": \"Population Pct with one shot : \"}]}, \"height\": 500, \"projection\": {\"type\": \"albersUsa\"}, \"selection\": {\"selector002\": {\"type\": \"multi\", \"fields\": [\"STATEFP\"], \"init\": [{\"STATEFP\": 1}]}}, \"transform\": [{\"lookup\": \"id\", \"from\": {\"data\": {\"url\": \"altair-data-b8f9be75aa8fc02e00ca2d3e41d7c7cf.json\", \"format\": {\"type\": \"json\"}}, \"key\": \"STATEFP\", \"fields\": [\"Percent with one dose\", \"STATEFP\", \"STNAME\"]}}], \"width\": 850}, {\"layer\": [{\"layer\": [{\"data\": {\"url\": \"altair-data-d18c881934baf06dc43163feea5a33db.json\", \"format\": {\"type\": \"json\"}}, \"mark\": \"line\", \"encoding\": {\"color\": {\"condition\": {\"type\": \"nominal\", \"field\": \"state\", \"legend\": null, \"scale\": {\"domain\": [\"Alabama\", \"Alaska\", \"Arizona\", \"Arkansas\", \"California\", \"Colorado\", \"Connecticut\", \"Delaware\", \"District of Columbia\", \"Florida\", \"Georgia\", \"Hawaii\", \"Idaho\", \"Illinois\", \"Indiana\", \"Iowa\", \"Kansas\", \"Kentucky\", \"Louisiana\", \"Maine\", \"Maryland\", \"Massachusetts\", \"Michigan\", \"Minnesota\", \"Mississippi\", \"Missouri\", \"Montana\", \"Nebraska\", \"Nevada\", \"New Hampshire\", \"New Jersey\", \"New Mexico\", \"New York\", \"North Carolina\", \"North Dakota\", \"Ohio\", \"Oklahoma\", \"Oregon\", \"Pennsylvania\", \"Rhode Island\", \"South Carolina\", \"South Dakota\", \"Tennessee\", \"Texas\", \"Utah\", \"Vermont\", \"Virginia\", \"Washington\", \"West Virginia\", \"Wisconsin\", \"Wyoming\"], \"range\": [\"#FF0000\", \"#FF0000\", \"#0015BC\", \"#FF0000\", \"#0015BC\", \"#0015BC\", \"#0015BC\", \"#0015BC\", \"#0015BC\", \"#FF0000\", \"#0015BC\", \"#0015BC\", \"#FF0000\", \"#0015BC\", \"#FF0000\", \"#FF0000\", \"#FF0000\", \"#FF0000\", \"#FF0000\", \"#0015BC\", \"#0015BC\", \"#0015BC\", \"#0015BC\", \"#0015BC\", \"#FF0000\", \"#FF0000\", \"#FF0000\", \"#FF0000\", \"#0015BC\", \"#0015BC\", \"#0015BC\", \"#0015BC\", \"#0015BC\", \"#FF0000\", \"#FF0000\", \"#FF0000\", \"#FF0000\", \"#0015BC\", \"#0015BC\", \"#0015BC\", \"#FF0000\", \"#FF0000\", \"#FF0000\", \"#FF0000\", \"#FF0000\", \"#0015BC\", \"#0015BC\", \"#0015BC\", \"#FF0000\", \"#0015BC\", \"#FF0000\"]}, \"selection\": {\"or\": [\"State: \", \"selector002\"]}}, \"value\": \"lightgray\"}, \"detail\": {\"type\": \"nominal\", \"field\": \"party_simplified\"}, \"opacity\": {\"condition\": {\"value\": 1, \"selection\": {\"or\": [\"State: \", \"selector002\"]}}, \"value\": 0.2}, \"tooltip\": [{\"type\": \"nominal\", \"field\": \"state\", \"title\": \"State Name:\"}, {\"type\": \"quantitative\", \"field\": \"cases_avg_per_100k\", \"title\": \"Cases per 100K:\"}], \"x\": {\"type\": \"temporal\", \"field\": \"date\"}, \"y\": {\"type\": \"quantitative\", \"field\": \"cases_avg_per_100k\"}}, \"height\": 300, \"selection\": {\"State: \": {\"type\": \"single\", \"fields\": [\"state\"], \"bind\": {\"input\": \"select\", \"options\": [null, \"Alabama\", \"Alaska\", \"Arizona\", \"Arkansas\", \"California\", \"Colorado\", \"Connecticut\", \"Delaware\", \"District of Columbia\", \"Florida\", \"Georgia\", \"Hawaii\", \"Idaho\", \"Illinois\", \"Indiana\", \"Iowa\", \"Kansas\", \"Kentucky\", \"Louisiana\", \"Maine\", \"Maryland\", \"Massachusetts\", \"Michigan\", \"Minnesota\", \"Mississippi\", \"Missouri\", \"Montana\", \"Nebraska\", \"Nevada\", \"New Hampshire\", \"New Jersey\", \"New Mexico\", \"New York\", \"North Carolina\", \"North Dakota\", \"Ohio\", \"Oklahoma\", \"Oregon\", \"Pennsylvania\", \"Rhode Island\", \"South Carolina\", \"South Dakota\", \"Tennessee\", \"Texas\", \"Utah\", \"Vermont\", \"Virginia\", \"Washington\", \"West Virginia\", \"Wisconsin\", \"Wyoming\"], \"labels\": [\"None\", \"Alabama\", \"Alaska\", \"Arizona\", \"Arkansas\", \"California\", \"Colorado\", \"Connecticut\", \"Delaware\", \"District of Columbia\", \"Florida\", \"Georgia\", \"Hawaii\", \"Idaho\", \"Illinois\", \"Indiana\", \"Iowa\", \"Kansas\", \"Kentucky\", \"Louisiana\", \"Maine\", \"Maryland\", \"Massachusetts\", \"Michigan\", \"Minnesota\", \"Mississippi\", \"Missouri\", \"Montana\", \"Nebraska\", \"Nevada\", \"New Hampshire\", \"New Jersey\", \"New Mexico\", \"New York\", \"North Carolina\", \"North Dakota\", \"Ohio\", \"Oklahoma\", \"Oregon\", \"Pennsylvania\", \"Rhode Island\", \"South Carolina\", \"South Dakota\", \"Tennessee\", \"Texas\", \"Utah\", \"Vermont\", \"Virginia\", \"Washington\", \"West Virginia\", \"Wisconsin\", \"Wyoming\"], \"name\": \"State: \"}, \"init\": {\"state\": \"None\"}}, \"selector002\": {\"type\": \"multi\", \"fields\": [\"STATEFP\"], \"init\": [{\"STATEFP\": 1}]}}, \"title\": \"Covid cases after emergence of Delta variant in the US\", \"width\": 800}, {\"data\": {\"url\": \"altair-data-ed0e7a998c82d532554387c4af8f2edc.json\", \"format\": {\"type\": \"json\"}}, \"mark\": {\"type\": \"line\", \"color\": \"black\", \"strokeDash\": [3, 6], \"strokeWidth\": 3}, \"encoding\": {\"tooltip\": [{\"type\": \"nominal\", \"field\": \"geoid\", \"title\": \"US Country Average Cases:\"}], \"x\": {\"type\": \"temporal\", \"axis\": {\"labelAngle\": 0, \"title\": null}, \"field\": \"date\", \"scale\": {\"domain\": [\"2021-02-13T00:00:00\", \"2021-07-21T00:00:00\"]}, \"timeUnit\": \"yearmonthdate\"}, \"y\": {\"type\": \"quantitative\", \"axis\": {\"title\": \"Cases (rolling mean per 100K)\"}, \"field\": \"cases_avg_per_100k\"}}, \"height\": 400, \"title\": {\"text\": [\"Year 2020 Timeseries of Confirmed Covid Cases Per 100K residents (7 day rolling average)\"], \"subtitle\": [\"Click on legend colors to select segment(s) with given political affiliation\", \"Shift + Click for multiple selections\"]}, \"width\": 600}, {\"data\": {\"url\": \"altair-data-9c61665b8d4e4a697590f3e6096fe2fa.json\", \"format\": {\"type\": \"json\"}}, \"mark\": {\"type\": \"line\", \"color\": \"blue\", \"strokeDash\": [2, 6], \"strokeWidth\": 3}, \"encoding\": {\"tooltip\": [{\"type\": \"quantitative\", \"field\": \"cases_avg_per_100k\", \"title\": \"Stayed Democrat State Average Cases:\"}], \"x\": {\"type\": \"temporal\", \"axis\": {\"labelAngle\": 0, \"title\": null}, \"field\": \"date\", \"scale\": {\"domain\": [\"2021-02-13T00:00:00\", \"2021-07-21T00:00:00\"]}, \"timeUnit\": \"yearmonthdate\"}, \"y\": {\"type\": \"quantitative\", \"axis\": {\"title\": \"Cases (rolling mean per 100K)\"}, \"field\": \"cases_avg_per_100k\"}}, \"height\": 400, \"title\": {\"text\": [\"Year 2020 Timeseries of Confirmed Covid Cases Per 100K residents (7 day rolling average)\"], \"subtitle\": [\"Click on legend colors to select segment(s) with given political affiliation\", \"Shift + Click for multiple selections\"]}, \"width\": 600}, {\"data\": {\"url\": \"altair-data-3cfccb1ddadce3d659c7e7b8b5a2e73c.json\", \"format\": {\"type\": \"json\"}}, \"mark\": {\"type\": \"line\", \"color\": \"red\", \"strokeDash\": [2, 4], \"strokeWidth\": 3}, \"encoding\": {\"tooltip\": [{\"type\": \"quantitative\", \"field\": \"cases_avg_per_100k\", \"title\": \"Stayed Republican State Average Cases:\"}], \"x\": {\"type\": \"temporal\", \"axis\": {\"labelAngle\": 0, \"title\": null}, \"field\": \"date\", \"scale\": {\"domain\": [\"2021-02-13T00:00:00\", \"2021-07-21T00:00:00\"]}, \"timeUnit\": \"yearmonthdate\"}, \"y\": {\"type\": \"quantitative\", \"axis\": {\"title\": \"Cases (rolling mean per 100K)\"}, \"field\": \"cases_avg_per_100k\"}}, \"height\": 400, \"title\": {\"text\": [\"Year 2020 Timeseries of Confirmed Covid Cases Per 100K residents (7 day rolling average)\"], \"subtitle\": [\"Click on legend colors to select segment(s) with given political affiliation\", \"Shift + Click for multiple selections\"]}, \"width\": 600}]}, {\"data\": {\"url\": \"altair-data-d18c881934baf06dc43163feea5a33db.json\", \"format\": {\"type\": \"json\"}}, \"mark\": \"point\", \"encoding\": {\"opacity\": {\"value\": 0}, \"x\": {\"type\": \"temporal\", \"field\": \"date\"}}, \"selection\": {\"selector003\": {\"type\": \"single\", \"nearest\": true, \"on\": \"mouseover\", \"fields\": [\"date\"], \"empty\": \"none\"}}}, {\"data\": {\"url\": \"altair-data-d18c881934baf06dc43163feea5a33db.json\", \"format\": {\"type\": \"json\"}}, \"mark\": {\"type\": \"rule\", \"color\": \"darkgrey\", \"strokeDash\": [5, 4], \"strokeWidth\": 2}, \"encoding\": {\"x\": {\"type\": \"temporal\", \"field\": \"date\"}}, \"transform\": [{\"filter\": {\"selection\": \"selector003\"}}]}, {\"data\": {\"url\": \"altair-data-d18c881934baf06dc43163feea5a33db.json\", \"format\": {\"type\": \"json\"}}, \"mark\": {\"type\": \"text\", \"align\": \"left\", \"dx\": -60, \"dy\": -15, \"fontSize\": 15, \"lineBreak\": \"\\n\"}, \"encoding\": {\"color\": {\"condition\": {\"type\": \"nominal\", \"field\": \"state\", \"legend\": null, \"scale\": {\"domain\": [\"Alabama\", \"Alaska\", \"Arizona\", \"Arkansas\", \"California\", \"Colorado\", \"Connecticut\", \"Delaware\", \"District of Columbia\", \"Florida\", \"Georgia\", \"Hawaii\", \"Idaho\", \"Illinois\", \"Indiana\", \"Iowa\", \"Kansas\", \"Kentucky\", \"Louisiana\", \"Maine\", \"Maryland\", \"Massachusetts\", \"Michigan\", \"Minnesota\", \"Mississippi\", \"Missouri\", \"Montana\", \"Nebraska\", \"Nevada\", \"New Hampshire\", \"New Jersey\", \"New Mexico\", \"New York\", \"North Carolina\", \"North Dakota\", \"Ohio\", \"Oklahoma\", \"Oregon\", \"Pennsylvania\", \"Rhode Island\", \"South Carolina\", \"South Dakota\", \"Tennessee\", \"Texas\", \"Utah\", \"Vermont\", \"Virginia\", \"Washington\", \"West Virginia\", \"Wisconsin\", \"Wyoming\"], \"range\": [\"#FF0000\", \"#FF0000\", \"#0015BC\", \"#FF0000\", \"#0015BC\", \"#0015BC\", \"#0015BC\", \"#0015BC\", \"#0015BC\", \"#FF0000\", \"#0015BC\", \"#0015BC\", \"#FF0000\", \"#0015BC\", \"#FF0000\", \"#FF0000\", \"#FF0000\", \"#FF0000\", \"#FF0000\", \"#0015BC\", \"#0015BC\", \"#0015BC\", \"#0015BC\", \"#0015BC\", \"#FF0000\", \"#FF0000\", \"#FF0000\", \"#FF0000\", \"#0015BC\", \"#0015BC\", \"#0015BC\", \"#0015BC\", \"#0015BC\", \"#FF0000\", \"#FF0000\", \"#FF0000\", \"#FF0000\", \"#0015BC\", \"#0015BC\", \"#0015BC\", \"#FF0000\", \"#FF0000\", \"#FF0000\", \"#FF0000\", \"#FF0000\", \"#0015BC\", \"#0015BC\", \"#0015BC\", \"#FF0000\", \"#0015BC\", \"#FF0000\"]}, \"selection\": {\"or\": [\"State: \", \"selector002\"]}}, \"value\": \"lightgray\"}, \"detail\": {\"type\": \"nominal\", \"field\": \"party_simplified\"}, \"opacity\": {\"condition\": {\"value\": 1, \"selection\": {\"or\": [\"State: \", \"selector002\"]}}, \"value\": 0.2}, \"text\": {\"condition\": {\"type\": \"quantitative\", \"field\": \"cases_avg_per_100k\", \"format\": \".2f\", \"selection\": \"selector003\"}, \"value\": \" \"}, \"x\": {\"type\": \"temporal\", \"field\": \"date\"}, \"y\": {\"type\": \"quantitative\", \"field\": \"cases_avg_per_100k\"}}, \"height\": 300, \"title\": \"Covid cases after emergence of Delta variant in the US\", \"transform\": [{\"filter\": {\"selection\": \"State: \"}}], \"width\": 800}, {\"data\": {\"url\": \"altair-data-d18c881934baf06dc43163feea5a33db.json\", \"format\": {\"type\": \"json\"}}, \"mark\": {\"type\": \"text\", \"align\": \"left\", \"dx\": -60, \"dy\": -15, \"fontSize\": 15, \"lineBreak\": \"\\n\"}, \"encoding\": {\"color\": {\"condition\": {\"type\": \"nominal\", \"field\": \"state\", \"legend\": null, \"scale\": {\"domain\": [\"Alabama\", \"Alaska\", \"Arizona\", \"Arkansas\", \"California\", \"Colorado\", \"Connecticut\", \"Delaware\", \"District of Columbia\", \"Florida\", \"Georgia\", \"Hawaii\", \"Idaho\", \"Illinois\", \"Indiana\", \"Iowa\", \"Kansas\", \"Kentucky\", \"Louisiana\", \"Maine\", \"Maryland\", \"Massachusetts\", \"Michigan\", \"Minnesota\", \"Mississippi\", \"Missouri\", \"Montana\", \"Nebraska\", \"Nevada\", \"New Hampshire\", \"New Jersey\", \"New Mexico\", \"New York\", \"North Carolina\", \"North Dakota\", \"Ohio\", \"Oklahoma\", \"Oregon\", \"Pennsylvania\", \"Rhode Island\", \"South Carolina\", \"South Dakota\", \"Tennessee\", \"Texas\", \"Utah\", \"Vermont\", \"Virginia\", \"Washington\", \"West Virginia\", \"Wisconsin\", \"Wyoming\"], \"range\": [\"#FF0000\", \"#FF0000\", \"#0015BC\", \"#FF0000\", \"#0015BC\", \"#0015BC\", \"#0015BC\", \"#0015BC\", \"#0015BC\", \"#FF0000\", \"#0015BC\", \"#0015BC\", \"#FF0000\", \"#0015BC\", \"#FF0000\", \"#FF0000\", \"#FF0000\", \"#FF0000\", \"#FF0000\", \"#0015BC\", \"#0015BC\", \"#0015BC\", \"#0015BC\", \"#0015BC\", \"#FF0000\", \"#FF0000\", \"#FF0000\", \"#FF0000\", \"#0015BC\", \"#0015BC\", \"#0015BC\", \"#0015BC\", \"#0015BC\", \"#FF0000\", \"#FF0000\", \"#FF0000\", \"#FF0000\", \"#0015BC\", \"#0015BC\", \"#0015BC\", \"#FF0000\", \"#FF0000\", \"#FF0000\", \"#FF0000\", \"#FF0000\", \"#0015BC\", \"#0015BC\", \"#0015BC\", \"#FF0000\", \"#0015BC\", \"#FF0000\"]}, \"selection\": {\"or\": [\"State: \", \"selector002\"]}}, \"value\": \"lightgray\"}, \"detail\": {\"type\": \"nominal\", \"field\": \"party_simplified\"}, \"opacity\": {\"condition\": {\"value\": 1, \"selection\": {\"or\": [\"State: \", \"selector002\"]}}, \"value\": 0.2}, \"text\": {\"condition\": {\"type\": \"quantitative\", \"field\": \"cases_avg_per_100k\", \"format\": \".2f\", \"selection\": \"selector003\"}, \"value\": \" \"}, \"x\": {\"type\": \"temporal\", \"field\": \"date\"}, \"y\": {\"type\": \"quantitative\", \"field\": \"cases_avg_per_100k\"}}, \"height\": 300, \"title\": \"Covid cases after emergence of Delta variant in the US\", \"transform\": [{\"filter\": {\"selection\": \"selector002\"}}], \"width\": 800}, {\"data\": {\"url\": \"altair-data-ed0e7a998c82d532554387c4af8f2edc.json\", \"format\": {\"type\": \"json\"}}, \"mark\": {\"type\": \"text\", \"align\": \"left\", \"dx\": -60, \"dy\": -15, \"fontSize\": 15, \"lineBreak\": \"\\n\"}, \"encoding\": {\"text\": {\"condition\": {\"type\": \"quantitative\", \"field\": \"cases_avg_per_100k\", \"format\": \".2f\", \"selection\": \"selector003\"}, \"value\": \" \"}, \"tooltip\": [{\"type\": \"nominal\", \"field\": \"geoid\", \"title\": \"US Country Average Cases:\"}], \"x\": {\"type\": \"temporal\", \"axis\": {\"labelAngle\": 0, \"title\": null}, \"field\": \"date\", \"scale\": {\"domain\": [\"2021-02-13T00:00:00\", \"2021-07-21T00:00:00\"]}, \"timeUnit\": \"yearmonthdate\"}, \"y\": {\"type\": \"quantitative\", \"axis\": {\"title\": \"Cases (rolling mean per 100K)\"}, \"field\": \"cases_avg_per_100k\"}}, \"height\": 400, \"title\": {\"text\": [\"Year 2020 Timeseries of Confirmed Covid Cases Per 100K residents (7 day rolling average)\"], \"subtitle\": [\"Click on legend colors to select segment(s) with given political affiliation\", \"Shift + Click for multiple selections\"]}, \"width\": 600}, {\"data\": {\"url\": \"altair-data-9c61665b8d4e4a697590f3e6096fe2fa.json\", \"format\": {\"type\": \"json\"}}, \"mark\": {\"type\": \"text\", \"align\": \"left\", \"dx\": -60, \"dy\": -15, \"fontSize\": 15, \"lineBreak\": \"\\n\"}, \"encoding\": {\"text\": {\"condition\": {\"type\": \"quantitative\", \"field\": \"cases_avg_per_100k\", \"format\": \".2f\", \"selection\": \"selector003\"}, \"value\": \" \"}, \"tooltip\": [{\"type\": \"quantitative\", \"field\": \"cases_avg_per_100k\", \"title\": \"Stayed Democrat State Average Cases:\"}], \"x\": {\"type\": \"temporal\", \"axis\": {\"labelAngle\": 0, \"title\": null}, \"field\": \"date\", \"scale\": {\"domain\": [\"2021-02-13T00:00:00\", \"2021-07-21T00:00:00\"]}, \"timeUnit\": \"yearmonthdate\"}, \"y\": {\"type\": \"quantitative\", \"axis\": {\"title\": \"Cases (rolling mean per 100K)\"}, \"field\": \"cases_avg_per_100k\"}}, \"height\": 400, \"title\": {\"text\": [\"Year 2020 Timeseries of Confirmed Covid Cases Per 100K residents (7 day rolling average)\"], \"subtitle\": [\"Click on legend colors to select segment(s) with given political affiliation\", \"Shift + Click for multiple selections\"]}, \"width\": 600}, {\"data\": {\"url\": \"altair-data-3cfccb1ddadce3d659c7e7b8b5a2e73c.json\", \"format\": {\"type\": \"json\"}}, \"mark\": {\"type\": \"text\", \"align\": \"left\", \"dx\": -60, \"dy\": -15, \"fontSize\": 15, \"lineBreak\": \"\\n\"}, \"encoding\": {\"text\": {\"condition\": {\"type\": \"quantitative\", \"field\": \"cases_avg_per_100k\", \"format\": \".2f\", \"selection\": \"selector003\"}, \"value\": \" \"}, \"tooltip\": [{\"type\": \"quantitative\", \"field\": \"cases_avg_per_100k\", \"title\": \"Stayed Republican State Average Cases:\"}], \"x\": {\"type\": \"temporal\", \"axis\": {\"labelAngle\": 0, \"title\": null}, \"field\": \"date\", \"scale\": {\"domain\": [\"2021-02-13T00:00:00\", \"2021-07-21T00:00:00\"]}, \"timeUnit\": \"yearmonthdate\"}, \"y\": {\"type\": \"quantitative\", \"axis\": {\"title\": \"Cases (rolling mean per 100K)\"}, \"field\": \"cases_avg_per_100k\"}}, \"height\": 400, \"title\": {\"text\": [\"Year 2020 Timeseries of Confirmed Covid Cases Per 100K residents (7 day rolling average)\"], \"subtitle\": [\"Click on legend colors to select segment(s) with given political affiliation\", \"Shift + Click for multiple selections\"]}, \"width\": 600}, {\"data\": {\"url\": \"altair-data-d18c881934baf06dc43163feea5a33db.json\", \"format\": {\"type\": \"json\"}}, \"mark\": {\"type\": \"point\", \"dy\": -10, \"size\": 10}, \"encoding\": {\"color\": {\"condition\": {\"type\": \"nominal\", \"field\": \"state\", \"legend\": null, \"scale\": {\"domain\": [\"Alabama\", \"Alaska\", \"Arizona\", \"Arkansas\", \"California\", \"Colorado\", \"Connecticut\", \"Delaware\", \"District of Columbia\", \"Florida\", \"Georgia\", \"Hawaii\", \"Idaho\", \"Illinois\", \"Indiana\", \"Iowa\", \"Kansas\", \"Kentucky\", \"Louisiana\", \"Maine\", \"Maryland\", \"Massachusetts\", \"Michigan\", \"Minnesota\", \"Mississippi\", \"Missouri\", \"Montana\", \"Nebraska\", \"Nevada\", \"New Hampshire\", \"New Jersey\", \"New Mexico\", \"New York\", \"North Carolina\", \"North Dakota\", \"Ohio\", \"Oklahoma\", \"Oregon\", \"Pennsylvania\", \"Rhode Island\", \"South Carolina\", \"South Dakota\", \"Tennessee\", \"Texas\", \"Utah\", \"Vermont\", \"Virginia\", \"Washington\", \"West Virginia\", \"Wisconsin\", \"Wyoming\"], \"range\": [\"#FF0000\", \"#FF0000\", \"#0015BC\", \"#FF0000\", \"#0015BC\", \"#0015BC\", \"#0015BC\", \"#0015BC\", \"#0015BC\", \"#FF0000\", \"#0015BC\", \"#0015BC\", \"#FF0000\", \"#0015BC\", \"#FF0000\", \"#FF0000\", \"#FF0000\", \"#FF0000\", \"#FF0000\", \"#0015BC\", \"#0015BC\", \"#0015BC\", \"#0015BC\", \"#0015BC\", \"#FF0000\", \"#FF0000\", \"#FF0000\", \"#FF0000\", \"#0015BC\", \"#0015BC\", \"#0015BC\", \"#0015BC\", \"#0015BC\", \"#FF0000\", \"#FF0000\", \"#FF0000\", \"#FF0000\", \"#0015BC\", \"#0015BC\", \"#0015BC\", \"#FF0000\", \"#FF0000\", \"#FF0000\", \"#FF0000\", \"#FF0000\", \"#0015BC\", \"#0015BC\", \"#0015BC\", \"#FF0000\", \"#0015BC\", \"#FF0000\"]}, \"selection\": {\"or\": [\"State: \", \"selector002\"]}}, \"value\": \"lightgray\"}, \"detail\": {\"type\": \"nominal\", \"field\": \"party_simplified\"}, \"opacity\": {\"condition\": {\"value\": 1, \"selection\": \"selector003\"}, \"value\": 0}, \"x\": {\"type\": \"temporal\", \"field\": \"date\"}, \"y\": {\"type\": \"quantitative\", \"field\": \"cases_avg_per_100k\"}}, \"height\": 300, \"title\": \"Covid cases after emergence of Delta variant in the US\", \"width\": 800}], \"height\": 300, \"width\": 600}], \"$schema\": \"https://vega.github.io/schema/vega-lite/v4.8.1.json\"}, {\"mode\": \"vega-lite\"});\n",
       "</script>"
      ],
      "text/plain": [
       "alt.VConcatChart(...)"
      ]
     },
     "execution_count": 7,
     "metadata": {},
     "output_type": "execute_result"
    }
   ],
   "source": [
    "# Put the five layers into a chart and bind the data\n",
    "\n",
    "vaccine_chart, us_timeseries, stayed_democrat_timeseries,\\\n",
    "stayed_republican_timeseries,state_cases_delta_chart,\\\n",
    "state_selectors, rules, tooltip_text1,\\\n",
    "tooltip_text2, tooltip_text3, tooltip_text4, tooltip_text5,\\\n",
    "points= createCombinedVaccinationAndDeltaVariantTrend()\n",
    "\n",
    "vaccine_chart & alt.layer(\n",
    "    (state_cases_delta_chart + us_timeseries + stayed_democrat_timeseries + stayed_republican_timeseries), \n",
    "      state_selectors, rules, tooltip_text1, \n",
    "      tooltip_text2, tooltip_text3, tooltip_text4, tooltip_text5,\n",
    "    points\n",
    ").properties(\n",
    "    width=600, height=300\n",
    ")"
   ]
  },
  {
   "cell_type": "markdown",
   "id": "87e309f3",
   "metadata": {},
   "source": [
    "> The New York Times is releasing estimates of mask usage by county in the United States.\n",
    "\n",
    ">This data comes from a large number of interviews conducted online by the global data and survey firm Dynata at the request of The New York Times. The firm asked a question about mask use to obtain 250,000 survey responses between July 2 and July 14, enough data to provide estimates more detailed than the state level. (Several states have imposed new mask requirements since the completion of these interviews.)\n",
    "Specifically, each participant was asked: How often do you wear a mask in public when you expect to be within six feet of another person?\n",
    "\n",
    ">This survey was conducted a single time, and at this point we have no plans to update the data or conduct the survey again.\n",
    "The fields have the following definitions:\n",
    "\n",
    "    COUNTYFP: The county FIPS code.\n",
    "    NEVER: The estimated share of people in this county who would say never in response to the question \n",
    "     “How often do you wear a mask in public when you expect to be within six feet of another person?”\n",
    "    RARELY: The estimated share of people in this county who would say rarely\n",
    "    SOMETIMES: The estimated share of people in this county who would say sometimes\n",
    "    FREQUENTLY: The estimated share of people in this county who would say frequently\n",
    "    ALWAYS: The estimated share of people in this county who would say always\n",
    "    \n",
    "    \n",
    ">What the numbers mean\n",
    "To transform raw survey responses into county-level estimates, the survey data was weighted by age and gender, and survey respondents’ locations were approximated from their ZIP codes. Then estimates of mask-wearing were made for each census tract by taking a weighted average of the 200 nearest responses, with closer responses getting more weight in the average. These tract-level estimates were then rolled up to the county level according to each tract’s total population.\n",
    "\n",
    ">By rolling the estimates up to counties, it reduces a lot of the random noise that is seen at the tract level. In addition, the shapes in the map are constructed from census tracts that have been merged together — this helps in displaying a detailed map, but is less useful than county-level in analyzing the data.\n",
    "\n"
   ]
  },
  {
   "cell_type": "code",
   "execution_count": 8,
   "id": "09a61435",
   "metadata": {},
   "outputs": [
    {
     "data": {
      "text/html": [
       "\n",
       "<div id=\"altair-viz-ffa8de7009084692a43e0f33c34c17ea\"></div>\n",
       "<script type=\"text/javascript\">\n",
       "  (function(spec, embedOpt){\n",
       "    let outputDiv = document.currentScript.previousElementSibling;\n",
       "    if (outputDiv.id !== \"altair-viz-ffa8de7009084692a43e0f33c34c17ea\") {\n",
       "      outputDiv = document.getElementById(\"altair-viz-ffa8de7009084692a43e0f33c34c17ea\");\n",
       "    }\n",
       "    const paths = {\n",
       "      \"vega\": \"https://cdn.jsdelivr.net/npm//vega@5?noext\",\n",
       "      \"vega-lib\": \"https://cdn.jsdelivr.net/npm//vega-lib?noext\",\n",
       "      \"vega-lite\": \"https://cdn.jsdelivr.net/npm//vega-lite@4.8.1?noext\",\n",
       "      \"vega-embed\": \"https://cdn.jsdelivr.net/npm//vega-embed@6?noext\",\n",
       "    };\n",
       "\n",
       "    function loadScript(lib) {\n",
       "      return new Promise(function(resolve, reject) {\n",
       "        var s = document.createElement('script');\n",
       "        s.src = paths[lib];\n",
       "        s.async = true;\n",
       "        s.onload = () => resolve(paths[lib]);\n",
       "        s.onerror = () => reject(`Error loading script: ${paths[lib]}`);\n",
       "        document.getElementsByTagName(\"head\")[0].appendChild(s);\n",
       "      });\n",
       "    }\n",
       "\n",
       "    function showError(err) {\n",
       "      outputDiv.innerHTML = `<div class=\"error\" style=\"color:red;\">${err}</div>`;\n",
       "      throw err;\n",
       "    }\n",
       "\n",
       "    function displayChart(vegaEmbed) {\n",
       "      vegaEmbed(outputDiv, spec, embedOpt)\n",
       "        .catch(err => showError(`Javascript Error: ${err.message}<br>This usually means there's a typo in your chart specification. See the javascript console for the full traceback.`));\n",
       "    }\n",
       "\n",
       "    if(typeof define === \"function\" && define.amd) {\n",
       "      requirejs.config({paths});\n",
       "      require([\"vega-embed\"], displayChart, err => showError(`Error loading script: ${err.message}`));\n",
       "    } else if (typeof vegaEmbed === \"function\") {\n",
       "      displayChart(vegaEmbed);\n",
       "    } else {\n",
       "      loadScript(\"vega\")\n",
       "        .then(() => loadScript(\"vega-lite\"))\n",
       "        .then(() => loadScript(\"vega-embed\"))\n",
       "        .catch(showError)\n",
       "        .then(() => displayChart(vegaEmbed));\n",
       "    }\n",
       "  })({\"config\": {\"view\": {\"continuousWidth\": 400, \"continuousHeight\": 300}}, \"vconcat\": [{\"data\": {\"url\": \"https://cdn.jsdelivr.net/npm/vega-datasets@v1.29.0/data/us-10m.json\", \"format\": {\"feature\": \"counties\", \"type\": \"topojson\"}}, \"mark\": {\"type\": \"geoshape\", \"stroke\": \"#706545\", \"strokeWidth\": 0.1}, \"encoding\": {\"color\": {\"type\": \"nominal\", \"condition\": {\"value\": \"#b38449\", \"selection\": \"selector004\"}, \"field\": \"range_color\", \"scale\": null}, \"tooltip\": [{\"type\": \"nominal\", \"field\": \"CTYNAME\", \"title\": \"County name: \"}, {\"type\": \"nominal\", \"field\": \"mask_usage_type\", \"title\": \"Mask Usage Type: \"}, {\"type\": \"quantitative\", \"field\": \"mask_usage\", \"format\": \".0%\", \"title\": \"Mask Usage Percent: \"}]}, \"height\": 500, \"projection\": {\"type\": \"albersUsa\"}, \"selection\": {\"selector004\": {\"type\": \"single\", \"fields\": [\"range_color\"], \"init\": {\"range_color\": \"#FE0000\"}}}, \"title\": {\"text\": [\"Frequent Mask Usage From Survey Response by County and Political Affiliation\"], \"subtitle\": [\"Hover for tooltip with state and mask usage percent value\", \"Click on legend colors for selecting counties with given political affiliation\", \"and chosen range of mask usage\"]}, \"transform\": [{\"lookup\": \"id\", \"from\": {\"data\": {\"url\": \"altair-data-377df89019ee5b09aec1bf5b8d76b00a.json\", \"format\": {\"type\": \"json\"}}, \"key\": \"COUNTYFP\", \"fields\": [\"COUNTYFP\", \"CTYNAME\", \"mask_usage_type\", \"mask_usage\", \"mask_usage_range\", \"range_color\"]}}], \"width\": 750}, {\"hconcat\": [{\"data\": {\"url\": \"altair-data-377df89019ee5b09aec1bf5b8d76b00a.json\", \"format\": {\"type\": \"json\"}}, \"mark\": \"bar\", \"encoding\": {\"color\": {\"type\": \"nominal\", \"field\": \"segmentname\", \"legend\": {\"title\": \"Voted(2020)\"}, \"scale\": {\"domain\": [\"Republican\", \"Democrat\"], \"range\": [\"#FE0000\", \"#0015BC\"]}}, \"x\": {\"type\": \"quantitative\", \"aggregate\": \"mean\", \"field\": \"mask_usage\", \"title\": null}, \"y\": {\"type\": \"nominal\", \"axis\": {\"orient\": \"right\"}, \"field\": \"mask_usage_range\", \"title\": null}}, \"title\": \"Avg. Frequent usage\", \"width\": 100}, {\"data\": {\"url\": \"altair-data-0d924f8c879b925bc0c9b45df7aee7d6.json\", \"format\": {\"type\": \"json\"}}, \"mark\": {\"type\": \"point\", \"filled\": true, \"size\": 100}, \"encoding\": {\"color\": {\"type\": \"nominal\", \"condition\": {\"value\": \"#b38449\", \"selection\": \"selector004\"}, \"field\": \"mask_usage_range\", \"legend\": null, \"scale\": {\"domain\": [\"Below average (<=50%)\", \"Average (50%-80%)\", \"Exceptional (> 80%)\"], \"range\": [\"#F2A595\", \"#EE8778\", \"#FE0000\"]}}, \"y\": {\"type\": \"nominal\", \"axis\": {\"orient\": \"right\"}, \"field\": \"mask_usage_range\", \"sort\": [\"Below average (<=50%)\", \"Average (50%-80%)\", \"Exceptional (> 80%)\"], \"title\": null}}, \"selection\": {\"selector004\": {\"type\": \"single\", \"fields\": [\"range_color\"], \"init\": {\"range_color\": \"#FE0000\"}}}, \"title\": \"Select: Republican(2020)\", \"width\": 40}, {\"data\": {\"url\": \"altair-data-8f0367543c22e067a53f6df7e4c978fc.json\", \"format\": {\"type\": \"json\"}}, \"mark\": {\"type\": \"point\", \"filled\": true, \"size\": 100}, \"encoding\": {\"color\": {\"type\": \"nominal\", \"condition\": {\"value\": \"#b38449\", \"selection\": \"selector004\"}, \"field\": \"mask_usage_range\", \"legend\": null, \"scale\": {\"domain\": [\"Below average (<=50%)\", \"Average (50%-80%)\", \"Exceptional (> 80%)\"], \"range\": [\"#C5DDF9\", \"#3CA0EE\", \"#0015BC\"]}}, \"y\": {\"type\": \"nominal\", \"axis\": {\"orient\": \"right\"}, \"field\": \"mask_usage_range\", \"sort\": [\"Below average (<=50%)\", \"Average (50%-80%)\", \"Exceptional (> 80%)\"], \"title\": null}}, \"selection\": {\"selector004\": {\"type\": \"single\", \"fields\": [\"range_color\"], \"init\": {\"range_color\": \"#FE0000\"}}}, \"title\": \"Democrat(2020)\", \"width\": 40}], \"resolve\": {\"scale\": {\"color\": \"independent\"}}}], \"$schema\": \"https://vega.github.io/schema/vega-lite/v4.8.1.json\"}, {\"mode\": \"vega-lite\"});\n",
       "</script>"
      ],
      "text/plain": [
       "alt.VConcatChart(...)"
      ]
     },
     "execution_count": 8,
     "metadata": {},
     "output_type": "execute_result"
    }
   ],
   "source": [
    "#createCombinedElectoralAndMaskUsageCharts().configure_view(strokeOpacity=0)\n",
    "county_mask_chart, legend_republican, legend_democrat, average_mask_chart =\\\n",
    "createFreqCountyMaskUsageWithRanges('FREQUENT')\n",
    "(\n",
    "    ( county_mask_chart) &\n",
    "    ( average_mask_chart | legend_republican | legend_democrat  \n",
    "    ).resolve_scale(\n",
    "                    color=\"independent\"\n",
    "                    )\n",
    ")\n",
    "  "
   ]
  },
  {
   "cell_type": "code",
   "execution_count": 9,
   "id": "ddce494a",
   "metadata": {},
   "outputs": [
    {
     "data": {
      "text/html": [
       "\n",
       "<div id=\"altair-viz-22fd5321ab7849088c6eb9e082646abc\"></div>\n",
       "<script type=\"text/javascript\">\n",
       "  (function(spec, embedOpt){\n",
       "    let outputDiv = document.currentScript.previousElementSibling;\n",
       "    if (outputDiv.id !== \"altair-viz-22fd5321ab7849088c6eb9e082646abc\") {\n",
       "      outputDiv = document.getElementById(\"altair-viz-22fd5321ab7849088c6eb9e082646abc\");\n",
       "    }\n",
       "    const paths = {\n",
       "      \"vega\": \"https://cdn.jsdelivr.net/npm//vega@5?noext\",\n",
       "      \"vega-lib\": \"https://cdn.jsdelivr.net/npm//vega-lib?noext\",\n",
       "      \"vega-lite\": \"https://cdn.jsdelivr.net/npm//vega-lite@4.8.1?noext\",\n",
       "      \"vega-embed\": \"https://cdn.jsdelivr.net/npm//vega-embed@6?noext\",\n",
       "    };\n",
       "\n",
       "    function loadScript(lib) {\n",
       "      return new Promise(function(resolve, reject) {\n",
       "        var s = document.createElement('script');\n",
       "        s.src = paths[lib];\n",
       "        s.async = true;\n",
       "        s.onload = () => resolve(paths[lib]);\n",
       "        s.onerror = () => reject(`Error loading script: ${paths[lib]}`);\n",
       "        document.getElementsByTagName(\"head\")[0].appendChild(s);\n",
       "      });\n",
       "    }\n",
       "\n",
       "    function showError(err) {\n",
       "      outputDiv.innerHTML = `<div class=\"error\" style=\"color:red;\">${err}</div>`;\n",
       "      throw err;\n",
       "    }\n",
       "\n",
       "    function displayChart(vegaEmbed) {\n",
       "      vegaEmbed(outputDiv, spec, embedOpt)\n",
       "        .catch(err => showError(`Javascript Error: ${err.message}<br>This usually means there's a typo in your chart specification. See the javascript console for the full traceback.`));\n",
       "    }\n",
       "\n",
       "    if(typeof define === \"function\" && define.amd) {\n",
       "      requirejs.config({paths});\n",
       "      require([\"vega-embed\"], displayChart, err => showError(`Error loading script: ${err.message}`));\n",
       "    } else if (typeof vegaEmbed === \"function\") {\n",
       "      displayChart(vegaEmbed);\n",
       "    } else {\n",
       "      loadScript(\"vega\")\n",
       "        .then(() => loadScript(\"vega-lite\"))\n",
       "        .then(() => loadScript(\"vega-embed\"))\n",
       "        .catch(showError)\n",
       "        .then(() => displayChart(vegaEmbed));\n",
       "    }\n",
       "  })({\"config\": {\"view\": {\"continuousWidth\": 400, \"continuousHeight\": 300}}, \"vconcat\": [{\"data\": {\"url\": \"https://cdn.jsdelivr.net/npm/vega-datasets@v1.29.0/data/us-10m.json\", \"format\": {\"feature\": \"counties\", \"type\": \"topojson\"}}, \"mark\": {\"type\": \"geoshape\", \"stroke\": \"#706545\", \"strokeWidth\": 0.1}, \"encoding\": {\"color\": {\"type\": \"nominal\", \"condition\": {\"value\": \"#b38449\", \"selection\": \"selector005\"}, \"field\": \"range_color\", \"scale\": null}, \"tooltip\": [{\"type\": \"nominal\", \"field\": \"CTYNAME\", \"title\": \"County name: \"}, {\"type\": \"nominal\", \"field\": \"mask_usage_type\", \"title\": \"Mask Usage Type: \"}, {\"type\": \"quantitative\", \"field\": \"mask_usage\", \"format\": \".0%\", \"title\": \"Mask Usage Percent: \"}]}, \"height\": 500, \"projection\": {\"type\": \"albersUsa\"}, \"selection\": {\"selector005\": {\"type\": \"single\", \"fields\": [\"range_color\"], \"init\": {\"range_color\": \"#FE0000\"}}}, \"title\": {\"text\": [\"Infrequent Mask Usage From Survey Response by County and Political Affiliation\"], \"subtitle\": [\"Hover for tooltip with state and mask usage percent value\", \"Click on legend colors for selecting counties with given political affiliation\", \"and chosen range of mask usage\"]}, \"transform\": [{\"lookup\": \"id\", \"from\": {\"data\": {\"url\": \"altair-data-9293bcb9629ec812e43cdfb87b81fdf3.json\", \"format\": {\"type\": \"json\"}}, \"key\": \"COUNTYFP\", \"fields\": [\"COUNTYFP\", \"CTYNAME\", \"mask_usage_type\", \"mask_usage\", \"mask_usage_range\", \"range_color\"]}}], \"width\": 750}, {\"hconcat\": [{\"data\": {\"url\": \"altair-data-9293bcb9629ec812e43cdfb87b81fdf3.json\", \"format\": {\"type\": \"json\"}}, \"mark\": \"bar\", \"encoding\": {\"color\": {\"type\": \"nominal\", \"field\": \"segmentname\", \"legend\": {\"title\": \"Voted(2020)\"}, \"scale\": {\"domain\": [\"Republican\", \"Democrat\"], \"range\": [\"#FE0000\", \"#0015BC\"]}}, \"x\": {\"type\": \"quantitative\", \"aggregate\": \"mean\", \"field\": \"mask_usage\", \"title\": null}, \"y\": {\"type\": \"nominal\", \"axis\": {\"orient\": \"right\"}, \"field\": \"mask_usage_range\", \"title\": null}}, \"title\": \"Avg. Infrequent usage\", \"width\": 100}, {\"data\": {\"url\": \"altair-data-df6ecd45be52370f1bb3beecf6028416.json\", \"format\": {\"type\": \"json\"}}, \"mark\": {\"type\": \"point\", \"filled\": true, \"size\": 100}, \"encoding\": {\"color\": {\"type\": \"nominal\", \"condition\": {\"value\": \"#b38449\", \"selection\": \"selector005\"}, \"field\": \"mask_usage_range\", \"legend\": null, \"scale\": {\"domain\": [\"Below average (<=50%)\", \"Average (50%-80%)\", \"Exceptional (> 80%)\"], \"range\": [\"#F2A595\", \"#EE8778\", \"#FE0000\"]}}, \"y\": {\"type\": \"nominal\", \"axis\": {\"orient\": \"right\"}, \"field\": \"mask_usage_range\", \"sort\": [\"Below average (<=50%)\", \"Average (50%-80%)\", \"Exceptional (> 80%)\"], \"title\": null}}, \"selection\": {\"selector005\": {\"type\": \"single\", \"fields\": [\"range_color\"], \"init\": {\"range_color\": \"#FE0000\"}}}, \"title\": \"Select: Republican(2020)\", \"width\": 40}, {\"data\": {\"url\": \"altair-data-dcd66b96b977e83e48abf51bde99e519.json\", \"format\": {\"type\": \"json\"}}, \"mark\": {\"type\": \"point\", \"filled\": true, \"size\": 100}, \"encoding\": {\"color\": {\"type\": \"nominal\", \"condition\": {\"value\": \"#b38449\", \"selection\": \"selector005\"}, \"field\": \"mask_usage_range\", \"legend\": null, \"scale\": {\"domain\": [\"Below average (<=50%)\", \"Average (50%-80%)\", \"Exceptional (> 80%)\"], \"range\": [\"#C5DDF9\", \"#3CA0EE\", \"#0015BC\"]}}, \"y\": {\"type\": \"nominal\", \"axis\": {\"orient\": \"right\"}, \"field\": \"mask_usage_range\", \"sort\": [\"Below average (<=50%)\", \"Average (50%-80%)\", \"Exceptional (> 80%)\"], \"title\": null}}, \"selection\": {\"selector005\": {\"type\": \"single\", \"fields\": [\"range_color\"], \"init\": {\"range_color\": \"#FE0000\"}}}, \"title\": \"Democrat(2020)\", \"width\": 40}], \"resolve\": {\"scale\": {\"color\": \"independent\"}}}], \"$schema\": \"https://vega.github.io/schema/vega-lite/v4.8.1.json\"}, {\"mode\": \"vega-lite\"});\n",
       "</script>"
      ],
      "text/plain": [
       "alt.VConcatChart(...)"
      ]
     },
     "execution_count": 9,
     "metadata": {},
     "output_type": "execute_result"
    }
   ],
   "source": [
    "#createCombinedElectoralAndMaskUsageCharts().configure_view(strokeOpacity=0)\n",
    "county_mask_chart, legend_republican, legend_democrat, average_mask_chart =\\\n",
    "createFreqCountyMaskUsageWithRanges('INFREQUENT')\n",
    "(\n",
    "    ( county_mask_chart) &\n",
    "    ( average_mask_chart | legend_republican | legend_democrat  \n",
    "    ).resolve_scale(\n",
    "                    color=\"independent\"\n",
    "                    )\n",
    ")\n",
    "  "
   ]
  },
  {
   "cell_type": "markdown",
   "id": "bf79b8d5",
   "metadata": {},
   "source": [
    " ### Dependencies \n",
    "    %reload_ext watermark\n",
    "    CPython 3.7.7\n",
    "    IPython 7.19.0\n",
    "\n",
    "    pandas 1.1.0\n",
    "    ipywidgets 7.5.1\n",
    "    plotly 4.12.0\n",
    "    altair 4.1.0\n",
    "\n",
    "    compiler   : MSC v.1900 64 bit (AMD64)\n",
    "    system     : Windows\n",
    "    release    : 10\n",
    "    machine    : AMD64\n",
    "    processor  : Intel64 Family 6 Model 142 Stepping 10, GenuineIntel\n",
    "    CPU cores  : 8\n",
    "    interpreter: 64bit"
   ]
  },
  {
   "cell_type": "markdown",
   "id": "0e2ba348",
   "metadata": {},
   "source": [
    "\n"
   ]
  },
  {
   "cell_type": "code",
   "execution_count": 10,
   "id": "da81091a",
   "metadata": {},
   "outputs": [],
   "source": [
    "### HOW THE CREDENTIALS WERE STORED IN A PICKLE FILES\n",
    "\n",
    "# import pickle\n",
    "\n",
    "# ## https://data.cdc.gov/profile/edit/developer_settings\n",
    "\n",
    "# APIToken = \"MyToken\"\n",
    "# pickle_out = open(\"APIToken.pickle\",\"wb\")\n",
    "# pickle.dump(APIToken, pickle_out)\n",
    "# pickle_out.close()"
   ]
  },
  {
   "cell_type": "markdown",
   "id": "ab371ea4",
   "metadata": {},
   "source": []
  },
  {
   "cell_type": "markdown",
   "id": "ecb64af6",
   "metadata": {},
   "source": [
    "## Section 6: Sources\n",
    "\n",
    " >Source: [New York Time Github Covid data](https://raw.githubusercontent.com/nytimes/covid-19-data/master/us-counties.csv)<br>      [Estimates of mask use](https://github.com/nytimes/covid-19-data/tree/master/mask-use)\n"
   ]
  },
  {
   "cell_type": "code",
   "execution_count": 11,
   "id": "538e8a34",
   "metadata": {},
   "outputs": [],
   "source": [
    "# %load_ext watermark\n",
    "# %watermark -v -m -p pandas,ipywidgets,plotly,altair\n"
   ]
  }
 ],
 "metadata": {
  "kernelspec": {
   "display_name": "Python 3",
   "language": "python",
   "name": "python3"
  },
  "language_info": {
   "codemirror_mode": {
    "name": "ipython",
    "version": 3
   },
   "file_extension": ".py",
   "mimetype": "text/x-python",
   "name": "python",
   "nbconvert_exporter": "python",
   "pygments_lexer": "ipython3",
   "version": "3.7.9"
  },
  "toc": {
   "base_numbering": 1,
   "nav_menu": {},
   "number_sections": true,
   "sideBar": true,
   "skip_h1_title": false,
   "title_cell": "Table of Contents",
   "title_sidebar": "Contents",
   "toc_cell": false,
   "toc_position": {},
   "toc_section_display": true,
   "toc_window_display": false
  },
  "varInspector": {
   "cols": {
    "lenName": 16,
    "lenType": 16,
    "lenVar": 40
   },
   "kernels_config": {
    "python": {
     "delete_cmd_postfix": "",
     "delete_cmd_prefix": "del ",
     "library": "var_list.py",
     "varRefreshCmd": "print(var_dic_list())"
    },
    "r": {
     "delete_cmd_postfix": ") ",
     "delete_cmd_prefix": "rm(",
     "library": "var_list.r",
     "varRefreshCmd": "cat(var_dic_list()) "
    }
   },
   "types_to_exclude": [
    "module",
    "function",
    "builtin_function_or_method",
    "instance",
    "_Feature"
   ],
   "window_display": false
  }
 },
 "nbformat": 4,
 "nbformat_minor": 5
}
