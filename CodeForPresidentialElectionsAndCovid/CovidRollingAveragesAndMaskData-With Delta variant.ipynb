{
 "cells": [
  {
   "cell_type": "markdown",
   "source": [
    "# Covid data\n",
    "\n",
    "[ADD INTRO HERE]\n",
    "\n",
    "<b>Section 1a: County level COVID case and election data preparation</b><br>\n",
    "<b>Section 1b: County level COVID case and election chart preparation</b><br>\n",
    "<b>Section 1c: County level main code for COVID cases and elections</b><br>\n",
    "<b>Section 1d: Comments on county level COVID cases and elections</b><br>\n",
    "<b>Section 2a: County level COVID deaths and elections chart preparation</b><br>\n",
    "<b>Section 2b: County level main code for COVID deaths and elections</b><br>\n",
    "<b>Section 3a: State level vaccination and election data/chart preparation</b><br>\n",
    "<b>Section 3b: State level main code for vaccinations and elections</b><br>\n",
    "<b>Section 4: Notes</b><br>\n",
    "<b>Section 5: Sources</b><br>\n"
   ],
   "metadata": {}
  },
  {
   "cell_type": "code",
   "execution_count": 1,
   "source": [
    "from ETL.EtlCovid import *\r\n",
    "from ETL.EtlElection import *\r\n",
    "from ETL.EtlVaccine import *\r\n",
    "from Visualization.VizBase import *\r\n",
    "from Visualization.VizCovid import *\r\n",
    "from Visualization.VizVaccine import *\r\n",
    "from Visualization.VizMask import *"
   ],
   "outputs": [],
   "metadata": {}
  },
  {
   "cell_type": "markdown",
   "source": [
    "## Section 1a: County level COVID case and election data preparation\n",
    "\n",
    "getRollingCaseAverageSegmentLevel()<br>\n",
    "getCasesRollingAveragePer100K()<br>\n",
    "getElectionSegmentsData()<br>\n",
    "getElectionData()"
   ],
   "metadata": {}
  },
  {
   "cell_type": "markdown",
   "source": [
    "## Section 1b: County level COVID case and election chart preparation\n",
    "\n",
    "createChart()<br>\n",
    "getBaseChart()<br>\n",
    "getSelection()<br>\n",
    "createTooltip()"
   ],
   "metadata": {}
  },
  {
   "cell_type": "markdown",
   "source": [
    "## Section 1c: County level main code for COVID cases and elections\n",
    "\n",
    "Creates chart showing rolling average of COVID cases over time segmented by change - if any - of political affiliation."
   ],
   "metadata": {}
  },
  {
   "cell_type": "code",
   "execution_count": 2,
   "source": [
    "# Get rolling average of cases by segment\r\n",
    "case_rolling_df = getRollingCaseAverageSegmentLevel()\r\n",
    "segment_list = case_rolling_df.changecolor.unique()\r\n",
    "\r\n",
    "# Create the chart\r\n",
    "base, make_selector, highlight_segment, radio_select  = createChart(case_rolling_df)\r\n",
    "selectors, rules, points, tooltip_text  = createTooltip(base, radio_select, case_rolling_df)\r\n",
    "\r\n",
    "\r\n",
    "# Bring all the layers together with layering and concatenation\r\n",
    "( alt.layer(\r\n",
    "    highlight_segment, selectors, points,rules, tooltip_text ) | make_selector \r\n",
    ")\r\n",
    "\r\n"
   ],
   "outputs": [
    {
     "output_type": "execute_result",
     "data": {
      "text/plain": [
       "alt.HConcatChart(...)"
      ],
      "text/html": [
       "\n",
       "<div id=\"altair-viz-1a4ff49e66d84fa8a8e1c9b0950e3a8a\"></div>\n",
       "<script type=\"text/javascript\">\n",
       "  (function(spec, embedOpt){\n",
       "    let outputDiv = document.currentScript.previousElementSibling;\n",
       "    if (outputDiv.id !== \"altair-viz-1a4ff49e66d84fa8a8e1c9b0950e3a8a\") {\n",
       "      outputDiv = document.getElementById(\"altair-viz-1a4ff49e66d84fa8a8e1c9b0950e3a8a\");\n",
       "    }\n",
       "    const paths = {\n",
       "      \"vega\": \"https://cdn.jsdelivr.net/npm//vega@5?noext\",\n",
       "      \"vega-lib\": \"https://cdn.jsdelivr.net/npm//vega-lib?noext\",\n",
       "      \"vega-lite\": \"https://cdn.jsdelivr.net/npm//vega-lite@4.8.1?noext\",\n",
       "      \"vega-embed\": \"https://cdn.jsdelivr.net/npm//vega-embed@6?noext\",\n",
       "    };\n",
       "\n",
       "    function loadScript(lib) {\n",
       "      return new Promise(function(resolve, reject) {\n",
       "        var s = document.createElement('script');\n",
       "        s.src = paths[lib];\n",
       "        s.async = true;\n",
       "        s.onload = () => resolve(paths[lib]);\n",
       "        s.onerror = () => reject(`Error loading script: ${paths[lib]}`);\n",
       "        document.getElementsByTagName(\"head\")[0].appendChild(s);\n",
       "      });\n",
       "    }\n",
       "\n",
       "    function showError(err) {\n",
       "      outputDiv.innerHTML = `<div class=\"error\" style=\"color:red;\">${err}</div>`;\n",
       "      throw err;\n",
       "    }\n",
       "\n",
       "    function displayChart(vegaEmbed) {\n",
       "      vegaEmbed(outputDiv, spec, embedOpt)\n",
       "        .catch(err => showError(`Javascript Error: ${err.message}<br>This usually means there's a typo in your chart specification. See the javascript console for the full traceback.`));\n",
       "    }\n",
       "\n",
       "    if(typeof define === \"function\" && define.amd) {\n",
       "      requirejs.config({paths});\n",
       "      require([\"vega-embed\"], displayChart, err => showError(`Error loading script: ${err.message}`));\n",
       "    } else if (typeof vegaEmbed === \"function\") {\n",
       "      displayChart(vegaEmbed);\n",
       "    } else {\n",
       "      loadScript(\"vega\")\n",
       "        .then(() => loadScript(\"vega-lite\"))\n",
       "        .then(() => loadScript(\"vega-embed\"))\n",
       "        .catch(showError)\n",
       "        .then(() => displayChart(vegaEmbed));\n",
       "    }\n",
       "  })({\"config\": {\"view\": {\"continuousWidth\": 400, \"continuousHeight\": 300}}, \"hconcat\": [{\"layer\": [{\"data\": {\"url\": \"altair-data-a8321a483d118593cd5a98fb7d7c60c1.json\", \"format\": {\"type\": \"json\"}}, \"mark\": {\"type\": \"line\", \"strokeWidth\": 2}, \"encoding\": {\"color\": {\"condition\": {\"type\": \"nominal\", \"field\": \"changecolor\", \"legend\": null, \"scale\": null, \"selection\": \"Segment\"}, \"value\": \"lightgrey\"}, \"strokeDash\": {\"condition\": {\"value\": [3, 5], \"test\": \"((datum.segmentname === 'To Democrat') || (datum.segmentname === 'To Republican'))\"}, \"value\": [0]}, \"x\": {\"type\": \"temporal\", \"axis\": {\"labelAngle\": 0, \"title\": null}, \"field\": \"date\", \"scale\": {\"domain\": [\"2020-01-01\", \"2020-12-31\"]}, \"timeUnit\": \"yearmonthdate\"}, \"y\": {\"type\": \"quantitative\", \"axis\": {\"title\": \"Cases (rolling mean per 100K)\"}, \"field\": \"cases_avg_per_100k\"}}, \"height\": 400, \"selection\": {\"Segment\": {\"type\": \"multi\", \"fields\": [\"segmentname\", \"changecolor\"]}}, \"title\": \"Rolling Average Cases Per 100K\", \"width\": 600}, {\"data\": {\"url\": \"altair-data-a8321a483d118593cd5a98fb7d7c60c1.json\", \"format\": {\"type\": \"json\"}}, \"mark\": \"point\", \"encoding\": {\"opacity\": {\"value\": 0}, \"x\": {\"type\": \"temporal\", \"field\": \"date\"}}, \"selection\": {\"selector001\": {\"type\": \"single\", \"nearest\": true, \"on\": \"mouseover\", \"fields\": [\"date\"], \"empty\": \"none\"}}}, {\"data\": {\"url\": \"altair-data-a8321a483d118593cd5a98fb7d7c60c1.json\", \"format\": {\"type\": \"json\"}}, \"mark\": {\"type\": \"point\", \"dy\": -10, \"size\": 5}, \"encoding\": {\"opacity\": {\"condition\": {\"value\": 1, \"selection\": \"selector001\"}, \"value\": 0}, \"x\": {\"type\": \"temporal\", \"axis\": {\"labelAngle\": 0, \"title\": null}, \"field\": \"date\", \"scale\": {\"domain\": [\"2020-01-01\", \"2020-12-31\"]}, \"timeUnit\": \"yearmonthdate\"}, \"y\": {\"type\": \"quantitative\", \"axis\": {\"title\": \"Cases (rolling mean per 100K)\"}, \"field\": \"cases_avg_per_100k\"}}, \"height\": 400, \"transform\": [{\"filter\": {\"selection\": \"Segment\"}}], \"width\": 600}, {\"data\": {\"url\": \"altair-data-a8321a483d118593cd5a98fb7d7c60c1.json\", \"format\": {\"type\": \"json\"}}, \"mark\": {\"type\": \"rule\", \"color\": \"darkgrey\", \"strokeDash\": [5, 4], \"strokeWidth\": 2}, \"encoding\": {\"x\": {\"type\": \"temporal\", \"field\": \"date\"}}, \"transform\": [{\"filter\": {\"selection\": \"selector001\"}}]}, {\"data\": {\"url\": \"altair-data-a8321a483d118593cd5a98fb7d7c60c1.json\", \"format\": {\"type\": \"json\"}}, \"mark\": {\"type\": \"text\", \"align\": \"left\", \"dx\": -60, \"dy\": -15, \"fontSize\": 15, \"lineBreak\": \"\\n\"}, \"encoding\": {\"text\": {\"condition\": {\"type\": \"quantitative\", \"field\": \"cases_avg_per_100k\", \"format\": \".2f\", \"selection\": \"selector001\"}, \"value\": \" \"}, \"x\": {\"type\": \"temporal\", \"axis\": {\"labelAngle\": 0, \"title\": null}, \"field\": \"date\", \"scale\": {\"domain\": [\"2020-01-01\", \"2020-12-31\"]}, \"timeUnit\": \"yearmonthdate\"}, \"y\": {\"type\": \"quantitative\", \"axis\": {\"title\": \"Cases (rolling mean per 100K)\"}, \"field\": \"cases_avg_per_100k\"}}, \"height\": 400, \"transform\": [{\"filter\": {\"selection\": \"Segment\"}}], \"width\": 600}]}, {\"data\": {\"url\": \"altair-data-a8321a483d118593cd5a98fb7d7c60c1.json\", \"format\": {\"type\": \"json\"}}, \"mark\": \"rect\", \"encoding\": {\"color\": {\"condition\": {\"type\": \"nominal\", \"field\": \"changecolor\", \"legend\": null, \"scale\": null, \"selection\": \"Segment\"}, \"value\": \"lightgrey\"}, \"y\": {\"type\": \"nominal\", \"axis\": {\"title\": \"Pick affiliation\", \"titleFontSize\": 15}, \"field\": \"segmentname\"}}, \"selection\": {\"Segment\": {\"type\": \"multi\", \"fields\": [\"segmentname\", \"changecolor\"]}}}], \"$schema\": \"https://vega.github.io/schema/vega-lite/v4.8.1.json\"}, {\"mode\": \"vega-lite\"});\n",
       "</script>"
      ]
     },
     "metadata": {},
     "execution_count": 2
    }
   ],
   "metadata": {}
  },
  {
   "cell_type": "markdown",
   "source": [
    "## Section 1d: Comments on county level COVID cases and elections\n",
    "\n",
    "##TBD TO confirm\n",
    "An Associated Press analysis reveals that in 376 counties with the highest number of new cases per capita, the overwhelming majority—93% of those counties—went for Trump, a rate above other less severely hit areas.\n",
    "\n",
    "https://fortune.com/2020/11/06/trump-voters-covid-cases-red-counties-2020-election-results/\n",
    "\n",
    "Many Places Hard Hit By COVID-19 Leaned More Toward Trump In 2020 Than 2016\n",
    "Support for President Trump increased in 2020 in many of the U.S. counties that lost lives at the highest rate to COVID-19, according to an NPR analysis.\n",
    "\n",
    "Of the 100 counties with the highest COVID-19 death rates per capita, 68 had a higher proportion of votes cast for Trump this cycle than they did in 2016. This includes both Republican-leaning counties and counties that supported Joe Biden.\n",
    "https://www.npr.org/sections/health-shots/2020/11/06/930897912/many-places-hard-hit-by-covid-19-leaned-more-toward-trump-in-2020-than-2016\n"
   ],
   "metadata": {}
  },
  {
   "cell_type": "markdown",
   "source": [
    "## Section 2a: County level COVID deaths and elections chart preparation\n",
    "\n",
    "createPercentPointChangeAvgDeathsChart()"
   ],
   "metadata": {}
  },
  {
   "cell_type": "markdown",
   "source": [
    "## Section 2b: County level main code for COVID deaths and elections\n",
    "\n",
    "Creates chart showing average COVID deaths versus percent change for each political affiliation. Data point colors are segmented by change - if any - in affiliation."
   ],
   "metadata": {}
  },
  {
   "cell_type": "code",
   "execution_count": 3,
   "source": [
    "# Display the chart\r\n",
    "\r\n",
    "createPercentPointChangeAvgDeathsChart()"
   ],
   "outputs": [
    {
     "output_type": "execute_result",
     "data": {
      "text/plain": [
       "alt.LayerChart(...)"
      ],
      "text/html": [
       "\n",
       "<div id=\"altair-viz-19e7c6af26b74ef39078853c861a054c\"></div>\n",
       "<script type=\"text/javascript\">\n",
       "  (function(spec, embedOpt){\n",
       "    let outputDiv = document.currentScript.previousElementSibling;\n",
       "    if (outputDiv.id !== \"altair-viz-19e7c6af26b74ef39078853c861a054c\") {\n",
       "      outputDiv = document.getElementById(\"altair-viz-19e7c6af26b74ef39078853c861a054c\");\n",
       "    }\n",
       "    const paths = {\n",
       "      \"vega\": \"https://cdn.jsdelivr.net/npm//vega@5?noext\",\n",
       "      \"vega-lib\": \"https://cdn.jsdelivr.net/npm//vega-lib?noext\",\n",
       "      \"vega-lite\": \"https://cdn.jsdelivr.net/npm//vega-lite@4.8.1?noext\",\n",
       "      \"vega-embed\": \"https://cdn.jsdelivr.net/npm//vega-embed@6?noext\",\n",
       "    };\n",
       "\n",
       "    function loadScript(lib) {\n",
       "      return new Promise(function(resolve, reject) {\n",
       "        var s = document.createElement('script');\n",
       "        s.src = paths[lib];\n",
       "        s.async = true;\n",
       "        s.onload = () => resolve(paths[lib]);\n",
       "        s.onerror = () => reject(`Error loading script: ${paths[lib]}`);\n",
       "        document.getElementsByTagName(\"head\")[0].appendChild(s);\n",
       "      });\n",
       "    }\n",
       "\n",
       "    function showError(err) {\n",
       "      outputDiv.innerHTML = `<div class=\"error\" style=\"color:red;\">${err}</div>`;\n",
       "      throw err;\n",
       "    }\n",
       "\n",
       "    function displayChart(vegaEmbed) {\n",
       "      vegaEmbed(outputDiv, spec, embedOpt)\n",
       "        .catch(err => showError(`Javascript Error: ${err.message}<br>This usually means there's a typo in your chart specification. See the javascript console for the full traceback.`));\n",
       "    }\n",
       "\n",
       "    if(typeof define === \"function\" && define.amd) {\n",
       "      requirejs.config({paths});\n",
       "      require([\"vega-embed\"], displayChart, err => showError(`Error loading script: ${err.message}`));\n",
       "    } else if (typeof vegaEmbed === \"function\") {\n",
       "      displayChart(vegaEmbed);\n",
       "    } else {\n",
       "      loadScript(\"vega\")\n",
       "        .then(() => loadScript(\"vega-lite\"))\n",
       "        .then(() => loadScript(\"vega-embed\"))\n",
       "        .catch(showError)\n",
       "        .then(() => displayChart(vegaEmbed));\n",
       "    }\n",
       "  })({\"config\": {\"view\": {\"continuousWidth\": 400, \"continuousHeight\": 300}}, \"layer\": [{\"data\": {\"url\": \"altair-data-905af245d02f176f6f822f85af3e9b3f.json\", \"format\": {\"type\": \"json\"}}, \"mark\": \"circle\", \"encoding\": {\"color\": {\"condition\": {\"type\": \"nominal\", \"field\": \"changecolor\", \"legend\": null, \"scale\": null, \"selection\": \"Affiliation: \"}, \"value\": \"lightgray\"}, \"tooltip\": [{\"type\": \"nominal\", \"field\": \"CTYNAME\", \"title\": \"County Name:\"}, {\"type\": \"nominal\", \"field\": \"state\", \"title\": \"State Name:\"}, {\"type\": \"nominal\", \"field\": \"pct_increase\", \"format\": \".2f\", \"title\": \"Percent Point Increase:\"}], \"x\": {\"type\": \"quantitative\", \"field\": \"pct_increase\", \"title\": \"Percent point change\"}, \"y\": {\"type\": \"quantitative\", \"field\": \"deaths_avg_per_100k\", \"title\": \"Average deaths per 100K\"}}, \"height\": 300, \"selection\": {\"Affiliation: \": {\"type\": \"single\", \"fields\": [\"segmentname\"], \"bind\": {\"input\": \"select\", \"options\": [\"Stayed Republican\", \"Stayed Democrat\", \"To Republican\", \"To Democrat\"], \"name\": \"Affiliation: \"}}}, \"title\": \"Covid deaths in 2020 versus Percentage point difference in votes\", \"width\": 800}, {\"data\": {\"url\": \"altair-data-a2cf18193c19be88afd84610434ea0f7.json\", \"format\": {\"type\": \"json\"}}, \"mark\": {\"type\": \"rule\", \"strokeDash\": [2, 5]}, \"encoding\": {\"x\": {\"type\": \"quantitative\", \"field\": \"x\"}}}, {\"data\": {\"url\": \"altair-data-37fece1235d48a04371eabc01a43f366.json\", \"format\": {\"type\": \"json\"}}, \"mark\": {\"type\": \"rule\", \"strokeDash\": [2, 5]}, \"encoding\": {\"y\": {\"type\": \"quantitative\", \"field\": \"y\"}}}, {\"data\": {\"url\": \"altair-data-3c53ba392b85bb9308a2e5266765e654.json\", \"format\": {\"type\": \"json\"}}, \"mark\": {\"type\": \"text\", \"align\": \"left\", \"baseline\": \"middle\", \"dx\": 7, \"fontSize\": 10}, \"encoding\": {\"text\": {\"type\": \"nominal\", \"field\": \"note\"}, \"x\": {\"type\": \"quantitative\", \"field\": \"x\"}, \"y\": {\"type\": \"quantitative\", \"field\": \"y\"}}}], \"$schema\": \"https://vega.github.io/schema/vega-lite/v4.8.1.json\"}, {\"mode\": \"vega-lite\"});\n",
       "</script>"
      ]
     },
     "metadata": {},
     "execution_count": 3
    }
   ],
   "metadata": {}
  },
  {
   "cell_type": "markdown",
   "source": [
    "<b>Covid vaccination data</b><br>\n",
    "   > Source : [COVID-19 Vaccinations in the United States](https://covid.cdc.gov/covid-data-tracker/#vaccinations)<br>\n",
    "     Looking into Covid vaccination percentages by party affiliation measure by 2020 Presidential elections<br>\n",
    "     Data as of : Data as of: June 26, 2021 <br>\n",
    "     Source:  [State level election results](https://dataverse.harvard.edu/file.xhtml?fileId=4299753&version=6.0)\n",
    "    "
   ],
   "metadata": {}
  },
  {
   "cell_type": "markdown",
   "source": [
    "## Section 3a: State level vaccination and election data/chart preparation\n",
    "\n",
    "createStateVaccinationChart()<br>\n",
    "createStateVaccinationData()<br>\n",
    "getStateLevelElectionData2020()"
   ],
   "metadata": {}
  },
  {
   "cell_type": "markdown",
   "source": [
    "## Section 3b: State level main code for vaccinations and elections\n",
    "\n",
    "Creates a chart showing change in percentage of population vaccinated by state. Data is segmented by presidential election choice, implying state political affiliation. Bubble size is proportional to state population. (Questions: Add to legend?)"
   ],
   "metadata": {}
  },
  {
   "cell_type": "code",
   "execution_count": 4,
   "source": [
    "# Create the chart\r\n",
    "#createStateVaccinationChart()"
   ],
   "outputs": [],
   "metadata": {}
  },
  {
   "cell_type": "markdown",
   "source": [
    "## Section 4: Notes\n",
    "\n",
    "    Note about the data\n",
    "            The data in these files is a different version of the data in our main U.S. cases and deaths files.\n",
    "            Instead of cumulative totals, each file contains the daily number of new cases and deaths, the\n",
    "            seven-day rolling average and the seven-day rolling average per 100,000 residents.\n",
    "                      \n",
    "    Confirmed Cases\n",
    "            Confirmed cases are counts of individuals whose coronavirus infections were confirmed by a\n",
    "            laboratory test and reported by a federal, state, territorial or local government agency. Only\n",
    "            tests that detect viral RNA in a sample are considered confirmatory. These are often called\n",
    "            molecular or RT-PCR tests.\n",
    "              \n",
    "            Another dataset : https://dataverse.harvard.edu/file.xhtml?fileId=4593425&version=54.1\n",
    "              \n",
    "            Since the first reported coronavirus case in Washington State on Jan. 21, 2020, The Times has\n",
    "            tracked cases of coronavirus in real time as they were identified after testing. Because of the\n",
    "            widespread shortage of testing, however, the data is necessarily limited in the picture it presents\n",
    "            of the outbreak.\n",
    "              \n",
    "            This data is for cumulative cases\n",
    "            \n",
    "            # We can join the NYTime latest data with population data from census for 2020\n",
    "            df = pd.read_csv('https://raw.githubusercontent.com/nytimes/covid-19-data/master/us-counties.csv')\n",
    "            \n",
    "            \n",
    "  \n",
    "    "
   ],
   "metadata": {}
  },
  {
   "cell_type": "markdown",
   "source": [
    "## Section 5: Daily Vaccination Rate Interactive chart \n",
    "\n",
    "Interactive charts allow the user to weild the power to slice and dice and pause and view the data as per questions arising when viewing the visualizations.\n",
    "\n",
    ">Source: Data.CDC.gov [Covid-19 Vaccinaions in the United State Jurisdiction](https://data.cdc.gov/Vaccinations/COVID-19-Vaccinations-in-the-United-States-Jurisdi/unsk-b7fc)\n",
    "\n",
    "\n"
   ],
   "metadata": {}
  },
  {
   "cell_type": "code",
   "execution_count": null,
   "source": [],
   "outputs": [],
   "metadata": {}
  },
  {
   "cell_type": "code",
   "execution_count": 5,
   "source": [
    "final_chart = createDailyInteractiveVaccinationChart()\r\n",
    "final_chart"
   ],
   "outputs": [
    {
     "output_type": "execute_result",
     "data": {
      "text/plain": [
       "alt.LayerChart(...)"
      ],
      "text/html": [
       "\n",
       "<div id=\"altair-viz-14a37425ec7b498bbf27b698c2179d6a\"></div>\n",
       "<script type=\"text/javascript\">\n",
       "  (function(spec, embedOpt){\n",
       "    let outputDiv = document.currentScript.previousElementSibling;\n",
       "    if (outputDiv.id !== \"altair-viz-14a37425ec7b498bbf27b698c2179d6a\") {\n",
       "      outputDiv = document.getElementById(\"altair-viz-14a37425ec7b498bbf27b698c2179d6a\");\n",
       "    }\n",
       "    const paths = {\n",
       "      \"vega\": \"https://cdn.jsdelivr.net/npm//vega@5?noext\",\n",
       "      \"vega-lib\": \"https://cdn.jsdelivr.net/npm//vega-lib?noext\",\n",
       "      \"vega-lite\": \"https://cdn.jsdelivr.net/npm//vega-lite@4.8.1?noext\",\n",
       "      \"vega-embed\": \"https://cdn.jsdelivr.net/npm//vega-embed@6?noext\",\n",
       "    };\n",
       "\n",
       "    function loadScript(lib) {\n",
       "      return new Promise(function(resolve, reject) {\n",
       "        var s = document.createElement('script');\n",
       "        s.src = paths[lib];\n",
       "        s.async = true;\n",
       "        s.onload = () => resolve(paths[lib]);\n",
       "        s.onerror = () => reject(`Error loading script: ${paths[lib]}`);\n",
       "        document.getElementsByTagName(\"head\")[0].appendChild(s);\n",
       "      });\n",
       "    }\n",
       "\n",
       "    function showError(err) {\n",
       "      outputDiv.innerHTML = `<div class=\"error\" style=\"color:red;\">${err}</div>`;\n",
       "      throw err;\n",
       "    }\n",
       "\n",
       "    function displayChart(vegaEmbed) {\n",
       "      vegaEmbed(outputDiv, spec, embedOpt)\n",
       "        .catch(err => showError(`Javascript Error: ${err.message}<br>This usually means there's a typo in your chart specification. See the javascript console for the full traceback.`));\n",
       "    }\n",
       "\n",
       "    if(typeof define === \"function\" && define.amd) {\n",
       "      requirejs.config({paths});\n",
       "      require([\"vega-embed\"], displayChart, err => showError(`Error loading script: ${err.message}`));\n",
       "    } else if (typeof vegaEmbed === \"function\") {\n",
       "      displayChart(vegaEmbed);\n",
       "    } else {\n",
       "      loadScript(\"vega\")\n",
       "        .then(() => loadScript(\"vega-lite\"))\n",
       "        .then(() => loadScript(\"vega-embed\"))\n",
       "        .catch(showError)\n",
       "        .then(() => displayChart(vegaEmbed));\n",
       "    }\n",
       "  })({\"config\": {\"view\": {\"continuousWidth\": 400, \"continuousHeight\": 300}, \"axis\": {\"labelColor\": \"#a9a9a9\"}, \"title\": {\"fontSize\": 15}}, \"layer\": [{\"mark\": {\"type\": \"point\", \"filled\": true, \"opacity\": 1}, \"encoding\": {\"color\": {\"type\": \"nominal\", \"field\": \"party_simplified\", \"legend\": {\"title\": \"Presidential election choice:\"}, \"scale\": {\"domain\": [\"DEMOCRAT\", \"REPUBLICAN\"], \"range\": [\"#237ABD\", \"#CD2128\"]}}, \"size\": {\"type\": \"quantitative\", \"field\": \"Total population\", \"legend\": null, \"scale\": {\"range\": [150, 3000]}}, \"tooltip\": [{\"type\": \"nominal\", \"field\": \"state_po\", \"title\": \"State: \"}], \"x\": {\"type\": \"quantitative\", \"axis\": {\"format\": \"%\", \"orient\": \"top\", \"title\": null, \"values\": [0, 0.1, 0.2, 0.3, 0.4, 0.5, 0.6, 0.7, 0.8, 0.9, 1.0]}, \"field\": \"Percent with one dose\", \"scale\": {\"domain\": [0, 1.0]}}, \"y\": {\"type\": \"quantitative\", \"axis\": null, \"field\": \"y_center\"}}, \"height\": 400, \"selection\": {\"day_num\": {\"type\": \"single\", \"fields\": [\"day_num\"], \"bind\": {\"input\": \"range\", \"max\": 159, \"min\": 0, \"name\": \"Number of days since first vaccination: \", \"step\": 1}, \"init\": {\"day_num\": 159}}}, \"title\": [\"Percentage of state\\u2019s population age 18 and older that has received\", \"at least one dose of a COVID-19 vaccine as of June 26th, 2021\"], \"transform\": [{\"filter\": {\"selection\": \"day_num\"}}], \"width\": 700}, {\"mark\": {\"type\": \"text\", \"align\": \"left\", \"baseline\": \"middle\", \"color\": \"white\", \"dx\": -3, \"fontSize\": 8, \"fontWeight\": \"bold\"}, \"encoding\": {\"text\": {\"type\": \"nominal\", \"field\": \"state_po\"}, \"x\": {\"type\": \"quantitative\", \"field\": \"Percent with one dose\"}, \"y\": {\"type\": \"quantitative\", \"field\": \"y_center\"}}, \"transform\": [{\"filter\": {\"selection\": \"day_num\"}}]}, {\"data\": {\"url\": \"altair-data-719c5f9d68c80d850e629340929d35a6.json\", \"format\": {\"type\": \"json\"}}, \"mark\": {\"type\": \"rule\", \"strokeDash\": [10, 10]}, \"encoding\": {\"x\": {\"type\": \"quantitative\", \"field\": \"x\"}}}], \"data\": {\"url\": \"altair-data-60c7cf46a6a5e9fc3549d9b8d783ce00.json\", \"format\": {\"type\": \"json\"}}, \"$schema\": \"https://vega.github.io/schema/vega-lite/v4.8.1.json\"}, {\"mode\": \"vega-lite\"});\n",
       "</script>"
      ]
     },
     "metadata": {},
     "execution_count": 5
    }
   ],
   "metadata": {}
  },
  {
   "cell_type": "markdown",
   "source": [
    "## Section 5  Mask data\n",
    "\n"
   ],
   "metadata": {}
  },
  {
   "cell_type": "code",
   "execution_count": 6,
   "source": [
    "fig = createSankeyForAffilitionChange()\r\n",
    "fig"
   ],
   "outputs": [
    {
     "output_type": "display_data",
     "data": {
      "application/vnd.plotly.v1+json": {
       "config": {
        "plotlyServerURL": "https://plot.ly"
       },
       "data": [
        {
         "link": {
          "color": [
           "#BEDDFE",
           "#FAED27",
           "#FF0000",
           "#0000FF",
           "#FFE9EC"
          ],
          "hovertemplate": "Link from  %{source.customdata}<br />to %{target.customdata}<br />has  %{value} counties<extra></extra>",
          "source": [
           0,
           0,
           0,
           1,
           1
          ],
          "target": [
           2,
           3,
           4,
           2,
           4
          ],
          "value": [
           474,
           13,
           15,
           69,
           2581
          ]
         },
         "node": {
          "color": [
           "#80CEE1",
           "#FF6961",
           "#0000FF",
           "#96D2B7",
           "#FF0000"
          ],
          "customdata": [
           "Voted Democrat in 2016",
           "Voted Republican in 2016",
           "Voted Democrat in 2020",
           "Voted Other in 2020",
           "Voted Republican in 2020"
          ],
          "hovertemplate": "%{customdata} has  %{value} counties<extra></extra>",
          "label": [
           "Voted Democrat in 2016",
           "Voted Republican in 2016",
           "Voted Democrat in 2020",
           "Voted Other in 2020",
           "Voted Republican in 2020"
          ],
          "line": {
           "color": "black",
           "width": 0.5
          },
          "pad": 15,
          "thickness": 20
         },
         "type": "sankey"
        }
       ],
       "layout": {
        "font": {
         "size": 12
        },
        "template": {
         "data": {
          "pie": [
           {
            "automargin": true,
            "type": "pie"
           }
          ],
          "scatter": [
           {
            "line": {
             "width": 3
            },
            "marker": {
             "size": 9
            },
            "type": "scatter"
           }
          ],
          "scatter3d": [
           {
            "line": {
             "width": 3
            },
            "marker": {
             "size": 9
            },
            "type": "scatter3d"
           }
          ],
          "scattergeo": [
           {
            "line": {
             "width": 3
            },
            "marker": {
             "size": 9
            },
            "type": "scattergeo"
           }
          ],
          "scattergl": [
           {
            "line": {
             "width": 3
            },
            "marker": {
             "size": 9
            },
            "type": "scattergl"
           }
          ],
          "scatterpolar": [
           {
            "line": {
             "width": 3
            },
            "marker": {
             "size": 9
            },
            "type": "scatterpolar"
           }
          ],
          "scatterpolargl": [
           {
            "line": {
             "width": 3
            },
            "marker": {
             "size": 9
            },
            "type": "scatterpolargl"
           }
          ],
          "scatterternary": [
           {
            "line": {
             "width": 3
            },
            "marker": {
             "size": 9
            },
            "type": "scatterternary"
           }
          ],
          "table": [
           {
            "cells": {
             "height": 30
            },
            "header": {
             "height": 36
            },
            "type": "table"
           }
          ]
         },
         "layout": {
          "font": {
           "size": 18
          },
          "xaxis": {
           "title": {
            "standoff": 15
           }
          },
          "yaxis": {
           "title": {
            "standoff": 15
           }
          }
         }
        },
        "title": {
         "text": "County affiliation change from 2016 to 2020"
        }
       }
      }
     },
     "metadata": {}
    }
   ],
   "metadata": {}
  },
  {
   "cell_type": "markdown",
   "source": [
    "# API Calls for vaccination data\n",
    "[Source: CDC ](https://www.cdc.gov/coronavirus/2019-ncov/vaccines/distributing/reporting-counties.html)\n",
    "\n",
    "The lowdown on API calls:\n",
    "To identify and limit rogue requests, most API data provisioning sites require that one acquire an API data token. After creating a Socrata account, I was able to apply for an API token for this application [here](https://data.cdc.gov/signed_out?return_to=%2Fprofile%2Fedit%2Fdeveloper_settings).\n",
    "\n",
    "For each dataset, the CDC website also provides a URL to which this API taken can be applied. The URL request can be request the reposnse in JSON, CSV and other formats. I chose the CSV format.  Other than the token you can concatenate parameters of your GET request to the URL string.\n",
    "FOr instance in our call below, the data was requested in batches of 500,000 rows (all columns - although these can be specifically requested). And so we limit the data tp 500,000 and update the offset by 500,000 with every call.\n",
    "\n",
    "One more note about the APIToken. Since this is a personal secret access key, the token was stored in a **pickle** file (string format serialized) and then retrieved from it for the concatenation. \n",
    "\n",
    "The **requests** module of Python is used to submit this token and parameter enhanced URL. Since we are only interested in reading the data, we issue a **GET** command. \n",
    "\n",
    "The response **text** is converted to csv using the StringIO to convert it to String and then using pandas read_csv call which saves the data along with the headers into a dataframe.\n",
    "\n",
    "The data for the vaciinations are updated on a daily basis by the CDC. Using the API enables us to update the visualization as and when the data gets updated. (We are storing it into a CSV file so that we do not send too many calls to the API endpoint as we develop).\n",
    "\n",
    "\n",
    "**DATA AT COUNTY LEVEL ISSUES**\n",
    "> Exceptions to County-Level Data\n",
    "California does not report the county of residence for persons receiving a vaccine when the resident’s county has a population of fewer than 20,000 people. (CDC)\n",
    "Hawaii does not provide CDC with county-of-residence information. (CDC)\n",
    "Texas provides data that are aggregated at the state level and cannot be stratified by county. (CDC)\n",
    "For several counties in Colorado the percent of population is marked as 0 - this appears to be a reporting and recording issue to me but I am not sure how a large number of counties in Colorado have no vaccination counts at all.(My observation)\n",
    "\n",
    "\n",
    "\n",
    "## The chart below aloows for comparison of two states  for trend of delta variant cases- one selected from the  vaccination graph above and one selected from the dropdown below. The average US trend is also plotted as a baseline.\n",
    "\n",
    "\n",
    "Create a time series chart from the time of vaccinations for US and all states"
   ],
   "metadata": {}
  },
  {
   "cell_type": "code",
   "execution_count": 7,
   "source": [
    "# Put the five layers into a chart and bind the data\r\n",
    "\r\n",
    "vaccine_chart, us_timeseries, state_cases_delta_chart,\\\r\n",
    "state_selectors, rules, tooltip_text1,\\\r\n",
    "tooltip_text2, tooltip_text3, points= createCombinedVaccinationAndDeltaVariantTrend()\r\n",
    "\r\n",
    "vaccine_chart & alt.layer(\r\n",
    "    (state_cases_delta_chart + us_timeseries), \r\n",
    "      state_selectors, rules, tooltip_text1, \r\n",
    "      tooltip_text2, tooltip_text3, points\r\n",
    ").properties(\r\n",
    "    width=600, height=300\r\n",
    ")"
   ],
   "outputs": [
    {
     "output_type": "execute_result",
     "data": {
      "text/plain": [
       "alt.VConcatChart(...)"
      ],
      "text/html": [
       "\n",
       "<div id=\"altair-viz-add2523b137d4587b7e688b947622b4f\"></div>\n",
       "<script type=\"text/javascript\">\n",
       "  (function(spec, embedOpt){\n",
       "    let outputDiv = document.currentScript.previousElementSibling;\n",
       "    if (outputDiv.id !== \"altair-viz-add2523b137d4587b7e688b947622b4f\") {\n",
       "      outputDiv = document.getElementById(\"altair-viz-add2523b137d4587b7e688b947622b4f\");\n",
       "    }\n",
       "    const paths = {\n",
       "      \"vega\": \"https://cdn.jsdelivr.net/npm//vega@5?noext\",\n",
       "      \"vega-lib\": \"https://cdn.jsdelivr.net/npm//vega-lib?noext\",\n",
       "      \"vega-lite\": \"https://cdn.jsdelivr.net/npm//vega-lite@4.8.1?noext\",\n",
       "      \"vega-embed\": \"https://cdn.jsdelivr.net/npm//vega-embed@6?noext\",\n",
       "    };\n",
       "\n",
       "    function loadScript(lib) {\n",
       "      return new Promise(function(resolve, reject) {\n",
       "        var s = document.createElement('script');\n",
       "        s.src = paths[lib];\n",
       "        s.async = true;\n",
       "        s.onload = () => resolve(paths[lib]);\n",
       "        s.onerror = () => reject(`Error loading script: ${paths[lib]}`);\n",
       "        document.getElementsByTagName(\"head\")[0].appendChild(s);\n",
       "      });\n",
       "    }\n",
       "\n",
       "    function showError(err) {\n",
       "      outputDiv.innerHTML = `<div class=\"error\" style=\"color:red;\">${err}</div>`;\n",
       "      throw err;\n",
       "    }\n",
       "\n",
       "    function displayChart(vegaEmbed) {\n",
       "      vegaEmbed(outputDiv, spec, embedOpt)\n",
       "        .catch(err => showError(`Javascript Error: ${err.message}<br>This usually means there's a typo in your chart specification. See the javascript console for the full traceback.`));\n",
       "    }\n",
       "\n",
       "    if(typeof define === \"function\" && define.amd) {\n",
       "      requirejs.config({paths});\n",
       "      require([\"vega-embed\"], displayChart, err => showError(`Error loading script: ${err.message}`));\n",
       "    } else if (typeof vegaEmbed === \"function\") {\n",
       "      displayChart(vegaEmbed);\n",
       "    } else {\n",
       "      loadScript(\"vega\")\n",
       "        .then(() => loadScript(\"vega-lite\"))\n",
       "        .then(() => loadScript(\"vega-embed\"))\n",
       "        .catch(showError)\n",
       "        .then(() => displayChart(vegaEmbed));\n",
       "    }\n",
       "  })({\"config\": {\"view\": {\"continuousWidth\": 400, \"continuousHeight\": 300}}, \"vconcat\": [{\"data\": {\"url\": \"https://cdn.jsdelivr.net/npm/vega-datasets@v1.29.0/data/us-10m.json\", \"format\": {\"feature\": \"states\", \"type\": \"topojson\"}}, \"mark\": \"geoshape\", \"encoding\": {\"color\": {\"type\": \"quantitative\", \"condition\": {\"value\": \"lightgray\", \"selection\": \"selector002\"}, \"field\": \"Percent with one dose\", \"scale\": {\"scheme\": \"yelloworangebrown\"}}, \"tooltip\": [{\"type\": \"nominal\", \"field\": \"STNAME\", \"title\": \"State name: \"}, {\"type\": \"quantitative\", \"field\": \"Percent with one dose\", \"title\": \"Population Pct with one shot : \"}]}, \"height\": 500, \"projection\": {\"type\": \"albersUsa\"}, \"selection\": {\"selector002\": {\"type\": \"multi\", \"fields\": [\"STATEFP\"], \"init\": [{\"STATEFP\": 1}]}}, \"transform\": [{\"lookup\": \"id\", \"from\": {\"data\": {\"url\": \"altair-data-b8f9be75aa8fc02e00ca2d3e41d7c7cf.json\", \"format\": {\"type\": \"json\"}}, \"key\": \"STATEFP\", \"fields\": [\"Percent with one dose\", \"STATEFP\", \"STNAME\"]}}], \"width\": 850}, {\"layer\": [{\"layer\": [{\"data\": {\"url\": \"altair-data-d18c881934baf06dc43163feea5a33db.json\", \"format\": {\"type\": \"json\"}}, \"mark\": \"line\", \"encoding\": {\"color\": {\"condition\": {\"type\": \"nominal\", \"field\": \"state\", \"legend\": null, \"scale\": {\"domain\": [\"Alabama\", \"Alaska\", \"Arizona\", \"Arkansas\", \"California\", \"Colorado\", \"Connecticut\", \"Delaware\", \"District of Columbia\", \"Florida\", \"Georgia\", \"Hawaii\", \"Idaho\", \"Illinois\", \"Indiana\", \"Iowa\", \"Kansas\", \"Kentucky\", \"Louisiana\", \"Maine\", \"Maryland\", \"Massachusetts\", \"Michigan\", \"Minnesota\", \"Mississippi\", \"Missouri\", \"Montana\", \"Nebraska\", \"Nevada\", \"New Hampshire\", \"New Jersey\", \"New Mexico\", \"New York\", \"North Carolina\", \"North Dakota\", \"Ohio\", \"Oklahoma\", \"Oregon\", \"Pennsylvania\", \"Rhode Island\", \"South Carolina\", \"South Dakota\", \"Tennessee\", \"Texas\", \"Utah\", \"Vermont\", \"Virginia\", \"Washington\", \"West Virginia\", \"Wisconsin\", \"Wyoming\"], \"range\": [\"#FF0000\", \"#FF0000\", \"#0015BC\", \"#FF0000\", \"#0015BC\", \"#0015BC\", \"#0015BC\", \"#0015BC\", \"#0015BC\", \"#FF0000\", \"#0015BC\", \"#0015BC\", \"#FF0000\", \"#0015BC\", \"#FF0000\", \"#FF0000\", \"#FF0000\", \"#FF0000\", \"#FF0000\", \"#0015BC\", \"#0015BC\", \"#0015BC\", \"#0015BC\", \"#0015BC\", \"#FF0000\", \"#FF0000\", \"#FF0000\", \"#FF0000\", \"#0015BC\", \"#0015BC\", \"#0015BC\", \"#0015BC\", \"#0015BC\", \"#FF0000\", \"#FF0000\", \"#FF0000\", \"#FF0000\", \"#0015BC\", \"#0015BC\", \"#0015BC\", \"#FF0000\", \"#FF0000\", \"#FF0000\", \"#FF0000\", \"#FF0000\", \"#0015BC\", \"#0015BC\", \"#0015BC\", \"#FF0000\", \"#0015BC\", \"#FF0000\"]}, \"selection\": {\"or\": [\"State: \", \"selector002\"]}}, \"value\": \"lightgray\"}, \"detail\": {\"type\": \"nominal\", \"field\": \"party_simplified\"}, \"opacity\": {\"condition\": {\"value\": 1, \"selection\": {\"or\": [\"State: \", \"selector002\"]}}, \"value\": 0.2}, \"tooltip\": [{\"type\": \"nominal\", \"field\": \"state\", \"title\": \"State Name:\"}, {\"type\": \"quantitative\", \"field\": \"cases_avg_per_100k\", \"title\": \"Cases per 100K:\"}], \"x\": {\"type\": \"temporal\", \"field\": \"date\"}, \"y\": {\"type\": \"quantitative\", \"field\": \"cases_avg_per_100k\"}}, \"height\": 300, \"selection\": {\"State: \": {\"type\": \"single\", \"fields\": [\"state\"], \"bind\": {\"input\": \"select\", \"options\": [null, \"Alabama\", \"Alaska\", \"Arizona\", \"Arkansas\", \"California\", \"Colorado\", \"Connecticut\", \"Delaware\", \"District of Columbia\", \"Florida\", \"Georgia\", \"Hawaii\", \"Idaho\", \"Illinois\", \"Indiana\", \"Iowa\", \"Kansas\", \"Kentucky\", \"Louisiana\", \"Maine\", \"Maryland\", \"Massachusetts\", \"Michigan\", \"Minnesota\", \"Mississippi\", \"Missouri\", \"Montana\", \"Nebraska\", \"Nevada\", \"New Hampshire\", \"New Jersey\", \"New Mexico\", \"New York\", \"North Carolina\", \"North Dakota\", \"Ohio\", \"Oklahoma\", \"Oregon\", \"Pennsylvania\", \"Rhode Island\", \"South Carolina\", \"South Dakota\", \"Tennessee\", \"Texas\", \"Utah\", \"Vermont\", \"Virginia\", \"Washington\", \"West Virginia\", \"Wisconsin\", \"Wyoming\"], \"labels\": [\"None\", \"Alabama\", \"Alaska\", \"Arizona\", \"Arkansas\", \"California\", \"Colorado\", \"Connecticut\", \"Delaware\", \"District of Columbia\", \"Florida\", \"Georgia\", \"Hawaii\", \"Idaho\", \"Illinois\", \"Indiana\", \"Iowa\", \"Kansas\", \"Kentucky\", \"Louisiana\", \"Maine\", \"Maryland\", \"Massachusetts\", \"Michigan\", \"Minnesota\", \"Mississippi\", \"Missouri\", \"Montana\", \"Nebraska\", \"Nevada\", \"New Hampshire\", \"New Jersey\", \"New Mexico\", \"New York\", \"North Carolina\", \"North Dakota\", \"Ohio\", \"Oklahoma\", \"Oregon\", \"Pennsylvania\", \"Rhode Island\", \"South Carolina\", \"South Dakota\", \"Tennessee\", \"Texas\", \"Utah\", \"Vermont\", \"Virginia\", \"Washington\", \"West Virginia\", \"Wisconsin\", \"Wyoming\"], \"name\": \"State: \"}, \"init\": {\"state\": \"Alaska\"}}, \"selector002\": {\"type\": \"multi\", \"fields\": [\"STATEFP\"], \"init\": [{\"STATEFP\": 1}]}}, \"title\": \"Covid cases after emergence of Delta variant in the US\", \"width\": 800}, {\"data\": {\"url\": \"altair-data-ed0e7a998c82d532554387c4af8f2edc.json\", \"format\": {\"type\": \"json\"}}, \"mark\": {\"type\": \"line\", \"color\": \"black\", \"strokeDash\": [6, 2], \"strokeWidth\": 3}, \"encoding\": {\"x\": {\"type\": \"temporal\", \"axis\": {\"labelAngle\": 0, \"title\": null}, \"field\": \"date\", \"scale\": {\"domain\": [\"2021-02-13T00:00:00\", \"2021-07-21T00:00:00\"]}, \"timeUnit\": \"yearmonthdate\"}, \"y\": {\"type\": \"quantitative\", \"axis\": {\"title\": \"Cases (rolling mean per 100K)\"}, \"field\": \"cases_avg_per_100k\"}}, \"height\": 400, \"width\": 600}]}, {\"data\": {\"url\": \"altair-data-d18c881934baf06dc43163feea5a33db.json\", \"format\": {\"type\": \"json\"}}, \"mark\": \"point\", \"encoding\": {\"opacity\": {\"value\": 0}, \"x\": {\"type\": \"temporal\", \"field\": \"date\"}}, \"selection\": {\"selector003\": {\"type\": \"single\", \"nearest\": true, \"on\": \"mouseover\", \"fields\": [\"date\"], \"empty\": \"none\"}}}, {\"data\": {\"url\": \"altair-data-d18c881934baf06dc43163feea5a33db.json\", \"format\": {\"type\": \"json\"}}, \"mark\": {\"type\": \"rule\", \"color\": \"darkgrey\", \"strokeDash\": [5, 4], \"strokeWidth\": 2}, \"encoding\": {\"x\": {\"type\": \"temporal\", \"field\": \"date\"}}, \"transform\": [{\"filter\": {\"selection\": \"selector003\"}}]}, {\"data\": {\"url\": \"altair-data-d18c881934baf06dc43163feea5a33db.json\", \"format\": {\"type\": \"json\"}}, \"mark\": {\"type\": \"text\", \"align\": \"left\", \"dx\": -60, \"dy\": -15, \"fontSize\": 15, \"lineBreak\": \"\\n\"}, \"encoding\": {\"color\": {\"condition\": {\"type\": \"nominal\", \"field\": \"state\", \"legend\": null, \"scale\": {\"domain\": [\"Alabama\", \"Alaska\", \"Arizona\", \"Arkansas\", \"California\", \"Colorado\", \"Connecticut\", \"Delaware\", \"District of Columbia\", \"Florida\", \"Georgia\", \"Hawaii\", \"Idaho\", \"Illinois\", \"Indiana\", \"Iowa\", \"Kansas\", \"Kentucky\", \"Louisiana\", \"Maine\", \"Maryland\", \"Massachusetts\", \"Michigan\", \"Minnesota\", \"Mississippi\", \"Missouri\", \"Montana\", \"Nebraska\", \"Nevada\", \"New Hampshire\", \"New Jersey\", \"New Mexico\", \"New York\", \"North Carolina\", \"North Dakota\", \"Ohio\", \"Oklahoma\", \"Oregon\", \"Pennsylvania\", \"Rhode Island\", \"South Carolina\", \"South Dakota\", \"Tennessee\", \"Texas\", \"Utah\", \"Vermont\", \"Virginia\", \"Washington\", \"West Virginia\", \"Wisconsin\", \"Wyoming\"], \"range\": [\"#FF0000\", \"#FF0000\", \"#0015BC\", \"#FF0000\", \"#0015BC\", \"#0015BC\", \"#0015BC\", \"#0015BC\", \"#0015BC\", \"#FF0000\", \"#0015BC\", \"#0015BC\", \"#FF0000\", \"#0015BC\", \"#FF0000\", \"#FF0000\", \"#FF0000\", \"#FF0000\", \"#FF0000\", \"#0015BC\", \"#0015BC\", \"#0015BC\", \"#0015BC\", \"#0015BC\", \"#FF0000\", \"#FF0000\", \"#FF0000\", \"#FF0000\", \"#0015BC\", \"#0015BC\", \"#0015BC\", \"#0015BC\", \"#0015BC\", \"#FF0000\", \"#FF0000\", \"#FF0000\", \"#FF0000\", \"#0015BC\", \"#0015BC\", \"#0015BC\", \"#FF0000\", \"#FF0000\", \"#FF0000\", \"#FF0000\", \"#FF0000\", \"#0015BC\", \"#0015BC\", \"#0015BC\", \"#FF0000\", \"#0015BC\", \"#FF0000\"]}, \"selection\": {\"or\": [\"State: \", \"selector002\"]}}, \"value\": \"lightgray\"}, \"detail\": {\"type\": \"nominal\", \"field\": \"party_simplified\"}, \"opacity\": {\"condition\": {\"value\": 1, \"selection\": {\"or\": [\"State: \", \"selector002\"]}}, \"value\": 0.2}, \"text\": {\"condition\": {\"type\": \"quantitative\", \"field\": \"cases_avg_per_100k\", \"format\": \".2f\", \"selection\": \"selector003\"}, \"value\": \" \"}, \"x\": {\"type\": \"temporal\", \"field\": \"date\"}, \"y\": {\"type\": \"quantitative\", \"field\": \"cases_avg_per_100k\"}}, \"height\": 300, \"title\": \"Covid cases after emergence of Delta variant in the US\", \"transform\": [{\"filter\": {\"selection\": \"State: \"}}], \"width\": 800}, {\"data\": {\"url\": \"altair-data-d18c881934baf06dc43163feea5a33db.json\", \"format\": {\"type\": \"json\"}}, \"mark\": {\"type\": \"text\", \"align\": \"left\", \"dx\": -60, \"dy\": -15, \"fontSize\": 15, \"lineBreak\": \"\\n\"}, \"encoding\": {\"color\": {\"condition\": {\"type\": \"nominal\", \"field\": \"state\", \"legend\": null, \"scale\": {\"domain\": [\"Alabama\", \"Alaska\", \"Arizona\", \"Arkansas\", \"California\", \"Colorado\", \"Connecticut\", \"Delaware\", \"District of Columbia\", \"Florida\", \"Georgia\", \"Hawaii\", \"Idaho\", \"Illinois\", \"Indiana\", \"Iowa\", \"Kansas\", \"Kentucky\", \"Louisiana\", \"Maine\", \"Maryland\", \"Massachusetts\", \"Michigan\", \"Minnesota\", \"Mississippi\", \"Missouri\", \"Montana\", \"Nebraska\", \"Nevada\", \"New Hampshire\", \"New Jersey\", \"New Mexico\", \"New York\", \"North Carolina\", \"North Dakota\", \"Ohio\", \"Oklahoma\", \"Oregon\", \"Pennsylvania\", \"Rhode Island\", \"South Carolina\", \"South Dakota\", \"Tennessee\", \"Texas\", \"Utah\", \"Vermont\", \"Virginia\", \"Washington\", \"West Virginia\", \"Wisconsin\", \"Wyoming\"], \"range\": [\"#FF0000\", \"#FF0000\", \"#0015BC\", \"#FF0000\", \"#0015BC\", \"#0015BC\", \"#0015BC\", \"#0015BC\", \"#0015BC\", \"#FF0000\", \"#0015BC\", \"#0015BC\", \"#FF0000\", \"#0015BC\", \"#FF0000\", \"#FF0000\", \"#FF0000\", \"#FF0000\", \"#FF0000\", \"#0015BC\", \"#0015BC\", \"#0015BC\", \"#0015BC\", \"#0015BC\", \"#FF0000\", \"#FF0000\", \"#FF0000\", \"#FF0000\", \"#0015BC\", \"#0015BC\", \"#0015BC\", \"#0015BC\", \"#0015BC\", \"#FF0000\", \"#FF0000\", \"#FF0000\", \"#FF0000\", \"#0015BC\", \"#0015BC\", \"#0015BC\", \"#FF0000\", \"#FF0000\", \"#FF0000\", \"#FF0000\", \"#FF0000\", \"#0015BC\", \"#0015BC\", \"#0015BC\", \"#FF0000\", \"#0015BC\", \"#FF0000\"]}, \"selection\": {\"or\": [\"State: \", \"selector002\"]}}, \"value\": \"lightgray\"}, \"detail\": {\"type\": \"nominal\", \"field\": \"party_simplified\"}, \"opacity\": {\"condition\": {\"value\": 1, \"selection\": {\"or\": [\"State: \", \"selector002\"]}}, \"value\": 0.2}, \"text\": {\"condition\": {\"type\": \"quantitative\", \"field\": \"cases_avg_per_100k\", \"format\": \".2f\", \"selection\": \"selector003\"}, \"value\": \" \"}, \"x\": {\"type\": \"temporal\", \"field\": \"date\"}, \"y\": {\"type\": \"quantitative\", \"field\": \"cases_avg_per_100k\"}}, \"height\": 300, \"title\": \"Covid cases after emergence of Delta variant in the US\", \"transform\": [{\"filter\": {\"selection\": \"selector002\"}}], \"width\": 800}, {\"data\": {\"url\": \"altair-data-ed0e7a998c82d532554387c4af8f2edc.json\", \"format\": {\"type\": \"json\"}}, \"mark\": {\"type\": \"text\", \"align\": \"left\", \"dx\": -60, \"dy\": -15, \"fontSize\": 15, \"lineBreak\": \"\\n\"}, \"encoding\": {\"text\": {\"condition\": {\"type\": \"quantitative\", \"field\": \"cases_avg_per_100k\", \"format\": \".2f\", \"selection\": \"selector003\"}, \"value\": \" \"}, \"x\": {\"type\": \"temporal\", \"axis\": {\"labelAngle\": 0, \"title\": null}, \"field\": \"date\", \"scale\": {\"domain\": [\"2021-02-13T00:00:00\", \"2021-07-21T00:00:00\"]}, \"timeUnit\": \"yearmonthdate\"}, \"y\": {\"type\": \"quantitative\", \"axis\": {\"title\": \"Cases (rolling mean per 100K)\"}, \"field\": \"cases_avg_per_100k\"}}, \"height\": 400, \"transform\": [{\"filter\": {\"selection\": \"selector002\"}}], \"width\": 600}, {\"data\": {\"url\": \"altair-data-d18c881934baf06dc43163feea5a33db.json\", \"format\": {\"type\": \"json\"}}, \"mark\": {\"type\": \"point\", \"dy\": -10, \"size\": 10}, \"encoding\": {\"color\": {\"condition\": {\"type\": \"nominal\", \"field\": \"state\", \"legend\": null, \"scale\": {\"domain\": [\"Alabama\", \"Alaska\", \"Arizona\", \"Arkansas\", \"California\", \"Colorado\", \"Connecticut\", \"Delaware\", \"District of Columbia\", \"Florida\", \"Georgia\", \"Hawaii\", \"Idaho\", \"Illinois\", \"Indiana\", \"Iowa\", \"Kansas\", \"Kentucky\", \"Louisiana\", \"Maine\", \"Maryland\", \"Massachusetts\", \"Michigan\", \"Minnesota\", \"Mississippi\", \"Missouri\", \"Montana\", \"Nebraska\", \"Nevada\", \"New Hampshire\", \"New Jersey\", \"New Mexico\", \"New York\", \"North Carolina\", \"North Dakota\", \"Ohio\", \"Oklahoma\", \"Oregon\", \"Pennsylvania\", \"Rhode Island\", \"South Carolina\", \"South Dakota\", \"Tennessee\", \"Texas\", \"Utah\", \"Vermont\", \"Virginia\", \"Washington\", \"West Virginia\", \"Wisconsin\", \"Wyoming\"], \"range\": [\"#FF0000\", \"#FF0000\", \"#0015BC\", \"#FF0000\", \"#0015BC\", \"#0015BC\", \"#0015BC\", \"#0015BC\", \"#0015BC\", \"#FF0000\", \"#0015BC\", \"#0015BC\", \"#FF0000\", \"#0015BC\", \"#FF0000\", \"#FF0000\", \"#FF0000\", \"#FF0000\", \"#FF0000\", \"#0015BC\", \"#0015BC\", \"#0015BC\", \"#0015BC\", \"#0015BC\", \"#FF0000\", \"#FF0000\", \"#FF0000\", \"#FF0000\", \"#0015BC\", \"#0015BC\", \"#0015BC\", \"#0015BC\", \"#0015BC\", \"#FF0000\", \"#FF0000\", \"#FF0000\", \"#FF0000\", \"#0015BC\", \"#0015BC\", \"#0015BC\", \"#FF0000\", \"#FF0000\", \"#FF0000\", \"#FF0000\", \"#FF0000\", \"#0015BC\", \"#0015BC\", \"#0015BC\", \"#FF0000\", \"#0015BC\", \"#FF0000\"]}, \"selection\": {\"or\": [\"State: \", \"selector002\"]}}, \"value\": \"lightgray\"}, \"detail\": {\"type\": \"nominal\", \"field\": \"party_simplified\"}, \"opacity\": {\"condition\": {\"value\": 1, \"selection\": \"selector003\"}, \"value\": 0}, \"x\": {\"type\": \"temporal\", \"field\": \"date\"}, \"y\": {\"type\": \"quantitative\", \"field\": \"cases_avg_per_100k\"}}, \"height\": 300, \"title\": \"Covid cases after emergence of Delta variant in the US\", \"width\": 800}], \"height\": 300, \"width\": 600}], \"$schema\": \"https://vega.github.io/schema/vega-lite/v4.8.1.json\"}, {\"mode\": \"vega-lite\"});\n",
       "</script>"
      ]
     },
     "metadata": {},
     "execution_count": 7
    }
   ],
   "metadata": {}
  },
  {
   "cell_type": "markdown",
   "source": [
    "> The New York Times is releasing estimates of mask usage by county in the United States.\n",
    "\n",
    ">This data comes from a large number of interviews conducted online by the global data and survey firm Dynata at the request of The New York Times. The firm asked a question about mask use to obtain 250,000 survey responses between July 2 and July 14, enough data to provide estimates more detailed than the state level. (Several states have imposed new mask requirements since the completion of these interviews.)\n",
    "Specifically, each participant was asked: How often do you wear a mask in public when you expect to be within six feet of another person?\n",
    "\n",
    ">This survey was conducted a single time, and at this point we have no plans to update the data or conduct the survey again.\n",
    "The fields have the following definitions:\n",
    "\n",
    "    COUNTYFP: The county FIPS code.\n",
    "    NEVER: The estimated share of people in this county who would say never in response to the question \n",
    "     “How often do you wear a mask in public when you expect to be within six feet of another person?”\n",
    "    RARELY: The estimated share of people in this county who would say rarely\n",
    "    SOMETIMES: The estimated share of people in this county who would say sometimes\n",
    "    FREQUENTLY: The estimated share of people in this county who would say frequently\n",
    "    ALWAYS: The estimated share of people in this county who would say always\n",
    "    \n",
    "    \n",
    ">What the numbers mean\n",
    "To transform raw survey responses into county-level estimates, the survey data was weighted by age and gender, and survey respondents’ locations were approximated from their ZIP codes. Then estimates of mask-wearing were made for each census tract by taking a weighted average of the 200 nearest responses, with closer responses getting more weight in the average. These tract-level estimates were then rolled up to the county level according to each tract’s total population.\n",
    "\n",
    ">By rolling the estimates up to counties, it reduces a lot of the random noise that is seen at the tract level. In addition, the shapes in the map are constructed from census tracts that have been merged together — this helps in displaying a detailed map, but is less useful than county-level in analyzing the data.\n",
    "\n"
   ],
   "metadata": {}
  },
  {
   "cell_type": "code",
   "execution_count": 8,
   "source": [
    "createCombinedElectoralAndMaskUsageCharts().configure_view(strokeOpacity=0)\r\n"
   ],
   "outputs": [
    {
     "output_type": "execute_result",
     "data": {
      "text/plain": [
       "alt.VConcatChart(...)"
      ],
      "text/html": [
       "\n",
       "<div id=\"altair-viz-6d7472fcf7914e2586fa1c3f4f0bb181\"></div>\n",
       "<script type=\"text/javascript\">\n",
       "  (function(spec, embedOpt){\n",
       "    let outputDiv = document.currentScript.previousElementSibling;\n",
       "    if (outputDiv.id !== \"altair-viz-6d7472fcf7914e2586fa1c3f4f0bb181\") {\n",
       "      outputDiv = document.getElementById(\"altair-viz-6d7472fcf7914e2586fa1c3f4f0bb181\");\n",
       "    }\n",
       "    const paths = {\n",
       "      \"vega\": \"https://cdn.jsdelivr.net/npm//vega@5?noext\",\n",
       "      \"vega-lib\": \"https://cdn.jsdelivr.net/npm//vega-lib?noext\",\n",
       "      \"vega-lite\": \"https://cdn.jsdelivr.net/npm//vega-lite@4.8.1?noext\",\n",
       "      \"vega-embed\": \"https://cdn.jsdelivr.net/npm//vega-embed@6?noext\",\n",
       "    };\n",
       "\n",
       "    function loadScript(lib) {\n",
       "      return new Promise(function(resolve, reject) {\n",
       "        var s = document.createElement('script');\n",
       "        s.src = paths[lib];\n",
       "        s.async = true;\n",
       "        s.onload = () => resolve(paths[lib]);\n",
       "        s.onerror = () => reject(`Error loading script: ${paths[lib]}`);\n",
       "        document.getElementsByTagName(\"head\")[0].appendChild(s);\n",
       "      });\n",
       "    }\n",
       "\n",
       "    function showError(err) {\n",
       "      outputDiv.innerHTML = `<div class=\"error\" style=\"color:red;\">${err}</div>`;\n",
       "      throw err;\n",
       "    }\n",
       "\n",
       "    function displayChart(vegaEmbed) {\n",
       "      vegaEmbed(outputDiv, spec, embedOpt)\n",
       "        .catch(err => showError(`Javascript Error: ${err.message}<br>This usually means there's a typo in your chart specification. See the javascript console for the full traceback.`));\n",
       "    }\n",
       "\n",
       "    if(typeof define === \"function\" && define.amd) {\n",
       "      requirejs.config({paths});\n",
       "      require([\"vega-embed\"], displayChart, err => showError(`Error loading script: ${err.message}`));\n",
       "    } else if (typeof vegaEmbed === \"function\") {\n",
       "      displayChart(vegaEmbed);\n",
       "    } else {\n",
       "      loadScript(\"vega\")\n",
       "        .then(() => loadScript(\"vega-lite\"))\n",
       "        .then(() => loadScript(\"vega-embed\"))\n",
       "        .catch(showError)\n",
       "        .then(() => displayChart(vegaEmbed));\n",
       "    }\n",
       "  })({\"config\": {\"view\": {\"continuousWidth\": 400, \"continuousHeight\": 300, \"strokeOpacity\": 0}, \"concat\": {\"spacing\": 10}}, \"vconcat\": [{\"layer\": [{\"data\": {\"url\": \"https://cdn.jsdelivr.net/npm/vega-datasets@v1.29.0/data/us-10m.json\", \"format\": {\"feature\": \"counties\", \"type\": \"topojson\"}}, \"mark\": \"geoshape\", \"encoding\": {\"color\": {\"type\": \"nominal\", \"field\": \"changecolor\", \"scale\": null}, \"opacity\": {\"condition\": {\"value\": 0.8, \"selection\": \"Affiliation: \"}, \"value\": 0.2}, \"tooltip\": [{\"type\": \"nominal\", \"field\": \"state\", \"title\": \"State: \"}, {\"type\": \"nominal\", \"field\": \"CTYNAME\", \"title\": \"County name: \"}, {\"type\": \"nominal\", \"field\": \"party_winner_2016\", \"title\": \"2016 Presidential election winner: \"}, {\"type\": \"nominal\", \"field\": \"party_winner_2020\", \"title\": \"2020 Presidential election winner: \"}]}, \"height\": 500, \"projection\": {\"type\": \"albersUsa\"}, \"selection\": {\"Affiliation: \": {\"type\": \"single\", \"fields\": [\"segmentname\"], \"bind\": {\"input\": \"select\", \"options\": [\"To Democrat\", \"To Republican\"], \"name\": \"Affiliation: \"}}, \"selector004\": {\"type\": \"multi\", \"fields\": [\"COUNTYANDFP\"]}}, \"title\": \"Counties that changed affiliations in 2020 elections\", \"transform\": [{\"lookup\": \"id\", \"from\": {\"data\": {\"url\": \"altair-data-5d95b1c3752ff487b4b456ba60ed8e0d.json\", \"format\": {\"type\": \"json\"}}, \"key\": \"COUNTYFP\", \"fields\": [\"party_winner_2016\", \"party_winner_2020\", \"COUNTYFP\", \"CTYNAME\", \"COUNTYANDFP\", \"changecolor\", \"state\", \"state_po\", \"segmentname\"]}}], \"width\": 950}, {\"data\": {\"url\": \"https://cdn.jsdelivr.net/npm/vega-datasets@v1.29.0/data/us-10m.json\", \"format\": {\"feature\": \"states\", \"type\": \"topojson\"}}, \"mark\": {\"type\": \"geoshape\", \"fillOpacity\": 0, \"stroke\": \"grey\"}, \"height\": 500, \"projection\": {\"type\": \"albersUsa\"}, \"width\": 950}]}, {\"vconcat\": [{\"data\": {\"url\": \"altair-data-dd737390db86c3216af3bb7b6900e35f.json\", \"format\": {\"type\": \"json\"}}, \"mark\": \"bar\", \"encoding\": {\"color\": {\"type\": \"nominal\", \"field\": \"mask_usage_type\", \"legend\": {\"title\": \"Mask usage type\"}, \"scale\": {\"domain\": [\"FREQUENT\", \"NOT FREQUENT\"], \"range\": [\"#ddccbb\", \"#FF0000\"]}}, \"opacity\": {\"condition\": {\"value\": 0.8, \"selection\": \"Affiliation: \"}, \"value\": 0.2}, \"x\": {\"type\": \"nominal\", \"field\": \"COUNTYANDFP\", \"sort\": [45033.0, 45027.0, 37165.0, 13033.0, 39093.0, 8003.0, 39099.0, 48283.0, 48249.0, 48389.0, 48163.0, 48273.0, 48465.0, 48261.0, 48505.0], \"title\": \"\"}, \"y\": {\"type\": \"quantitative\", \"field\": \"mask_usage\", \"title\": \"\"}}, \"height\": 100, \"selection\": {\"Affiliation: \": {\"type\": \"single\", \"fields\": [\"segmentname\"], \"bind\": {\"input\": \"select\", \"options\": [\"To Democrat\", \"To Republican\"], \"name\": \"Affiliation: \"}}, \"selector004\": {\"type\": \"multi\", \"fields\": [\"COUNTYANDFP\"]}}, \"width\": 200}, {\"data\": {\"url\": \"altair-data-da96f62db5b7f8fad3e54dfb21f925f1.json\", \"format\": {\"type\": \"json\"}}, \"mark\": \"bar\", \"encoding\": {\"color\": {\"type\": \"nominal\", \"field\": \"mask_usage_type\", \"legend\": {\"title\": \"Mask usage type\"}, \"scale\": {\"domain\": [\"FREQUENT\", \"NOT FREQUENT\"], \"range\": [\"#ddccbb\", \"#0015BC\"]}}, \"opacity\": {\"condition\": {\"value\": 0.8, \"selection\": \"Affiliation: \"}, \"value\": 0.2}, \"x\": {\"type\": \"nominal\", \"field\": \"COUNTYANDFP\", \"sort\": [30005.0, 16081.0, 56001.0, 27027.0, 55111.0, 46137.0, 27103.0, 27013.0, 18157.0, 49019.0, 17113.0, 27169.0, 33003.0, 8015.0, 23011.0, 20161.0, 28149.0, 26145.0, 20177.0, 12031.0, 51179.0, 51680.0, 33019.0, 39113.0, 6007.0, 33011.0, 36031.0, 33015.0, 26081.0, 12117.0, 8045.0, 10001.0, 51550.0, 8101.0, 51041.0, 48439.0, 26089.0, 24021.0, 20091.0, 36007.0, 51810.0, 12103.0, 37127.0, 48491.0, 34015.0, 36083.0, 55029.0, 4013.0, 42049.0, 41047.0, 36091.0, 34027.0, 41017.0, 37129.0, 24029.0, 17093.0, 44003.0, 42095.0, 6027.0, 24041.0, 48209.0, 53009.0, 51095.0], \"title\": \"\"}, \"y\": {\"type\": \"quantitative\", \"field\": \"mask_usage\", \"title\": \"\"}}, \"height\": 100, \"selection\": {\"Affiliation: \": {\"type\": \"single\", \"fields\": [\"segmentname\"], \"bind\": {\"input\": \"select\", \"options\": [\"To Democrat\", \"To Republican\"], \"name\": \"Affiliation: \"}}}, \"width\": 700}], \"resolve\": {\"scale\": {\"color\": \"independent\"}}}], \"$schema\": \"https://vega.github.io/schema/vega-lite/v4.8.1.json\"}, {\"mode\": \"vega-lite\"});\n",
       "</script>"
      ]
     },
     "metadata": {},
     "execution_count": 8
    }
   ],
   "metadata": {}
  },
  {
   "cell_type": "markdown",
   "source": [
    " ### Dependencies \n",
    "    %reload_ext watermark\n",
    "    CPython 3.7.7\n",
    "    IPython 7.19.0\n",
    "\n",
    "    pandas 1.1.0\n",
    "    ipywidgets 7.5.1\n",
    "    plotly 4.12.0\n",
    "    altair 4.1.0\n",
    "\n",
    "    compiler   : MSC v.1900 64 bit (AMD64)\n",
    "    system     : Windows\n",
    "    release    : 10\n",
    "    machine    : AMD64\n",
    "    processor  : Intel64 Family 6 Model 142 Stepping 10, GenuineIntel\n",
    "    CPU cores  : 8\n",
    "    interpreter: 64bit"
   ],
   "metadata": {}
  },
  {
   "cell_type": "markdown",
   "source": [
    "\n"
   ],
   "metadata": {}
  },
  {
   "cell_type": "code",
   "execution_count": 9,
   "source": [
    "### HOW THE CREDENTIALS WERE STORED IN A PICKLE FILES\r\n",
    "\r\n",
    "# import pickle\r\n",
    "\r\n",
    "# ## https://data.cdc.gov/profile/edit/developer_settings\r\n",
    "\r\n",
    "# APIToken = \"MyToken\"\r\n",
    "# pickle_out = open(\"APIToken.pickle\",\"wb\")\r\n",
    "# pickle.dump(APIToken, pickle_out)\r\n",
    "# pickle_out.close()"
   ],
   "outputs": [],
   "metadata": {}
  },
  {
   "cell_type": "markdown",
   "source": [],
   "metadata": {}
  },
  {
   "cell_type": "markdown",
   "source": [
    "## Section 6: Sources\n",
    "\n",
    " >Source: [New York Time Github Covid data](https://raw.githubusercontent.com/nytimes/covid-19-data/master/us-counties.csv)<br>      [Estimates of mask use](https://github.com/nytimes/covid-19-data/tree/master/mask-use)\n"
   ],
   "metadata": {}
  },
  {
   "cell_type": "code",
   "execution_count": 10,
   "source": [
    "# %load_ext watermark\r\n",
    "# %watermark -v -m -p pandas,ipywidgets,plotly,altair\r\n"
   ],
   "outputs": [],
   "metadata": {}
  }
 ],
 "metadata": {
  "kernelspec": {
   "name": "python3",
   "display_name": "Python 3.8.8 64-bit ('base': conda)"
  },
  "language_info": {
   "codemirror_mode": {
    "name": "ipython",
    "version": 3
   },
   "file_extension": ".py",
   "mimetype": "text/x-python",
   "name": "python",
   "nbconvert_exporter": "python",
   "pygments_lexer": "ipython3",
   "version": "3.8.8"
  },
  "toc": {
   "base_numbering": 1,
   "nav_menu": {},
   "number_sections": true,
   "sideBar": true,
   "skip_h1_title": false,
   "title_cell": "Table of Contents",
   "title_sidebar": "Contents",
   "toc_cell": false,
   "toc_position": {},
   "toc_section_display": true,
   "toc_window_display": false
  },
  "varInspector": {
   "cols": {
    "lenName": 16,
    "lenType": 16,
    "lenVar": 40
   },
   "kernels_config": {
    "python": {
     "delete_cmd_postfix": "",
     "delete_cmd_prefix": "del ",
     "library": "var_list.py",
     "varRefreshCmd": "print(var_dic_list())"
    },
    "r": {
     "delete_cmd_postfix": ") ",
     "delete_cmd_prefix": "rm(",
     "library": "var_list.r",
     "varRefreshCmd": "cat(var_dic_list()) "
    }
   },
   "types_to_exclude": [
    "module",
    "function",
    "builtin_function_or_method",
    "instance",
    "_Feature"
   ],
   "window_display": false
  },
  "interpreter": {
   "hash": "7b4b4feff2f24a0f0a34464dbe537a36fda679851528fb8735cb41fa49dffb2d"
  }
 },
 "nbformat": 4,
 "nbformat_minor": 5
}