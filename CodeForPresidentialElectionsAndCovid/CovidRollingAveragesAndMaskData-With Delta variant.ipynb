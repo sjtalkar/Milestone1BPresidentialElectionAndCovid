{
 "cells": [
  {
   "cell_type": "markdown",
   "id": "a836f316",
   "metadata": {},
   "source": [
    "# Covid data\n",
    "\n",
    "[ADD INTRO HERE]\n",
    "\n",
    "<b>Section 1a: County level COVID case and election data preparation</b><br>\n",
    "<b>Section 1b: County level COVID case and election chart preparation</b><br>\n",
    "<b>Section 1c: County level main code for COVID cases and elections</b><br>\n",
    "<b>Section 1d: Comments on county level COVID cases and elections</b><br>\n",
    "<b>Section 2a: County level COVID deaths and elections chart preparation</b><br>\n",
    "<b>Section 2b: County level main code for COVID deaths and elections</b><br>\n",
    "<b>Section 3a: State level vaccination and election data/chart preparation</b><br>\n",
    "<b>Section 3b: State level main code for vaccinations and elections</b><br>\n",
    "<b>Section 4: Notes</b><br>\n",
    "<b>Section 5: Sources</b><br>\n"
   ]
  },
  {
   "cell_type": "code",
   "execution_count": 1,
   "id": "c5f3c0c4",
   "metadata": {},
   "outputs": [],
   "source": [
    "from ETLForElectionAndVaccinationData import *"
   ]
  },
  {
   "cell_type": "markdown",
   "id": "9692d9dc",
   "metadata": {},
   "source": [
    "## Section 1a: County level COVID case and election data preparation\n",
    "\n",
    "getRollingCaseAverageSegmentLevel()<br>\n",
    "getCasesRollingAveragePer100K()<br>\n",
    "getElectionSegmentsData()<br>\n",
    "getElectionData()"
   ]
  },
  {
   "cell_type": "markdown",
   "id": "e711e25e",
   "metadata": {},
   "source": [
    "## Section 1b: County level COVID case and election chart preparation\n",
    "\n",
    "createChart()<br>\n",
    "getBaseChart()<br>\n",
    "getSelection()<br>\n",
    "createTooltip()"
   ]
  },
  {
   "cell_type": "markdown",
   "id": "88d9c4a7",
   "metadata": {},
   "source": [
    "## Section 1c: County level main code for COVID cases and elections\n",
    "\n",
    "Creates chart showing rolling average of COVID cases over time segmented by change - if any - of political affiliation."
   ]
  },
  {
   "cell_type": "code",
   "execution_count": 2,
   "id": "ca269862",
   "metadata": {},
   "outputs": [
    {
     "data": {
      "text/html": [
       "\n",
       "<div id=\"altair-viz-4f76f0370de449d0baa582e0d7185814\"></div>\n",
       "<script type=\"text/javascript\">\n",
       "  (function(spec, embedOpt){\n",
       "    let outputDiv = document.currentScript.previousElementSibling;\n",
       "    if (outputDiv.id !== \"altair-viz-4f76f0370de449d0baa582e0d7185814\") {\n",
       "      outputDiv = document.getElementById(\"altair-viz-4f76f0370de449d0baa582e0d7185814\");\n",
       "    }\n",
       "    const paths = {\n",
       "      \"vega\": \"https://cdn.jsdelivr.net/npm//vega@5?noext\",\n",
       "      \"vega-lib\": \"https://cdn.jsdelivr.net/npm//vega-lib?noext\",\n",
       "      \"vega-lite\": \"https://cdn.jsdelivr.net/npm//vega-lite@4.8.1?noext\",\n",
       "      \"vega-embed\": \"https://cdn.jsdelivr.net/npm//vega-embed@6?noext\",\n",
       "    };\n",
       "\n",
       "    function loadScript(lib) {\n",
       "      return new Promise(function(resolve, reject) {\n",
       "        var s = document.createElement('script');\n",
       "        s.src = paths[lib];\n",
       "        s.async = true;\n",
       "        s.onload = () => resolve(paths[lib]);\n",
       "        s.onerror = () => reject(`Error loading script: ${paths[lib]}`);\n",
       "        document.getElementsByTagName(\"head\")[0].appendChild(s);\n",
       "      });\n",
       "    }\n",
       "\n",
       "    function showError(err) {\n",
       "      outputDiv.innerHTML = `<div class=\"error\" style=\"color:red;\">${err}</div>`;\n",
       "      throw err;\n",
       "    }\n",
       "\n",
       "    function displayChart(vegaEmbed) {\n",
       "      vegaEmbed(outputDiv, spec, embedOpt)\n",
       "        .catch(err => showError(`Javascript Error: ${err.message}<br>This usually means there's a typo in your chart specification. See the javascript console for the full traceback.`));\n",
       "    }\n",
       "\n",
       "    if(typeof define === \"function\" && define.amd) {\n",
       "      requirejs.config({paths});\n",
       "      require([\"vega-embed\"], displayChart, err => showError(`Error loading script: ${err.message}`));\n",
       "    } else if (typeof vegaEmbed === \"function\") {\n",
       "      displayChart(vegaEmbed);\n",
       "    } else {\n",
       "      loadScript(\"vega\")\n",
       "        .then(() => loadScript(\"vega-lite\"))\n",
       "        .then(() => loadScript(\"vega-embed\"))\n",
       "        .catch(showError)\n",
       "        .then(() => displayChart(vegaEmbed));\n",
       "    }\n",
       "  })({\"config\": {\"view\": {\"continuousWidth\": 400, \"continuousHeight\": 300}}, \"hconcat\": [{\"layer\": [{\"data\": {\"url\": \"altair-data-a18c3ee3e4c894010ba0e507da380a32.json\", \"format\": {\"type\": \"json\"}}, \"mark\": {\"type\": \"line\", \"strokeWidth\": 2}, \"encoding\": {\"color\": {\"condition\": {\"type\": \"nominal\", \"field\": \"changecolor\", \"legend\": null, \"scale\": null, \"selection\": \"Segment\"}, \"value\": \"lightgrey\"}, \"strokeDash\": {\"condition\": {\"value\": [3, 5], \"test\": \"((datum.segmentname === 'To Democrat') || (datum.segmentname === 'To Republican'))\"}, \"value\": [0]}, \"x\": {\"type\": \"temporal\", \"axis\": {\"labelAngle\": 0, \"title\": null}, \"field\": \"date\", \"scale\": {\"domain\": [\"2020-01-01\", \"2020-12-31\"]}, \"timeUnit\": \"yearmonthdate\"}, \"y\": {\"type\": \"quantitative\", \"axis\": {\"title\": \"Cases (rolling mean per 100K)\"}, \"field\": \"cases_avg_per_100k\"}}, \"height\": 400, \"selection\": {\"Segment\": {\"type\": \"multi\", \"fields\": [\"segmentname\", \"changecolor\"]}}, \"title\": \"Rolling Average Cases Per 100K\", \"width\": 600}, {\"data\": {\"url\": \"altair-data-a18c3ee3e4c894010ba0e507da380a32.json\", \"format\": {\"type\": \"json\"}}, \"mark\": \"point\", \"encoding\": {\"opacity\": {\"value\": 0}, \"x\": {\"type\": \"temporal\", \"field\": \"date\"}}, \"selection\": {\"selector001\": {\"type\": \"single\", \"nearest\": true, \"on\": \"mouseover\", \"fields\": [\"date\"], \"empty\": \"none\"}}}, {\"data\": {\"url\": \"altair-data-a18c3ee3e4c894010ba0e507da380a32.json\", \"format\": {\"type\": \"json\"}}, \"mark\": {\"type\": \"point\", \"dy\": -10, \"size\": 5}, \"encoding\": {\"opacity\": {\"condition\": {\"value\": 1, \"selection\": \"selector001\"}, \"value\": 0}, \"x\": {\"type\": \"temporal\", \"axis\": {\"labelAngle\": 0, \"title\": null}, \"field\": \"date\", \"scale\": {\"domain\": [\"2020-01-01\", \"2020-12-31\"]}, \"timeUnit\": \"yearmonthdate\"}, \"y\": {\"type\": \"quantitative\", \"axis\": {\"title\": \"Cases (rolling mean per 100K)\"}, \"field\": \"cases_avg_per_100k\"}}, \"height\": 400, \"transform\": [{\"filter\": {\"selection\": \"Segment\"}}], \"width\": 600}, {\"data\": {\"url\": \"altair-data-a18c3ee3e4c894010ba0e507da380a32.json\", \"format\": {\"type\": \"json\"}}, \"mark\": {\"type\": \"rule\", \"color\": \"darkgrey\", \"strokeDash\": [5, 4], \"strokeWidth\": 2}, \"encoding\": {\"x\": {\"type\": \"temporal\", \"field\": \"date\"}}, \"transform\": [{\"filter\": {\"selection\": \"selector001\"}}]}, {\"data\": {\"url\": \"altair-data-a18c3ee3e4c894010ba0e507da380a32.json\", \"format\": {\"type\": \"json\"}}, \"mark\": {\"type\": \"text\", \"align\": \"left\", \"dx\": -60, \"dy\": -15, \"fontSize\": 15, \"lineBreak\": \"\\n\"}, \"encoding\": {\"text\": {\"condition\": {\"type\": \"quantitative\", \"field\": \"cases_avg_per_100k\", \"format\": \".2f\", \"selection\": \"selector001\"}, \"value\": \" \"}, \"x\": {\"type\": \"temporal\", \"axis\": {\"labelAngle\": 0, \"title\": null}, \"field\": \"date\", \"scale\": {\"domain\": [\"2020-01-01\", \"2020-12-31\"]}, \"timeUnit\": \"yearmonthdate\"}, \"y\": {\"type\": \"quantitative\", \"axis\": {\"title\": \"Cases (rolling mean per 100K)\"}, \"field\": \"cases_avg_per_100k\"}}, \"height\": 400, \"transform\": [{\"filter\": {\"selection\": \"Segment\"}}], \"width\": 600}]}, {\"data\": {\"url\": \"altair-data-a18c3ee3e4c894010ba0e507da380a32.json\", \"format\": {\"type\": \"json\"}}, \"mark\": \"rect\", \"encoding\": {\"color\": {\"condition\": {\"type\": \"nominal\", \"field\": \"changecolor\", \"legend\": null, \"scale\": null, \"selection\": \"Segment\"}, \"value\": \"lightgrey\"}, \"y\": {\"type\": \"nominal\", \"axis\": {\"title\": \"Pick affiliation\", \"titleFontSize\": 15}, \"field\": \"segmentname\"}}, \"selection\": {\"Segment\": {\"type\": \"multi\", \"fields\": [\"segmentname\", \"changecolor\"]}}}], \"$schema\": \"https://vega.github.io/schema/vega-lite/v4.8.1.json\"}, {\"mode\": \"vega-lite\"});\n",
       "</script>"
      ],
      "text/plain": [
       "alt.HConcatChart(...)"
      ]
     },
     "execution_count": 2,
     "metadata": {},
     "output_type": "execute_result"
    }
   ],
   "source": [
    "# Get rolling average of cases by segment\n",
    "case_rolling_df = getRollingCaseAverageSegmentLevel()\n",
    "segment_list = case_rolling_df.changecolor.unique()\n",
    "\n",
    "# Create the chart\n",
    "base, make_selector, highlight_segment, radio_select  = createChart(case_rolling_df)\n",
    "selectors, rules, points, tooltip_text  = createTooltip(base, radio_select, case_rolling_df)\n",
    "\n",
    "\n",
    "# Bring all the layers together with layering and concatenation\n",
    "( alt.layer(\n",
    "    highlight_segment, selectors, points,rules, tooltip_text ) | make_selector \n",
    ")\n",
    "\n"
   ]
  },
  {
   "cell_type": "markdown",
   "id": "302c9013",
   "metadata": {},
   "source": [
    "## Section 1d: Comments on county level COVID cases and elections\n",
    "\n",
    "##TBD TO confirm\n",
    "An Associated Press analysis reveals that in 376 counties with the highest number of new cases per capita, the overwhelming majority—93% of those counties—went for Trump, a rate above other less severely hit areas.\n",
    "\n",
    "https://fortune.com/2020/11/06/trump-voters-covid-cases-red-counties-2020-election-results/\n",
    "\n",
    "Many Places Hard Hit By COVID-19 Leaned More Toward Trump In 2020 Than 2016\n",
    "Support for President Trump increased in 2020 in many of the U.S. counties that lost lives at the highest rate to COVID-19, according to an NPR analysis.\n",
    "\n",
    "Of the 100 counties with the highest COVID-19 death rates per capita, 68 had a higher proportion of votes cast for Trump this cycle than they did in 2016. This includes both Republican-leaning counties and counties that supported Joe Biden.\n",
    "https://www.npr.org/sections/health-shots/2020/11/06/930897912/many-places-hard-hit-by-covid-19-leaned-more-toward-trump-in-2020-than-2016\n"
   ]
  },
  {
   "cell_type": "markdown",
   "id": "b3f8973b",
   "metadata": {},
   "source": [
    "## Section 2a: County level COVID deaths and elections chart preparation\n",
    "\n",
    "createPercentPointChangeAvgDeathsChart()"
   ]
  },
  {
   "cell_type": "markdown",
   "id": "372d6206",
   "metadata": {},
   "source": [
    "## Section 2b: County level main code for COVID deaths and elections\n",
    "\n",
    "Creates chart showing average COVID deaths versus percent change for each political affiliation. Data point colors are segmented by change - if any - in affiliation."
   ]
  },
  {
   "cell_type": "code",
   "execution_count": 3,
   "id": "55d8fe4c",
   "metadata": {},
   "outputs": [
    {
     "data": {
      "text/html": [
       "\n",
       "<div id=\"altair-viz-118a736b711641b8acd02efb5d4aee1a\"></div>\n",
       "<script type=\"text/javascript\">\n",
       "  (function(spec, embedOpt){\n",
       "    let outputDiv = document.currentScript.previousElementSibling;\n",
       "    if (outputDiv.id !== \"altair-viz-118a736b711641b8acd02efb5d4aee1a\") {\n",
       "      outputDiv = document.getElementById(\"altair-viz-118a736b711641b8acd02efb5d4aee1a\");\n",
       "    }\n",
       "    const paths = {\n",
       "      \"vega\": \"https://cdn.jsdelivr.net/npm//vega@5?noext\",\n",
       "      \"vega-lib\": \"https://cdn.jsdelivr.net/npm//vega-lib?noext\",\n",
       "      \"vega-lite\": \"https://cdn.jsdelivr.net/npm//vega-lite@4.8.1?noext\",\n",
       "      \"vega-embed\": \"https://cdn.jsdelivr.net/npm//vega-embed@6?noext\",\n",
       "    };\n",
       "\n",
       "    function loadScript(lib) {\n",
       "      return new Promise(function(resolve, reject) {\n",
       "        var s = document.createElement('script');\n",
       "        s.src = paths[lib];\n",
       "        s.async = true;\n",
       "        s.onload = () => resolve(paths[lib]);\n",
       "        s.onerror = () => reject(`Error loading script: ${paths[lib]}`);\n",
       "        document.getElementsByTagName(\"head\")[0].appendChild(s);\n",
       "      });\n",
       "    }\n",
       "\n",
       "    function showError(err) {\n",
       "      outputDiv.innerHTML = `<div class=\"error\" style=\"color:red;\">${err}</div>`;\n",
       "      throw err;\n",
       "    }\n",
       "\n",
       "    function displayChart(vegaEmbed) {\n",
       "      vegaEmbed(outputDiv, spec, embedOpt)\n",
       "        .catch(err => showError(`Javascript Error: ${err.message}<br>This usually means there's a typo in your chart specification. See the javascript console for the full traceback.`));\n",
       "    }\n",
       "\n",
       "    if(typeof define === \"function\" && define.amd) {\n",
       "      requirejs.config({paths});\n",
       "      require([\"vega-embed\"], displayChart, err => showError(`Error loading script: ${err.message}`));\n",
       "    } else if (typeof vegaEmbed === \"function\") {\n",
       "      displayChart(vegaEmbed);\n",
       "    } else {\n",
       "      loadScript(\"vega\")\n",
       "        .then(() => loadScript(\"vega-lite\"))\n",
       "        .then(() => loadScript(\"vega-embed\"))\n",
       "        .catch(showError)\n",
       "        .then(() => displayChart(vegaEmbed));\n",
       "    }\n",
       "  })({\"config\": {\"view\": {\"continuousWidth\": 400, \"continuousHeight\": 300}}, \"layer\": [{\"data\": {\"url\": \"altair-data-3c417b2a716688738250c8f217143794.json\", \"format\": {\"type\": \"json\"}}, \"mark\": \"circle\", \"encoding\": {\"color\": {\"condition\": {\"type\": \"nominal\", \"field\": \"changecolor\", \"legend\": null, \"scale\": null, \"selection\": \"Affiliation: \"}, \"value\": \"lightgray\"}, \"tooltip\": [{\"type\": \"nominal\", \"field\": \"CTYNAME\", \"title\": \"County Name:\"}, {\"type\": \"nominal\", \"field\": \"state\", \"title\": \"State Name:\"}, {\"type\": \"nominal\", \"field\": \"pct_increase\", \"format\": \".2f\", \"title\": \"Percent Point Increase:\"}], \"x\": {\"type\": \"quantitative\", \"field\": \"pct_increase\", \"title\": \"Percent point change\"}, \"y\": {\"type\": \"quantitative\", \"field\": \"deaths_avg_per_100k\", \"title\": \"Average deaths per 100K\"}}, \"height\": 300, \"selection\": {\"Affiliation: \": {\"type\": \"single\", \"fields\": [\"segmentname\"], \"bind\": {\"input\": \"select\", \"options\": [\"Stayed Republican\", \"Stayed Democrat\", \"To Republican\", \"To Democrat\"], \"name\": \"Affiliation: \"}}}, \"title\": \"Covid deaths in 2020 versus Percentage point difference in votes\", \"width\": 800}, {\"data\": {\"url\": \"altair-data-a2cf18193c19be88afd84610434ea0f7.json\", \"format\": {\"type\": \"json\"}}, \"mark\": {\"type\": \"rule\", \"strokeDash\": [2, 5]}, \"encoding\": {\"x\": {\"type\": \"quantitative\", \"field\": \"x\"}}}, {\"data\": {\"url\": \"altair-data-37fece1235d48a04371eabc01a43f366.json\", \"format\": {\"type\": \"json\"}}, \"mark\": {\"type\": \"rule\", \"strokeDash\": [2, 5]}, \"encoding\": {\"y\": {\"type\": \"quantitative\", \"field\": \"y\"}}}, {\"data\": {\"url\": \"altair-data-3c53ba392b85bb9308a2e5266765e654.json\", \"format\": {\"type\": \"json\"}}, \"mark\": {\"type\": \"text\", \"align\": \"left\", \"baseline\": \"middle\", \"dx\": 7, \"fontSize\": 10}, \"encoding\": {\"text\": {\"type\": \"nominal\", \"field\": \"note\"}, \"x\": {\"type\": \"quantitative\", \"field\": \"x\"}, \"y\": {\"type\": \"quantitative\", \"field\": \"y\"}}}], \"$schema\": \"https://vega.github.io/schema/vega-lite/v4.8.1.json\"}, {\"mode\": \"vega-lite\"});\n",
       "</script>"
      ],
      "text/plain": [
       "alt.LayerChart(...)"
      ]
     },
     "execution_count": 3,
     "metadata": {},
     "output_type": "execute_result"
    }
   ],
   "source": [
    "# Display the chart\n",
    "\n",
    "createPercentPointChangeAvgDeathsChart()"
   ]
  },
  {
   "cell_type": "markdown",
   "id": "cc709c65",
   "metadata": {},
   "source": [
    "<b>Covid vaccination data</b><br>\n",
    "   > Source : [COVID-19 Vaccinations in the United States](https://covid.cdc.gov/covid-data-tracker/#vaccinations)<br>\n",
    "     Looking into Covid vaccination percentages by party affiliation measure by 2020 Presidential elections<br>\n",
    "     Data as of : Data as of: June 26, 2021 <br>\n",
    "     Source:  [State level election results](https://dataverse.harvard.edu/file.xhtml?fileId=4299753&version=6.0)\n",
    "    "
   ]
  },
  {
   "cell_type": "markdown",
   "id": "6f6fef3d",
   "metadata": {},
   "source": [
    "## Section 3a: State level vaccination and election data/chart preparation\n",
    "\n",
    "createStateVaccinationChart()<br>\n",
    "createStateVaccinationData()<br>\n",
    "getStateLevelElectionData2020()"
   ]
  },
  {
   "cell_type": "markdown",
   "id": "c16bc66b",
   "metadata": {},
   "source": [
    "## Section 3b: State level main code for vaccinations and elections\n",
    "\n",
    "Creates a chart showing change in percentage of population vaccinated by state. Data is segmented by presidential election choice, implying state political affiliation. Bubble size is proportional to state population. (Questions: Add to legend?)"
   ]
  },
  {
   "cell_type": "code",
   "execution_count": 4,
   "id": "9e3c2dcb",
   "metadata": {},
   "outputs": [],
   "source": [
    "# Create the chart\n",
    "#createStateVaccinationChart()"
   ]
  },
  {
   "cell_type": "markdown",
   "id": "dc7845b0",
   "metadata": {},
   "source": [
    "## Section 4: Notes\n",
    "\n",
    "    Note about the data\n",
    "            The data in these files is a different version of the data in our main U.S. cases and deaths files.\n",
    "            Instead of cumulative totals, each file contains the daily number of new cases and deaths, the\n",
    "            seven-day rolling average and the seven-day rolling average per 100,000 residents.\n",
    "                      \n",
    "    Confirmed Cases\n",
    "            Confirmed cases are counts of individuals whose coronavirus infections were confirmed by a\n",
    "            laboratory test and reported by a federal, state, territorial or local government agency. Only\n",
    "            tests that detect viral RNA in a sample are considered confirmatory. These are often called\n",
    "            molecular or RT-PCR tests.\n",
    "              \n",
    "            Another dataset : https://dataverse.harvard.edu/file.xhtml?fileId=4593425&version=54.1\n",
    "              \n",
    "            Since the first reported coronavirus case in Washington State on Jan. 21, 2020, The Times has\n",
    "            tracked cases of coronavirus in real time as they were identified after testing. Because of the\n",
    "            widespread shortage of testing, however, the data is necessarily limited in the picture it presents\n",
    "            of the outbreak.\n",
    "              \n",
    "            This data is for cumulative cases\n",
    "            \n",
    "            # We can join the NYTime latest data with population data from census for 2020\n",
    "            df = pd.read_csv('https://raw.githubusercontent.com/nytimes/covid-19-data/master/us-counties.csv')\n",
    "            \n",
    "            \n",
    "  \n",
    "    "
   ]
  },
  {
   "cell_type": "markdown",
   "id": "1f099848",
   "metadata": {},
   "source": [
    "## Section 5: Daily Vaccination Rate Interactive chart \n",
    "\n",
    "Interactive charts allow the user to weild the power to slice and dice and pause and view the data as per questions arising when viewing the visualizations.\n",
    "\n",
    ">Source: Data.CDC.gov [Covid-19 Vaccinaions in the United State Jurisdiction](https://data.cdc.gov/Vaccinations/COVID-19-Vaccinations-in-the-United-States-Jurisdi/unsk-b7fc)\n",
    "\n",
    "\n"
   ]
  },
  {
   "cell_type": "code",
   "execution_count": null,
   "id": "43ead68f",
   "metadata": {},
   "outputs": [],
   "source": []
  },
  {
   "cell_type": "code",
   "execution_count": 5,
   "id": "4b573e72",
   "metadata": {},
   "outputs": [
    {
     "data": {
      "text/html": [
       "\n",
       "<div id=\"altair-viz-3c5dccd49d92434cb9777553bbec5031\"></div>\n",
       "<script type=\"text/javascript\">\n",
       "  (function(spec, embedOpt){\n",
       "    let outputDiv = document.currentScript.previousElementSibling;\n",
       "    if (outputDiv.id !== \"altair-viz-3c5dccd49d92434cb9777553bbec5031\") {\n",
       "      outputDiv = document.getElementById(\"altair-viz-3c5dccd49d92434cb9777553bbec5031\");\n",
       "    }\n",
       "    const paths = {\n",
       "      \"vega\": \"https://cdn.jsdelivr.net/npm//vega@5?noext\",\n",
       "      \"vega-lib\": \"https://cdn.jsdelivr.net/npm//vega-lib?noext\",\n",
       "      \"vega-lite\": \"https://cdn.jsdelivr.net/npm//vega-lite@4.8.1?noext\",\n",
       "      \"vega-embed\": \"https://cdn.jsdelivr.net/npm//vega-embed@6?noext\",\n",
       "    };\n",
       "\n",
       "    function loadScript(lib) {\n",
       "      return new Promise(function(resolve, reject) {\n",
       "        var s = document.createElement('script');\n",
       "        s.src = paths[lib];\n",
       "        s.async = true;\n",
       "        s.onload = () => resolve(paths[lib]);\n",
       "        s.onerror = () => reject(`Error loading script: ${paths[lib]}`);\n",
       "        document.getElementsByTagName(\"head\")[0].appendChild(s);\n",
       "      });\n",
       "    }\n",
       "\n",
       "    function showError(err) {\n",
       "      outputDiv.innerHTML = `<div class=\"error\" style=\"color:red;\">${err}</div>`;\n",
       "      throw err;\n",
       "    }\n",
       "\n",
       "    function displayChart(vegaEmbed) {\n",
       "      vegaEmbed(outputDiv, spec, embedOpt)\n",
       "        .catch(err => showError(`Javascript Error: ${err.message}<br>This usually means there's a typo in your chart specification. See the javascript console for the full traceback.`));\n",
       "    }\n",
       "\n",
       "    if(typeof define === \"function\" && define.amd) {\n",
       "      requirejs.config({paths});\n",
       "      require([\"vega-embed\"], displayChart, err => showError(`Error loading script: ${err.message}`));\n",
       "    } else if (typeof vegaEmbed === \"function\") {\n",
       "      displayChart(vegaEmbed);\n",
       "    } else {\n",
       "      loadScript(\"vega\")\n",
       "        .then(() => loadScript(\"vega-lite\"))\n",
       "        .then(() => loadScript(\"vega-embed\"))\n",
       "        .catch(showError)\n",
       "        .then(() => displayChart(vegaEmbed));\n",
       "    }\n",
       "  })({\"config\": {\"view\": {\"continuousWidth\": 400, \"continuousHeight\": 300}, \"axis\": {\"labelColor\": \"#a9a9a9\"}, \"title\": {\"fontSize\": 15}}, \"layer\": [{\"mark\": {\"type\": \"point\", \"filled\": true, \"opacity\": 1}, \"encoding\": {\"color\": {\"type\": \"nominal\", \"field\": \"party_simplified\", \"legend\": {\"title\": \"Presidential election choice:\"}, \"scale\": {\"domain\": [\"DEMOCRAT\", \"REPUBLICAN\"], \"range\": [\"#237ABD\", \"#CD2128\"]}}, \"size\": {\"type\": \"quantitative\", \"field\": \"Total population\", \"legend\": null, \"scale\": {\"range\": [150, 3000]}}, \"tooltip\": [{\"type\": \"nominal\", \"field\": \"state_po\", \"title\": \"State: \"}], \"x\": {\"type\": \"quantitative\", \"axis\": {\"format\": \"%\", \"orient\": \"top\", \"title\": null, \"values\": [0, 0.1, 0.2, 0.3, 0.4, 0.5, 0.6, 0.7, 0.8, 0.9, 1.0]}, \"field\": \"Percent with one dose\", \"scale\": {\"domain\": [0, 1.0]}}, \"y\": {\"type\": \"quantitative\", \"axis\": null, \"field\": \"y_center\"}}, \"height\": 400, \"selection\": {\"day_num\": {\"type\": \"single\", \"fields\": [\"day_num\"], \"bind\": {\"input\": \"range\", \"max\": 159, \"min\": 0, \"name\": \"Number of days since first vaccination: \", \"step\": 1}, \"init\": {\"day_num\": 159}}}, \"title\": [\"Percentage of state\\u2019s population age 18 and older that has received\", \"at least one dose of a COVID-19 vaccine as of June 26th, 2021\"], \"transform\": [{\"filter\": {\"selection\": \"day_num\"}}], \"width\": 700}, {\"mark\": {\"type\": \"text\", \"align\": \"left\", \"baseline\": \"middle\", \"color\": \"white\", \"dx\": -3, \"fontSize\": 8, \"fontWeight\": \"bold\"}, \"encoding\": {\"text\": {\"type\": \"nominal\", \"field\": \"state_po\"}, \"x\": {\"type\": \"quantitative\", \"field\": \"Percent with one dose\"}, \"y\": {\"type\": \"quantitative\", \"field\": \"y_center\"}}, \"transform\": [{\"filter\": {\"selection\": \"day_num\"}}]}, {\"data\": {\"url\": \"altair-data-719c5f9d68c80d850e629340929d35a6.json\", \"format\": {\"type\": \"json\"}}, \"mark\": {\"type\": \"rule\", \"strokeDash\": [10, 10]}, \"encoding\": {\"x\": {\"type\": \"quantitative\", \"field\": \"x\"}}}], \"data\": {\"url\": \"altair-data-60c7cf46a6a5e9fc3549d9b8d783ce00.json\", \"format\": {\"type\": \"json\"}}, \"$schema\": \"https://vega.github.io/schema/vega-lite/v4.8.1.json\"}, {\"mode\": \"vega-lite\"});\n",
       "</script>"
      ],
      "text/plain": [
       "alt.LayerChart(...)"
      ]
     },
     "execution_count": 5,
     "metadata": {},
     "output_type": "execute_result"
    }
   ],
   "source": [
    "final_chart = createDailyInteractiveVaccinationChart()\n",
    "final_chart"
   ]
  },
  {
   "cell_type": "markdown",
   "id": "f8dda77b",
   "metadata": {},
   "source": [
    "## Section 5  Mask data\n",
    "\n"
   ]
  },
  {
   "cell_type": "code",
   "execution_count": 6,
   "id": "89ac824a",
   "metadata": {},
   "outputs": [
    {
     "data": {
      "application/vnd.plotly.v1+json": {
       "config": {
        "plotlyServerURL": "https://plot.ly"
       },
       "data": [
        {
         "link": {
          "color": [
           "#BEDDFE",
           "#FAED27",
           "#FF0000",
           "#0000FF",
           "#FFE9EC"
          ],
          "hovertemplate": "Link from  %{source.customdata}<br />to %{target.customdata}<br />has  %{value} counties<extra></extra>",
          "source": [
           0,
           0,
           0,
           1,
           1
          ],
          "target": [
           2,
           3,
           4,
           2,
           4
          ],
          "value": [
           448,
           13,
           15,
           66,
           2571
          ]
         },
         "node": {
          "color": [
           "#80CEE1",
           "#FF6961",
           "#0000FF",
           "#96D2B7",
           "#FF0000"
          ],
          "customdata": [
           "Voted Democrat in 2016",
           "Voted Republican in 2016",
           "Voted Democrat in 2020",
           "Voted Other in 2020",
           "Voted Republican in 2020"
          ],
          "hovertemplate": "%{customdata} has  %{value} counties<extra></extra>",
          "label": [
           "Voted Democrat in 2016",
           "Voted Republican in 2016",
           "Voted Democrat in 2020",
           "Voted Other in 2020",
           "Voted Republican in 2020"
          ],
          "line": {
           "color": "black",
           "width": 0.5
          },
          "pad": 15,
          "thickness": 20
         },
         "type": "sankey"
        }
       ],
       "layout": {
        "autosize": true,
        "font": {
         "size": 12
        },
        "template": {
         "data": {
          "pie": [
           {
            "automargin": true,
            "type": "pie"
           }
          ],
          "scatter": [
           {
            "line": {
             "width": 3
            },
            "marker": {
             "size": 9
            },
            "type": "scatter"
           }
          ],
          "scatter3d": [
           {
            "line": {
             "width": 3
            },
            "marker": {
             "size": 9
            },
            "type": "scatter3d"
           }
          ],
          "scattergeo": [
           {
            "line": {
             "width": 3
            },
            "marker": {
             "size": 9
            },
            "type": "scattergeo"
           }
          ],
          "scattergl": [
           {
            "line": {
             "width": 3
            },
            "marker": {
             "size": 9
            },
            "type": "scattergl"
           }
          ],
          "scatterpolar": [
           {
            "line": {
             "width": 3
            },
            "marker": {
             "size": 9
            },
            "type": "scatterpolar"
           }
          ],
          "scatterpolargl": [
           {
            "line": {
             "width": 3
            },
            "marker": {
             "size": 9
            },
            "type": "scatterpolargl"
           }
          ],
          "scatterternary": [
           {
            "line": {
             "width": 3
            },
            "marker": {
             "size": 9
            },
            "type": "scatterternary"
           }
          ],
          "table": [
           {
            "cells": {
             "height": 30
            },
            "header": {
             "height": 36
            },
            "type": "table"
           }
          ]
         },
         "layout": {
          "font": {
           "size": 18
          },
          "xaxis": {
           "title": {
            "standoff": 15
           }
          },
          "yaxis": {
           "title": {
            "standoff": 15
           }
          }
         }
        },
        "title": {
         "text": "County affiliation change from 2016 to 2020"
        }
       }
      },
      "image/png": "[encoded data removed]"
     },
     "metadata": {},
     "output_type": "display_data"
    }
   ],
   "source": [
    "fig = createSankeyForAffilitionChange()\n",
    "fig"
   ]
  },
  {
   "cell_type": "markdown",
   "id": "635587f7",
   "metadata": {},
   "source": [
    "# API Calls for vaccination data\n",
    "[Source: CDC ](https://www.cdc.gov/coronavirus/2019-ncov/vaccines/distributing/reporting-counties.html)\n",
    "\n",
    "The lowdown on API calls:\n",
    "To identify and limit rogue requests, most API data provisioning sites require that one acquire an API data token. After creating a Socrata account, I was able to apply for an API token for this application [here](https://data.cdc.gov/signed_out?return_to=%2Fprofile%2Fedit%2Fdeveloper_settings).\n",
    "\n",
    "For each dataset, the CDC website also provides a URL to which this API taken can be applied. The URL request can be request the reposnse in JSON, CSV and other formats. I chose the CSV format.  Other than the token you can concatenate parameters of your GET request to the URL string.\n",
    "FOr instance in our call below, the data was requested in batches of 500,000 rows (all columns - although these can be specifically requested). And so we limit the data tp 500,000 and update the offset by 500,000 with every call.\n",
    "\n",
    "One more note about the APIToken. Since this is a personal secret access key, the token was stored in a **pickle** file (string format serialized) and then retrieved from it for the concatenation. \n",
    "\n",
    "The **requests** module of Python is used to submit this token and parameter enhanced URL. Since we are only interested in reading the data, we issue a **GET** command. \n",
    "\n",
    "The response **text** is converted to csv using the StringIO to convert it to String and then using pandas read_csv call which saves the data along with the headers into a dataframe.\n",
    "\n",
    "The data for the vaciinations are updated on a daily basis by the CDC. Using the API enables us to update the visualization as and when the data gets updated. (We are storing it into a CSV file so that we do not send too many calls to the API endpoint as we develop).\n",
    "\n",
    "\n",
    "**DATA AT COUNTY LEVEL ISSUES**\n",
    "> Exceptions to County-Level Data\n",
    "California does not report the county of residence for persons receiving a vaccine when the resident’s county has a population of fewer than 20,000 people. (CDC)\n",
    "Hawaii does not provide CDC with county-of-residence information. (CDC)\n",
    "Texas provides data that are aggregated at the state level and cannot be stratified by county. (CDC)\n",
    "For several counties in Colorado the percent of population is marked as 0 - this appears to be a reporting and recording issue to me but I am not sure how a large number of counties in Colorado have no vaccination counts at all.(My observation)\n",
    "\n",
    "\n",
    "\n",
    "## The chart below aloows for comparison of two states  for trend of delta variant cases- one selected from the  vaccination graph above and one selected from the dropdown below. The average US trend is also plotted as a baseline.\n",
    "\n",
    "\n",
    "Create a time series chart from the time of vaccinations for US and all states"
   ]
  },
  {
   "cell_type": "code",
   "execution_count": 7,
   "id": "f53920e7",
   "metadata": {},
   "outputs": [
    {
     "ename": "FileNotFoundError",
     "evalue": "[WinError 3] The system cannot find the path specified: '..\\\\DataForPresidentialElectionsAndCovid\\\\..\\\\DataForPresidentialElectionsAndCovid\\\\Dataset 9 State Vaccine Data Using API'",
     "output_type": "error",
     "traceback": [
      "\u001b[1;31m---------------------------------------------------------------------------\u001b[0m",
      "\u001b[1;31mFileNotFoundError\u001b[0m                         Traceback (most recent call last)",
      "\u001b[1;32m<ipython-input-7-70fe4a514b0a>\u001b[0m in \u001b[0;36m<module>\u001b[1;34m\u001b[0m\n\u001b[0;32m      3\u001b[0m \u001b[0mvaccine_chart\u001b[0m\u001b[1;33m,\u001b[0m \u001b[0mus_timeseries\u001b[0m\u001b[1;33m,\u001b[0m \u001b[0mstate_cases_delta_chart\u001b[0m\u001b[1;33m,\u001b[0m\u001b[0;31m\\\u001b[0m\u001b[1;33m\u001b[0m\u001b[1;33m\u001b[0m\u001b[0m\n\u001b[0;32m      4\u001b[0m \u001b[0mstate_selectors\u001b[0m\u001b[1;33m,\u001b[0m \u001b[0mrules\u001b[0m\u001b[1;33m,\u001b[0m \u001b[0mtooltip_text1\u001b[0m\u001b[1;33m,\u001b[0m\u001b[0;31m\\\u001b[0m\u001b[1;33m\u001b[0m\u001b[1;33m\u001b[0m\u001b[0m\n\u001b[1;32m----> 5\u001b[1;33m \u001b[0mtooltip_text2\u001b[0m\u001b[1;33m,\u001b[0m \u001b[0mtooltip_text3\u001b[0m\u001b[1;33m,\u001b[0m \u001b[0mpoints\u001b[0m\u001b[1;33m=\u001b[0m \u001b[0mcreateCombinedVaccinationAndDeltaVariantTrend\u001b[0m\u001b[1;33m(\u001b[0m\u001b[1;33m)\u001b[0m\u001b[1;33m\u001b[0m\u001b[1;33m\u001b[0m\u001b[0m\n\u001b[0m\u001b[0;32m      6\u001b[0m \u001b[1;33m\u001b[0m\u001b[0m\n\u001b[0;32m      7\u001b[0m vaccine_chart & alt.layer(\n",
      "\u001b[1;32mF:\\Users\\Matthieu\\Documents\\OneDrive\\code\\jupyter_nb_data\\UMSI\\Milestone1BPresidentialElectionAndCovid\\CodeForPresidentialElectionsAndCovid\\ETLForElectionAndVaccinationData.py\u001b[0m in \u001b[0;36mcreateCombinedVaccinationAndDeltaVariantTrend\u001b[1;34m()\u001b[0m\n\u001b[0;32m   1904\u001b[0m         \u001b[0mus_case_rolling_df\u001b[0m\u001b[1;33m,\u001b[0m\u001b[1;33m\u001b[0m\u001b[1;33m\u001b[0m\u001b[0m\n\u001b[0;32m   1905\u001b[0m         \u001b[0mstate_case_rolling_df\u001b[0m\u001b[1;33m,\u001b[0m\u001b[1;33m\u001b[0m\u001b[1;33m\u001b[0m\u001b[0m\n\u001b[1;32m-> 1906\u001b[1;33m     ) = getStateVaccinationDataWithAPI()\n\u001b[0m\u001b[0;32m   1907\u001b[0m \u001b[1;33m\u001b[0m\u001b[0m\n\u001b[0;32m   1908\u001b[0m     \u001b[1;31m# Create the vaccination Choropleth/Geo chart\u001b[0m\u001b[1;33m\u001b[0m\u001b[1;33m\u001b[0m\u001b[1;33m\u001b[0m\u001b[0m\n",
      "\u001b[1;32mF:\\Users\\Matthieu\\Documents\\OneDrive\\code\\jupyter_nb_data\\UMSI\\Milestone1BPresidentialElectionAndCovid\\CodeForPresidentialElectionsAndCovid\\ETLForElectionAndVaccinationData.py\u001b[0m in \u001b[0;36mgetStateVaccinationDataWithAPI\u001b[1;34m()\u001b[0m\n\u001b[0;32m   1709\u001b[0m \u001b[1;33m\u001b[0m\u001b[0m\n\u001b[0;32m   1710\u001b[0m     \u001b[1;31m############### When developing comment above and uncomment out read from file below ###########################\u001b[0m\u001b[1;33m\u001b[0m\u001b[1;33m\u001b[0m\u001b[1;33m\u001b[0m\u001b[0m\n\u001b[1;32m-> 1711\u001b[1;33m     folder_name = os.listdir(\n\u001b[0m\u001b[0;32m   1712\u001b[0m         \u001b[0mDataFolder\u001b[0m\u001b[1;33m\u001b[0m\u001b[1;33m\u001b[0m\u001b[0m\n\u001b[0;32m   1713\u001b[0m         \u001b[1;33m/\u001b[0m \u001b[1;34mr\"../DataForPresidentialElectionsAndCovid/Dataset 9 State Vaccine Data Using API/\"\u001b[0m\u001b[1;33m\u001b[0m\u001b[1;33m\u001b[0m\u001b[0m\n",
      "\u001b[1;31mFileNotFoundError\u001b[0m: [WinError 3] The system cannot find the path specified: '..\\\\DataForPresidentialElectionsAndCovid\\\\..\\\\DataForPresidentialElectionsAndCovid\\\\Dataset 9 State Vaccine Data Using API'"
     ]
    }
   ],
   "source": [
    "# Put the five layers into a chart and bind the data\n",
    "\n",
    "vaccine_chart, us_timeseries, state_cases_delta_chart,\\\n",
    "state_selectors, rules, tooltip_text1,\\\n",
    "tooltip_text2, tooltip_text3, points= createCombinedVaccinationAndDeltaVariantTrend()\n",
    "\n",
    "vaccine_chart & alt.layer(\n",
    "    (state_cases_delta_chart + us_timeseries), \n",
    "      state_selectors, rules, tooltip_text1, \n",
    "      tooltip_text2, tooltip_text3, points\n",
    ").properties(\n",
    "    width=600, height=300\n",
    ")"
   ]
  },
  {
   "cell_type": "markdown",
   "id": "1f8a951f",
   "metadata": {},
   "source": [
    "> The New York Times is releasing estimates of mask usage by county in the United States.\n",
    "\n",
    ">This data comes from a large number of interviews conducted online by the global data and survey firm Dynata at the request of The New York Times. The firm asked a question about mask use to obtain 250,000 survey responses between July 2 and July 14, enough data to provide estimates more detailed than the state level. (Several states have imposed new mask requirements since the completion of these interviews.)\n",
    "Specifically, each participant was asked: How often do you wear a mask in public when you expect to be within six feet of another person?\n",
    "\n",
    ">This survey was conducted a single time, and at this point we have no plans to update the data or conduct the survey again.\n",
    "The fields have the following definitions:\n",
    "\n",
    "    COUNTYFP: The county FIPS code.\n",
    "    NEVER: The estimated share of people in this county who would say never in response to the question \n",
    "     “How often do you wear a mask in public when you expect to be within six feet of another person?”\n",
    "    RARELY: The estimated share of people in this county who would say rarely\n",
    "    SOMETIMES: The estimated share of people in this county who would say sometimes\n",
    "    FREQUENTLY: The estimated share of people in this county who would say frequently\n",
    "    ALWAYS: The estimated share of people in this county who would say always\n",
    "    \n",
    "    \n",
    ">What the numbers mean\n",
    "To transform raw survey responses into county-level estimates, the survey data was weighted by age and gender, and survey respondents’ locations were approximated from their ZIP codes. Then estimates of mask-wearing were made for each census tract by taking a weighted average of the 200 nearest responses, with closer responses getting more weight in the average. These tract-level estimates were then rolled up to the county level according to each tract’s total population.\n",
    "\n",
    ">By rolling the estimates up to counties, it reduces a lot of the random noise that is seen at the tract level. In addition, the shapes in the map are constructed from census tracts that have been merged together — this helps in displaying a detailed map, but is less useful than county-level in analyzing the data.\n",
    "\n"
   ]
  },
  {
   "cell_type": "code",
   "execution_count": null,
   "id": "d2dba5bf",
   "metadata": {},
   "outputs": [],
   "source": [
    "createCombinedElectoralAndMaskUsageCharts().configure_view(strokeOpacity=0)\n"
   ]
  },
  {
   "cell_type": "markdown",
   "id": "ca1cb2f2",
   "metadata": {},
   "source": [
    " ### Dependencies \n",
    "    %reload_ext watermark\n",
    "    CPython 3.7.7\n",
    "    IPython 7.19.0\n",
    "\n",
    "    pandas 1.1.0\n",
    "    ipywidgets 7.5.1\n",
    "    plotly 4.12.0\n",
    "    altair 4.1.0\n",
    "\n",
    "    compiler   : MSC v.1900 64 bit (AMD64)\n",
    "    system     : Windows\n",
    "    release    : 10\n",
    "    machine    : AMD64\n",
    "    processor  : Intel64 Family 6 Model 142 Stepping 10, GenuineIntel\n",
    "    CPU cores  : 8\n",
    "    interpreter: 64bit"
   ]
  },
  {
   "cell_type": "markdown",
   "id": "a8da49f0",
   "metadata": {},
   "source": [
    "\n"
   ]
  },
  {
   "cell_type": "code",
   "execution_count": null,
   "id": "340810b2",
   "metadata": {},
   "outputs": [],
   "source": [
    "### HOW THE CREDENTIALS WERE STORED IN A PICKLE FILES\n",
    "\n",
    "# import pickle\n",
    "\n",
    "# ## https://data.cdc.gov/profile/edit/developer_settings\n",
    "\n",
    "# APIToken = \"MyToken\"\n",
    "# pickle_out = open(\"APIToken.pickle\",\"wb\")\n",
    "# pickle.dump(APIToken, pickle_out)\n",
    "# pickle_out.close()"
   ]
  },
  {
   "cell_type": "markdown",
   "id": "de4081ca",
   "metadata": {},
   "source": []
  },
  {
   "cell_type": "markdown",
   "id": "3a98107a",
   "metadata": {},
   "source": [
    "## Section 6: Sources\n",
    "\n",
    " >Source: [New York Time Github Covid data](https://raw.githubusercontent.com/nytimes/covid-19-data/master/us-counties.csv)<br>      [Estimates of mask use](https://github.com/nytimes/covid-19-data/tree/master/mask-use)\n"
   ]
  },
  {
   "cell_type": "code",
   "execution_count": null,
   "id": "11060b38",
   "metadata": {},
   "outputs": [],
   "source": [
    "# %load_ext watermark\n",
    "# %watermark -v -m -p pandas,ipywidgets,plotly,altair\n"
   ]
  }
 ],
 "metadata": {
  "kernelspec": {
   "display_name": "Python 3.7.4 64-bit ('base': conda)",
   "language": "python",
   "name": "python37464bitbasecondad77fbb547fec46e6b59cb8c0fade981c"
  },
  "language_info": {
   "codemirror_mode": {
    "name": "ipython",
    "version": 3
   },
   "file_extension": ".py",
   "mimetype": "text/x-python",
   "name": "python",
   "nbconvert_exporter": "python",
   "pygments_lexer": "ipython3",
   "version": "3.8.8"
  },
  "toc": {
   "base_numbering": 1,
   "nav_menu": {},
   "number_sections": true,
   "sideBar": true,
   "skip_h1_title": false,
   "title_cell": "Table of Contents",
   "title_sidebar": "Contents",
   "toc_cell": false,
   "toc_position": {},
   "toc_section_display": true,
   "toc_window_display": false
  },
  "varInspector": {
   "cols": {
    "lenName": 16,
    "lenType": 16,
    "lenVar": 40
   },
   "kernels_config": {
    "python": {
     "delete_cmd_postfix": "",
     "delete_cmd_prefix": "del ",
     "library": "var_list.py",
     "varRefreshCmd": "print(var_dic_list())"
    },
    "r": {
     "delete_cmd_postfix": ") ",
     "delete_cmd_prefix": "rm(",
     "library": "var_list.r",
     "varRefreshCmd": "cat(var_dic_list()) "
    }
   },
   "types_to_exclude": [
    "module",
    "function",
    "builtin_function_or_method",
    "instance",
    "_Feature"
   ],
   "window_display": false
  }
 },
 "nbformat": 4,
 "nbformat_minor": 5
}
